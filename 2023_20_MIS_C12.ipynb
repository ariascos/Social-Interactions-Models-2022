{
 "cells": [
  {
   "cell_type": "markdown",
   "metadata": {},
   "source": [
    "# MIS: Clase complementaria 12 (2023-20)\n",
    "\n",
    "En esta clase se estudiará el algoritmo de Louvain y tendrá un trabajo grupal."
   ]
  },
  {
   "cell_type": "markdown",
   "metadata": {},
   "source": [
    "#### Parte 1: Entienda lo que está escrito."
   ]
  },
  {
   "cell_type": "code",
   "execution_count": 26,
   "metadata": {},
   "outputs": [],
   "source": [
    "import networkx as nx\n",
    "import numpy as np\n",
    "import copy\n"
   ]
  },
  {
   "cell_type": "code",
   "execution_count": 27,
   "metadata": {},
   "outputs": [],
   "source": [
    "def getting_ready(graph):\n",
    "    # Crea el listado de nodos\n",
    "    nodes = graph.nodes\n",
    "    # Crea matriz de adyacencia\n",
    "    A = nx.adjacency_matrix(graph).todense()\n",
    "    # Crea vector de k's\n",
    "    Ks = A.sum(1)\n",
    "    # Crea m\n",
    "    m = ((Ks.sum(0))/2)[0,0]\n",
    "    # Crea las comunidades e identificadores de nodos con su comunidad\n",
    "    Communities = {\"C_{}\".format(i):[i] for i in nodes}\n",
    "    Identifier = {i:\"C_{}\".format(i) for i in nodes}\n",
    "    C = {\"Com\":Communities,\"Id\":Identifier}\n",
    "    return A,Ks,m,C\n"
   ]
  },
  {
   "cell_type": "code",
   "execution_count": 28,
   "metadata": {},
   "outputs": [],
   "source": [
    "def new_partition(C,node,community):\n",
    "    CC = copy.deepcopy(C)\n",
    "    Com_In = \"C_{}\".format(community)\n",
    "    Com_Out = CC[\"Id\"][node]\n",
    "    # Se modifican las comunidades\n",
    "    CC[\"Com\"][Com_In].append(node)\n",
    "    CC[\"Com\"][Com_Out].remove(node)\n",
    "    # Se modifica el id de la comunidad en la que node está\n",
    "    CC[\"Id\"][node] = Com_In\n",
    "    # Se entrega la nueva partición\n",
    "    return CC "
   ]
  },
  {
   "cell_type": "code",
   "execution_count": 29,
   "metadata": {},
   "outputs": [],
   "source": [
    "def sigmas(A,C,community):\n",
    "    # Se inicializan los sigmas\n",
    "    sigma_in = 0\n",
    "    sigma_tot = 0\n",
    "    # Se obtiene el identificador de la comunidad\n",
    "    Com = \"C_{}\".format(community)\n",
    "    # Se obtienen los miembros de la comunidad en cuestión\n",
    "    members = C[\"Com\"][Com]\n",
    "    # Se recorren los miembros para actualizar los sigmas\n",
    "    for member in members:\n",
    "        sigma_in += A[members,member].sum(0)[0,0]\n",
    "        sigma_tot += A[:,member].sum(0)[0,0]\n",
    "    return sigma_in,sigma_tot\n"
   ]
  },
  {
   "cell_type": "code",
   "execution_count": 30,
   "metadata": {},
   "outputs": [],
   "source": [
    "def f_k_i_in(A,C,node,community):\n",
    "    # Se obtiene el identificador de la comunidad\n",
    "    Com = \"C_{}\".format(community)\n",
    "    # Se obtienen los miembros de la comunidad en cuestión\n",
    "    members = C[\"Com\"][Com]\n",
    "    # Se obtiene lo que necesitamos\n",
    "    k_i_in = A[node,members].sum(1)[0,0]\n",
    "    return k_i_in"
   ]
  },
  {
   "cell_type": "code",
   "execution_count": 31,
   "metadata": {},
   "outputs": [],
   "source": [
    "def modularity_gain(A,C,node,community,Ks,m):\n",
    "    # Se obtienen los componentes de la fórmula\n",
    "    sigma_in,sigma_tot = sigmas(A,C,community)\n",
    "    k_i_in = f_k_i_in(A,C,node,community)\n",
    "    k_i = Ks[node,0]\n",
    "    # Se construye la fórmula\n",
    "    den =2*m\n",
    "    term_1 = (sigma_in+k_i_in)/den - ((sigma_tot+k_i)/den)**2 \n",
    "    term_2 = (sigma_in/den)-(sigma_tot/den)**2-(k_i/den)**2\n",
    "    # Delta\n",
    "    DQ = term_1-term_2\n",
    "    return DQ\n"
   ]
  },
  {
   "cell_type": "code",
   "execution_count": 32,
   "metadata": {},
   "outputs": [],
   "source": [
    "def assign_to_community(graph,A,C,node,Ks,m):\n",
    "    # Se obtienen los vecinos del nodo node:\n",
    "    vecinos = nx.neighbors(graph,node)\n",
    "    # Se encuentran los gains:\n",
    "    gains = {j:modularity_gain(A,C,node,j,Ks,m) for j in vecinos}\n",
    "    # Se optimiza y se saca la comunidad a la que queremos enviar al nodo node:\n",
    "    community = max(gains, key=gains.get)\n",
    "\n",
    "    # Se actualizan las comunidades\n",
    "    Com_In = \"C_{}\".format(community)\n",
    "    Com_Out = C[\"Id\"][node]\n",
    "    # Se modifican las comunidades\n",
    "    C[\"Com\"][Com_In].append(node)\n",
    "    C[\"Com\"][Com_Out].remove(node)\n",
    "    # Se modifica el id de la comunidad en la que node está\n",
    "    C[\"Id\"][node] = Com_In\n",
    "\n",
    "    # Se retornan los valores relevantes\n",
    "    return C"
   ]
  },
  {
   "cell_type": "markdown",
   "metadata": {},
   "source": [
    "#### Parte 2: Use las funciones anteriores para crear el algoritmo.\n",
    "\n",
    "Recuerde, en este punto ustedes deben entender y plantear el algoritmo según les parezca."
   ]
  }
 ],
 "metadata": {
  "kernelspec": {
   "display_name": "Python 3",
   "language": "python",
   "name": "python3"
  },
  "language_info": {
   "codemirror_mode": {
    "name": "ipython",
    "version": 3
   },
   "file_extension": ".py",
   "mimetype": "text/x-python",
   "name": "python",
   "nbconvert_exporter": "python",
   "pygments_lexer": "ipython3",
   "version": "3.10.5"
  }
 },
 "nbformat": 4,
 "nbformat_minor": 2
}
