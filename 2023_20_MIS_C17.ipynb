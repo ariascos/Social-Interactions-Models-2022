{
 "cells": [
  {
   "cell_type": "markdown",
   "metadata": {},
   "source": [
    "# MIS: Clase Complementaria 17 (2023-20)"
   ]
  },
  {
   "cell_type": "markdown",
   "metadata": {},
   "source": [
    "El día de hoy nos centraremos en el entendimiento del planteamiento de un algoritmo que permite calcular los caminos más cortos de un nodo a otro."
   ]
  },
  {
   "cell_type": "code",
   "execution_count": 1,
   "metadata": {},
   "outputs": [],
   "source": [
    "# Importar paquetes relevantes\n",
    "import numpy as np\n",
    "import networkx as nx\n",
    "import itertools as it\n",
    "import random\n",
    "\n",
    "# Importar la librería de Google OR-Tools\n",
    "from ortools.linear_solver import pywraplp"
   ]
  },
  {
   "cell_type": "markdown",
   "metadata": {},
   "source": [
    "A continuación se presenta un ejemplo de transporte óptimo. A partir del ejemplo se desarrollará una actividad en clase.\n",
    "\n",
    "El problema:\n",
    "\n",
    "MG Auto cuenta con tres plantas en Los Ángeles, Detroit y Nueva Orleáns, y dos importantes centros de distribución en Denver y Miami. Las capacidades trimestrales de las tres plantas son 1000, 1500 y 1200 automóviles, y las demandas de los dos centros de distribución durante el mismo periodo son de 2300 y 1400 automóviles. La distancia en millas entre las plantas y los centros de distribución aparece en la siguiente tabla:\n",
    "\n",
    "\n",
    "| Ciudades    | Denver | Miami |\n",
    "|---:|---:|---:|\n",
    "|      LA     |  1000  |  2690 |\n",
    "|   Detroit   |  1250  |  1350 |\n",
    "| New Orleans |  1275  |   850 |\n",
    "\n"
   ]
  },
  {
   "cell_type": "markdown",
   "metadata": {},
   "source": [
    "La siguiente imagen representa el problema previo, mostrando las demandas y ofertas de cada una de las ciudades.\n",
    "\n",
    "\n",
    "![Image2](https://www.ingenieriaindustrialonline.com/wp-content/uploads/2021/08/Figure-2021-08-10-093443-1.png)"
   ]
  },
  {
   "cell_type": "code",
   "execution_count": 2,
   "metadata": {},
   "outputs": [
    {
     "name": "stdout",
     "output_type": "stream",
     "text": [
      "Costo total =  313200.0 \n",
      "\n",
      "|    Los Ángeles      ->        Denver        | Cantidad:        1000.0       |\n",
      "|    Los Ángeles      ->        Miami         | Cantidad:         0.0         |\n",
      "|      Detroit        ->        Denver        | Cantidad:        1300.0       |\n",
      "|      Detroit        ->        Miami         | Cantidad:        200.0        |\n",
      "|    New Orleans      ->        Denver        | Cantidad:         0.0         |\n",
      "|    New Orleans      ->        Miami         | Cantidad:        1200.0       |\n"
     ]
    }
   ],
   "source": [
    "# Ejemplo de transporte óptimo.\n",
    "# Código tomado de https://www.ingenieriaindustrialonline.com/investigacion-de-operaciones/solucion-de-un-modelo-de-transporte-mediante-un-algoritmo-de-asignacion/\n",
    "\n",
    "# Declarar el solucionador que abordará el modelo\n",
    "solver = pywraplp.Solver.CreateSolver('SCIP')\n",
    "\n",
    "# Data del modelo\n",
    "costos = [\n",
    "    [ 80, 215],\n",
    "    [100, 108],\n",
    "    [102,  68],\n",
    "]\n",
    "\n",
    "plantas = ['Los Ángeles', 'Detroit', 'New Orleans']\n",
    "cedis = ['Denver', 'Miami']\n",
    "\n",
    "num_plantas = len(costos)\n",
    "num_cedis = len(costos[0])\n",
    "\n",
    "# Variables del modelo\n",
    "x = {}\n",
    "for i in range(num_plantas):\n",
    "    for j in range(num_cedis):\n",
    "        x[i, j] = solver.IntVar(0, solver.infinity(), '')\n",
    "        \n",
    "#Restricciones de disponibilidad (oferta en plantas) \n",
    "solver.Add(solver.Sum([x[0, j] for j in range(num_cedis)]) <= 1000) \n",
    "solver.Add(solver.Sum([x[1, j] for j in range(num_cedis)]) <= 1500) \n",
    "solver.Add(solver.Sum([x[2, j] for j in range(num_cedis)]) <= 1200) \n",
    "\n",
    "#Restricciones de demanda (cedis) \n",
    "solver.Add(solver.Sum([x[i, 0] for i in range(num_plantas)]) >= 2300) \n",
    "solver.Add(solver.Sum([x[i, 1] for i in range(num_plantas)]) >= 1400)      \n",
    "\n",
    "\n",
    "\n",
    "# Función objetivo con criterio de optimización: minimizar\n",
    "objective_terms = []\n",
    "for i in range(num_plantas):\n",
    "    for j in range(num_cedis):\n",
    "        objective_terms.append(costos[i][j] * x[i, j])\n",
    "\n",
    "solver.Minimize(solver.Sum(objective_terms))\n",
    "\n",
    "# Invoca el solucionador\n",
    "status = solver.Solve()\n",
    "\n",
    "# Configura los parámetros de impresión, las salidas del modelo\n",
    "if status == pywraplp.Solver.OPTIMAL or status == pywraplp.Solver.FEASIBLE:\n",
    "    print('Costo total = ', solver.Objective().Value(), '\\n')\n",
    "\n",
    "    for i in range(num_plantas):\n",
    "        for j in range(num_cedis):\n",
    "            print('|{:^20} -> {:^20} | Cantidad: {:^20}|'.format(\n",
    "            plantas[i],\n",
    "            cedis[j],\n",
    "            x[i, j].solution_value())) \n",
    "\n"
   ]
  },
  {
   "cell_type": "markdown",
   "metadata": {},
   "source": [
    "En la siguiente imagen se pueden apreciar las asignaciones finales de la oferta disponible\n",
    " \n",
    "![Image2](https://www.ingenieriaindustrialonline.com/wp-content/uploads/2021/08/modelo-de-transporte-solucion-de-red.png)"
   ]
  },
  {
   "cell_type": "markdown",
   "metadata": {},
   "source": [
    "A continuación implemente una función que reciba un grafo con pesos (atributo de enlaces llamado \"costos\") de ir de un conjunto de nodos \"O\" (oferentes) a un conjunto de nodos \"D\" (demandantes). Además, el grafo contiene la clasificación del nodo (atributo de nodo llamado \"tipo\", el cuál es \"O\" u \"D\") y un valor de Oferta/Demanda (atributo de nodo llamado \"valor\"). La función debe imprimir la distribución de la oferta entre los demandantes y retornar un grafo que tenga como únicas conexiones las que se establecen entre oferentes que venden una cantidad positiva a un demandante (en un atributo de enlace llamado \"transferencia\"). \n",
    "\n",
    "La estructura de la función es transporte_optimo(grafo:nx.DiGraph)->nx.DiGraph. Finalmente, para que esta implementación funcione asegurese que la oferta agregada es mayor o igual a la demanda agregada. Si este no es el caso, su función debe levantar una excepción que diga \"Imposible realizar la optimización\".     "
   ]
  },
  {
   "cell_type": "code",
   "execution_count": 3,
   "metadata": {},
   "outputs": [],
   "source": [
    "def asignador_tipo(i,umbral):\n",
    "    tipo = 'D'\n",
    "    if i<umbral:\n",
    "        tipo = 'O'\n",
    "    return tipo\n",
    "\n",
    "def asignador_enlaces(i,j,umbral):\n",
    "    asignado = False\n",
    "    if (i<umbral) and (j>=umbral):\n",
    "        asignado = True \n",
    "    return asignado\n",
    "\n",
    "def asignador_costos(a,b):\n",
    "    asignado = random.randint(a,b)\n",
    "    return asignado"
   ]
  },
  {
   "cell_type": "code",
   "execution_count": 4,
   "metadata": {},
   "outputs": [],
   "source": [
    "# Grafo para hacer pruebas:\n",
    "\n",
    "# Básicos\n",
    "N = 10 # Número de agentes\n",
    "umbral = (N//4)*3 # Umbral que separa los ids de los oferentes (<umbral) y los demandantes (>=umbral)\n",
    "a = 20 # Límite inferior del costo\n",
    "b = 80 # Límite superior del costo\n",
    "alpha = 1 # \\alpha\\in (0,1] Relación aproximada máxima de Demanda/Oferta \n",
    "\n",
    "# Creación del grafo\n",
    "G = nx.DiGraph()\n",
    "G.add_nodes_from(range(N))\n",
    "G.add_edges_from([(i,j) for i,j in it.product(G.nodes,G.nodes) if asignador_enlaces(i,j,umbral)])\n",
    "\n",
    "# Atributo de tipo de agente\n",
    "dict_tipo = {i:asignador_tipo(i,umbral) for i in G.nodes}\n",
    "nx.set_node_attributes(G,dict_tipo,'tipo')\n",
    "\n",
    "# Atributo de costo de los enlaces\n",
    "dict_costos = {enlace:asignador_costos(a,b) for enlace in G.edges}\n",
    "nx.set_edge_attributes(G,dict_costos,'costos')\n",
    "\n",
    "# Atributo de valor\n",
    "A = np.floor(a*(N/umbral))\n",
    "B = np.floor(b*(N/umbral))\n",
    "dict_D = {i:asignador_costos(A,B) for i in G.nodes if G.nodes[i]['tipo']=='D'}\n",
    "dict_O = {i:asignador_costos(a,b) for i in G.nodes if G.nodes[i]['tipo']=='O'}\n",
    "c = 0\n",
    "oferta = sum(dict_O.values())\n",
    "for nodo in dict_D:\n",
    "    if c+dict_D[nodo]>alpha*oferta:\n",
    "        dict_D[nodo] = 0\n",
    "    c += dict_D[nodo]\n",
    "dict_valores = {}\n",
    "\n",
    "for diccionario in [dict_O,dict_D]:\n",
    "    for nodo in diccionario:\n",
    "        dict_valores[nodo] = diccionario[nodo]\n",
    "\n",
    "nx.set_node_attributes(G,dict_valores,'valor')"
   ]
  },
  {
   "cell_type": "code",
   "execution_count": 5,
   "metadata": {},
   "outputs": [
    {
     "data": {
      "text/plain": [
       "{0: 68, 1: 58, 2: 43, 3: 79, 4: 43, 5: 74, 6: 85, 7: 38, 8: 114, 9: 128}"
      ]
     },
     "execution_count": 5,
     "metadata": {},
     "output_type": "execute_result"
    }
   ],
   "source": [
    "# Pueden revisar esto para ver los atributos\n",
    "\n",
    "#nx.get_edge_attributes(G,'costos')\n",
    "#nx.get_node_attributes(G,'tipo')\n",
    "nx.get_node_attributes(G,'valor')"
   ]
  },
  {
   "cell_type": "code",
   "execution_count": 9,
   "metadata": {},
   "outputs": [],
   "source": [
    "# Espacio para la actividad en clase:\n",
    "   \n",
    "    "
   ]
  }
 ],
 "metadata": {
  "kernelspec": {
   "display_name": "Python 3.10.5 64-bit",
   "language": "python",
   "name": "python3"
  },
  "language_info": {
   "codemirror_mode": {
    "name": "ipython",
    "version": 3
   },
   "file_extension": ".py",
   "mimetype": "text/x-python",
   "name": "python",
   "nbconvert_exporter": "python",
   "pygments_lexer": "ipython3",
   "version": "3.10.5"
  },
  "orig_nbformat": 4,
  "vscode": {
   "interpreter": {
    "hash": "54a3d53733bdb4b0f0358cf3d547bbcb79614b900270fd5b08862d484f5a5082"
   }
  }
 },
 "nbformat": 4,
 "nbformat_minor": 2
}
