{
 "cells": [
  {
   "cell_type": "markdown",
   "metadata": {},
   "source": [
    "# MIS: CLase Complementaria 11"
   ]
  },
  {
   "cell_type": "markdown",
   "metadata": {},
   "source": [
    "La clase de hoy se centrará en ver una implementación de Girvan-Newman y posterior a ello, ustedes deberán optimizarla."
   ]
  },
  {
   "cell_type": "code",
   "execution_count": 1,
   "metadata": {},
   "outputs": [],
   "source": [
    "import networkx as nx\n",
    "import numpy as np"
   ]
  },
  {
   "cell_type": "code",
   "execution_count": 2,
   "metadata": {},
   "outputs": [],
   "source": [
    "# Red 1\n",
    "#G = nx.erdos_renyi_graph(10,0.5) # Grafo tipo Erdos-Renyi\n",
    "#G = G.to_directed()\n",
    "# Red 2\n",
    "G = nx.DiGraph()\n",
    "G.add_edges_from([(0,1),(0,2),(0,3),(1,2),(2,3),(1,4),(1,5),(0,5),(3,6),(3,7),(4,8),(4,9),(5,9),(5,10),(6,10),(7,10),(8,11),(9,11),(10,11)])"
   ]
  },
  {
   "cell_type": "code",
   "execution_count": 3,
   "metadata": {},
   "outputs": [],
   "source": [
    "# Se asignan los atributos a la red deseada.\n",
    "nx.set_node_attributes(G,{i:False for i in G.nodes},'Asignado')\n"
   ]
  },
  {
   "cell_type": "code",
   "execution_count": 27,
   "metadata": {},
   "outputs": [],
   "source": [
    "#G.has_successor\n",
    "#G.has_predecessor\n",
    "#G.has_node\n",
    "#G.has_edge"
   ]
  },
  {
   "cell_type": "code",
   "execution_count": 19,
   "metadata": {},
   "outputs": [],
   "source": [
    "# Función que construye el árbol.\n",
    "def Girvan_Newman_Step11(G,tree,root):\n",
    "    Remain = set(list(G.nodes()))\n",
    "    n = len(list(Remain))\n",
    "    conjunto = {root}\n",
    "    tree.add_node(root)\n",
    "    #Remain = Remain.difference(conjunto)\n",
    "    Remain = Remain-conjunto\n",
    "    Nivel = [conjunto]\n",
    "    for paso in range(n):\n",
    "        print(paso)\n",
    "        if Remain == set():\n",
    "            break\n",
    "        else:\n",
    "            if paso == 0:\n",
    "                Nivel1 = set(list(G.successors(root)))\n",
    "                print('Nivel 1',Nivel1)\n",
    "                for nodo in Nivel1:\n",
    "                    tree.add_edge(root,nodo)\n",
    "                Nivel.append(Nivel1)\n",
    "                Remain = Remain-Nivel1\n",
    "                #Remain = Remain.difference(Nivel1)\n",
    "            else:\n",
    "                Niv_Sig = set()\n",
    "                print('Nivel {}'.format(paso),Nivel[paso])\n",
    "                for nodo in list(Nivel[paso]):\n",
    "                    print(Remain)\n",
    "                    U = (set(list(G.successors))) & Remain\n",
    "                    #U = (set(list(G.successors))).intersection(Remain)\n",
    "                    for i in list(U):\n",
    "                        tree.add_edge(nodo,i)\n",
    "                        Niv_Sig = Niv_Sig.union(U)\n",
    "                Nivel.append(Niv_Sig)\n",
    "                Remain = Remain-Niv_Sig\n",
    "                #Remain = Remain.difference(Niv_Sig)"
   ]
  },
  {
   "cell_type": "code",
   "execution_count": 20,
   "metadata": {},
   "outputs": [],
   "source": [
    "# Función que construye el árbol.\n",
    "def Girvan_Newman_Step1(G,tree,root,atribute = 'Asignado',begin = True,end = False):\n",
    "    '''\n",
    "    -----------------------------------------------\n",
    "    inputs:\n",
    "        G (nx.DiGraph): El gráfo inicial que se quiere modificar. Este debe contener nodos y un atributo de nodos que \n",
    "        permita identificar si un nodo ya fue o no asignado al árbol.\n",
    "        tree (nx.DiGraph): Un grafo dirigido que tiene forma de árbol. Valen grafos vacíos.\n",
    "        root (int): Nodo distinguido que será la raíz del árbol tree\n",
    "        atribute (str): Nombre del atributo que permite identificar si los nodos de G ya han sido asignados.\n",
    "        begin (bool): Dice si se está en el nodo raíz del árbol a armar.\n",
    "        end (bool): Dice si se está en la última rama que se puede armar.\n",
    "\n",
    "    -----------------------------------------------\n",
    "    outputs:\n",
    "        tree (nx.DiGraph): El árbol deseado.\n",
    "    '''\n",
    "    if begin:\n",
    "        G.nodes[root][atribute] = True\n",
    "    sucesores = [i for i in G.successors(root) if G.nodes[i][atribute]==False]\n",
    "    if len(sucesores) != 0:\n",
    "        ultimo = sucesores[len(sucesores)-1] # Señalo el último sucesor\n",
    "        for i in sucesores: # Cambio el estado de los sucesores a asignados\n",
    "            tree.add_edge(root,i)\n",
    "            G.nodes[i][atribute] = True                \n",
    "        for i in sucesores: \n",
    "            predecesores = list(G.predecessors(i))\n",
    "            if i != ultimo: # Si el sucesor no es el último, solo se modifica el árbol.\n",
    "                Girvan_Newman_Step1(G = G,tree = tree,root = i,atribute = atribute,begin = False,end = False)\n",
    "            else: # Si el sucesor es el último, se modifica el árbol. Si es el nodo hoja de la última rama, se retorna el arbol.\n",
    "                Girvan_Newman_Step1(G = G,tree = tree,root = i,atribute = atribute,begin = False,end = True)\n",
    "    else:\n",
    "        if begin: # Esto permite retornar un arbol cuando la raiz es aislada\n",
    "            tree.add_node(root)\n",
    "            return tree\n",
    "        elif end:\n",
    "            return tree    "
   ]
  },
  {
   "cell_type": "code",
   "execution_count": 21,
   "metadata": {},
   "outputs": [],
   "source": [
    "# Función que encuentra el número de caminos más cortos de una raiz dada a cada nodo del árbol.\n",
    "def Girvan_Newman_Step2(tree,root,atribute1 = 'root',atribute2 = 'n_caminos',begin = True):\n",
    "    '''\n",
    "    -----------------------------------------------\n",
    "    inputs:\n",
    "        tree (nx.DiGraph): Un grafo dirigido que tiene forma de árbol. No valen grafos vacíos.\n",
    "        root (int): Nodo distinguido que será la raíz del árbol tree\n",
    "        atribute1 (str): Nombre del atributo de nodo que permite identificar si es raiz o no.\n",
    "        atribute2 (str): Nombre del atributo de nodo que permite decir cuantos caminos más \n",
    "        cortos hay del mismo a la raíz.\n",
    "        begin (bool): Dice si se está en el nodo raíz del árbol a armar.\n",
    "\n",
    "    -----------------------------------------------\n",
    "    outputs:\n",
    "        No hay.\n",
    "    '''\n",
    "    if begin:\n",
    "        if tree.nodes[root][atribute1] != True:\n",
    "            raise Exception('Ponga una raíz del árbol')\n",
    "        else:\n",
    "            tree.nodes[root][atribute2] = 1\n",
    "            #print('Nodo({})->{}'.format(root,tree.nodes[root][atribute2]))\n",
    "    #print('Nodo a evaluar: {}'.format(root))\n",
    "    sucesores = list(tree.successors(root))\n",
    "    if len(sucesores) != 0:\n",
    "        for node in sucesores:\n",
    "            if tree.nodes[node][atribute2] == -1:\n",
    "                predecesores = list(tree.predecessors(node))\n",
    "                prueba = [tree.nodes[node_pred][atribute2]!=-1 for node_pred in predecesores]\n",
    "                #print(prueba)\n",
    "                if all(prueba):\n",
    "                    valores_previos = [tree.nodes[node_pred][atribute2] for node_pred in predecesores]\n",
    "                    #print(valores_previos)\n",
    "                    tree.nodes[node][atribute2] = sum(valores_previos)\n",
    "                    #print('Nodo({})->{}'.format(node,tree.nodes[node][atribute2]))\n",
    "        for node in sucesores:\n",
    "            Girvan_Newman_Step2(tree,node,atribute1,atribute2,False)"
   ]
  },
  {
   "cell_type": "code",
   "execution_count": 22,
   "metadata": {},
   "outputs": [],
   "source": [
    "def Girvan_Newman_Step3(tree,root,atribute1 = 'root',atribute2 = 'pesos',atribute3 = 'e_pesos',begin = True):\n",
    "    '''\n",
    "    -----------------------------------------------\n",
    "    inputs:\n",
    "        tree (nx.DiGraph): Un grafo dirigido que tiene forma de árbol. No valen grafos vacíos.\n",
    "        root (int): Nodo distinguido que será la raíz del árbol tree\n",
    "        atribute1 (str): Nombre del atributo de nodo que permite identificar si es raiz o no.\n",
    "        atribute2 (str): Nombre del atributo de nodo que permite decir cuál es el peso del nodo.\n",
    "        atribute3 (str): Nombre del atributo de nodo que permite decir cuál es el peso que el \n",
    "        nodo puede heredar a sus predecesores.\n",
    "        begin (bool): Dice si se está en el nodo raíz del árbol a armar.\n",
    "\n",
    "    -----------------------------------------------\n",
    "    outputs:\n",
    "        No hay.\n",
    "    '''\n",
    "    if begin:\n",
    "        if tree.nodes[root][atribute1] != True:\n",
    "            raise Exception('Ponga una raíz del árbol')\n",
    "        hojas = [leaf for leaf in tree.nodes() if []==list(tree.successors(leaf))]\n",
    "        for hoja in hojas:\n",
    "            tree.nodes[hoja][atribute2] = 1\n",
    "            tree.nodes[hoja][atribute3] = 1/(len(list(tree.predecessors(hoja))))\n",
    "        for hoja in hojas:\n",
    "            Girvan_Newman_Step3(tree,hoja,atribute1,atribute2,atribute3,False)\n",
    "    else:\n",
    "        sucesores = list(tree.successors(root))\n",
    "        prueba = [tree.nodes[node_succ][atribute2]!=-1 for node_succ in sucesores]\n",
    "        if all(prueba):\n",
    "            tree.nodes[root][atribute2] = sum([tree.nodes[node_succ][atribute3] for node_succ in sucesores])+1\n",
    "            predecesores = list(tree.predecessors(root))\n",
    "            if len(predecesores)!=0:\n",
    "                tree.nodes[root][atribute3] = (tree.nodes[root][atribute2])/(len(predecesores))\n",
    "                for node in predecesores:\n",
    "                    Girvan_Newman_Step3(tree,node,atribute1,atribute2,atribute3,False)\n",
    "            else:\n",
    "                tree.nodes[root][atribute3] = tree.nodes[root][atribute2]\n",
    "\n",
    "\n",
    "\n",
    "    \n",
    "    "
   ]
  },
  {
   "cell_type": "code",
   "execution_count": 23,
   "metadata": {},
   "outputs": [
    {
     "name": "stdout",
     "output_type": "stream",
     "text": [
      "0\n",
      "Nivel 1 {1, 2, 3, 5}\n",
      "1\n",
      "Nivel 1 {1, 2, 3, 5}\n",
      "{4, 6, 7, 8, 9, 10, 11}\n"
     ]
    },
    {
     "ename": "TypeError",
     "evalue": "'method' object is not iterable",
     "output_type": "error",
     "traceback": [
      "\u001b[1;31m---------------------------------------------------------------------------\u001b[0m",
      "\u001b[1;31mTypeError\u001b[0m                                 Traceback (most recent call last)",
      "\u001b[1;32mc:\\Users\\mateo\\OneDrive\\Desktop\\MATEO\\TRANSITORIO\\Personal\\2022_2\\Complementarias\\MIS\\2022_20_MIS_C11.ipynb Celda 11\u001b[0m in \u001b[0;36m<cell line: 3>\u001b[1;34m()\u001b[0m\n\u001b[0;32m      <a href='vscode-notebook-cell:/c%3A/Users/mateo/OneDrive/Desktop/MATEO/TRANSITORIO/Personal/2022_2/Complementarias/MIS/2022_20_MIS_C11.ipynb#X13sZmlsZQ%3D%3D?line=0'>1</a>\u001b[0m tree \u001b[39m=\u001b[39m nx\u001b[39m.\u001b[39mDiGraph()\n\u001b[0;32m      <a href='vscode-notebook-cell:/c%3A/Users/mateo/OneDrive/Desktop/MATEO/TRANSITORIO/Personal/2022_2/Complementarias/MIS/2022_20_MIS_C11.ipynb#X13sZmlsZQ%3D%3D?line=1'>2</a>\u001b[0m GG \u001b[39m=\u001b[39m G\u001b[39m.\u001b[39mcopy()\n\u001b[1;32m----> <a href='vscode-notebook-cell:/c%3A/Users/mateo/OneDrive/Desktop/MATEO/TRANSITORIO/Personal/2022_2/Complementarias/MIS/2022_20_MIS_C11.ipynb#X13sZmlsZQ%3D%3D?line=2'>3</a>\u001b[0m Girvan_Newman_Step11(GG,tree,\u001b[39m0\u001b[39;49m)\n\u001b[0;32m      <a href='vscode-notebook-cell:/c%3A/Users/mateo/OneDrive/Desktop/MATEO/TRANSITORIO/Personal/2022_2/Complementarias/MIS/2022_20_MIS_C11.ipynb#X13sZmlsZQ%3D%3D?line=3'>4</a>\u001b[0m \u001b[39m#Girvan_Newman_Step1(GG,tree,0,atribute = 'Asignado')\u001b[39;00m\n\u001b[0;32m      <a href='vscode-notebook-cell:/c%3A/Users/mateo/OneDrive/Desktop/MATEO/TRANSITORIO/Personal/2022_2/Complementarias/MIS/2022_20_MIS_C11.ipynb#X13sZmlsZQ%3D%3D?line=4'>5</a>\u001b[0m nx\u001b[39m.\u001b[39mdraw(tree)\n",
      "\u001b[1;32mc:\\Users\\mateo\\OneDrive\\Desktop\\MATEO\\TRANSITORIO\\Personal\\2022_2\\Complementarias\\MIS\\2022_20_MIS_C11.ipynb Celda 11\u001b[0m in \u001b[0;36mGirvan_Newman_Step11\u001b[1;34m(G, tree, root)\u001b[0m\n\u001b[0;32m     <a href='vscode-notebook-cell:/c%3A/Users/mateo/OneDrive/Desktop/MATEO/TRANSITORIO/Personal/2022_2/Complementarias/MIS/2022_20_MIS_C11.ipynb#X13sZmlsZQ%3D%3D?line=25'>26</a>\u001b[0m \u001b[39mfor\u001b[39;00m nodo \u001b[39min\u001b[39;00m \u001b[39mlist\u001b[39m(Nivel[paso]):\n\u001b[0;32m     <a href='vscode-notebook-cell:/c%3A/Users/mateo/OneDrive/Desktop/MATEO/TRANSITORIO/Personal/2022_2/Complementarias/MIS/2022_20_MIS_C11.ipynb#X13sZmlsZQ%3D%3D?line=26'>27</a>\u001b[0m     \u001b[39mprint\u001b[39m(Remain)\n\u001b[1;32m---> <a href='vscode-notebook-cell:/c%3A/Users/mateo/OneDrive/Desktop/MATEO/TRANSITORIO/Personal/2022_2/Complementarias/MIS/2022_20_MIS_C11.ipynb#X13sZmlsZQ%3D%3D?line=27'>28</a>\u001b[0m     U \u001b[39m=\u001b[39m (\u001b[39mset\u001b[39m(\u001b[39mlist\u001b[39;49m(G\u001b[39m.\u001b[39;49msuccessors))) \u001b[39m&\u001b[39m Remain\n\u001b[0;32m     <a href='vscode-notebook-cell:/c%3A/Users/mateo/OneDrive/Desktop/MATEO/TRANSITORIO/Personal/2022_2/Complementarias/MIS/2022_20_MIS_C11.ipynb#X13sZmlsZQ%3D%3D?line=28'>29</a>\u001b[0m     \u001b[39m#U = (set(list(G.successors))).intersection(Remain)\u001b[39;00m\n\u001b[0;32m     <a href='vscode-notebook-cell:/c%3A/Users/mateo/OneDrive/Desktop/MATEO/TRANSITORIO/Personal/2022_2/Complementarias/MIS/2022_20_MIS_C11.ipynb#X13sZmlsZQ%3D%3D?line=29'>30</a>\u001b[0m     \u001b[39mfor\u001b[39;00m i \u001b[39min\u001b[39;00m \u001b[39mlist\u001b[39m(U):\n",
      "\u001b[1;31mTypeError\u001b[0m: 'method' object is not iterable"
     ]
    }
   ],
   "source": [
    "tree = nx.DiGraph()\n",
    "GG = G.copy()\n",
    "Girvan_Newman_Step11(GG,tree,0)\n",
    "#Girvan_Newman_Step1(GG,tree,0,atribute = 'Asignado')\n",
    "nx.draw(tree)"
   ]
  },
  {
   "cell_type": "code",
   "execution_count": 9,
   "metadata": {},
   "outputs": [
    {
     "data": {
      "image/png": "[encoded data removed]",
      "text/plain": [
       "<Figure size 432x288 with 1 Axes>"
      ]
     },
     "metadata": {},
     "output_type": "display_data"
    }
   ],
   "source": [
    "nx.draw(G)"
   ]
  },
  {
   "cell_type": "code",
   "execution_count": 10,
   "metadata": {},
   "outputs": [],
   "source": [
    "# Ejemplo con árbol ya construido (puede saltarlo si quiere)\n",
    "#tree = nx.DiGraph()\n",
    "#tree.add_edges_from([(0,1),(0,2),(0,3),(1,4),(1,5),(3,6),(3,7),(4,8),(4,9),(5,9),(5,10),(6,10),(7,10),(8,11),(9,11),(10,11)])\n",
    "#nx.draw(tree)\n"
   ]
  },
  {
   "cell_type": "code",
   "execution_count": 11,
   "metadata": {},
   "outputs": [],
   "source": [
    "# Establecimiento de los parámetros para el paso 2: raiz y número de caminos\n",
    "nx.set_node_attributes(tree,{i:False for i in tree.nodes},'root')\n",
    "tree.nodes[0]['root'] = True\n",
    "nx.set_node_attributes(tree,{i:-1 for i in tree.nodes},'n_caminos')"
   ]
  },
  {
   "cell_type": "code",
   "execution_count": 12,
   "metadata": {},
   "outputs": [
    {
     "data": {
      "text/plain": [
       "{0: 1, 1: 1, 2: 1, 3: 1, 5: 1, 4: 1, 8: 1, 9: 1, 11: 1, 6: 1, 7: 1, 10: 1}"
      ]
     },
     "execution_count": 12,
     "metadata": {},
     "output_type": "execute_result"
    }
   ],
   "source": [
    "# Correr el paso 2 y revisar el número de caminos más cortos de la raíz a los demás nodos\n",
    "Girvan_Newman_Step2(tree,0)\n",
    "nx.get_node_attributes(tree,'n_caminos')"
   ]
  },
  {
   "cell_type": "code",
   "execution_count": 13,
   "metadata": {},
   "outputs": [],
   "source": [
    "# Establecimiento de los parámetros para el paso 3: pesos de los nodos y pesos de los enlaces\n",
    "nx.set_node_attributes(tree,{i:-1 for i in tree.nodes},'pesos')\n",
    "nx.set_node_attributes(tree,{i:-1 for i in tree.nodes},'e_pesos')"
   ]
  },
  {
   "cell_type": "code",
   "execution_count": 14,
   "metadata": {},
   "outputs": [
    {
     "data": {
      "text/plain": [
       "{0: 12.0,\n",
       " 1: 5.0,\n",
       " 2: 1,\n",
       " 3: 4.0,\n",
       " 5: 1,\n",
       " 4: 4.0,\n",
       " 8: 2.0,\n",
       " 9: 1,\n",
       " 11: 1,\n",
       " 6: 2.0,\n",
       " 7: 1,\n",
       " 10: 1}"
      ]
     },
     "execution_count": 14,
     "metadata": {},
     "output_type": "execute_result"
    }
   ],
   "source": [
    "# Correr el paso 3 y revisar pesos de los nodos y pesos de los enlaces\n",
    "Girvan_Newman_Step3(tree,0)\n",
    "nx.get_node_attributes(tree,'pesos')"
   ]
  },
  {
   "cell_type": "code",
   "execution_count": 15,
   "metadata": {},
   "outputs": [
    {
     "data": {
      "text/plain": [
       "{0: 12.0,\n",
       " 1: 5.0,\n",
       " 2: 1.0,\n",
       " 3: 4.0,\n",
       " 5: 1.0,\n",
       " 4: 4.0,\n",
       " 8: 2.0,\n",
       " 9: 1.0,\n",
       " 11: 1.0,\n",
       " 6: 2.0,\n",
       " 7: 1.0,\n",
       " 10: 1.0}"
      ]
     },
     "execution_count": 15,
     "metadata": {},
     "output_type": "execute_result"
    }
   ],
   "source": [
    "nx.get_node_attributes(tree,'e_pesos')"
   ]
  },
  {
   "cell_type": "code",
   "execution_count": 16,
   "metadata": {},
   "outputs": [],
   "source": [
    "# Implementación completa\n",
    "def Girvan_Newman(graph,root):\n",
    "    tree = nx.DiGraph()\n",
    "    G = graph.copy()\n",
    "    if nx.is_directed(graph) == False:\n",
    "        G = G.to_directed()      \n",
    "    nx.set_node_attributes(G,{i:False for i in G.nodes},'Asignado')   \n",
    "    Girvan_Newman_Step1(G,tree,root,atribute = 'Asignado')\n",
    "\n",
    "    nx.set_node_attributes(tree,{i:False for i in tree.nodes},'root')\n",
    "    tree.nodes[root]['root'] = True\n",
    "    nx.set_node_attributes(tree,{i:-1 for i in tree.nodes},'n_caminos')\n",
    "\n",
    "    Girvan_Newman_Step2(tree,root)\n",
    "    print('\\nNémero de caminos más cortos: \\n')\n",
    "    print(nx.get_node_attributes(tree,'n_caminos'))\n",
    "\n",
    "    nx.set_node_attributes(tree,{i:-1 for i in tree.nodes},'pesos')\n",
    "    nx.set_node_attributes(tree,{i:-1 for i in tree.nodes},'e_pesos')\n",
    "\n",
    "    Girvan_Newman_Step3(tree,root)\n",
    "    print('\\nPesos nodos: \\n')\n",
    "    print(nx.get_node_attributes(tree,'pesos'))\n",
    "    print('\\nPesos enlaces: \\n')\n",
    "    print(nx.get_node_attributes(tree,'e_pesos'))\n",
    "\n",
    "    return tree"
   ]
  },
  {
   "cell_type": "code",
   "execution_count": 17,
   "metadata": {},
   "outputs": [
    {
     "name": "stdout",
     "output_type": "stream",
     "text": [
      "\n",
      "Némero de caminos más cortos: \n",
      "\n",
      "{0: 1, 1: 1, 2: 1, 3: 1, 5: 1, 4: 1, 8: 1, 9: 1, 11: 1, 6: 1, 7: 1, 10: 1}\n",
      "\n",
      "Pesos nodos: \n",
      "\n",
      "{0: 12.0, 1: 5.0, 2: 1, 3: 4.0, 5: 1, 4: 4.0, 8: 2.0, 9: 1, 11: 1, 6: 2.0, 7: 1, 10: 1}\n",
      "\n",
      "Pesos enlaces: \n",
      "\n",
      "{0: 12.0, 1: 5.0, 2: 1.0, 3: 4.0, 5: 1.0, 4: 4.0, 8: 2.0, 9: 1.0, 11: 1.0, 6: 2.0, 7: 1.0, 10: 1.0}\n"
     ]
    }
   ],
   "source": [
    "arbol = Girvan_Newman(G,0)"
   ]
  },
  {
   "cell_type": "code",
   "execution_count": 18,
   "metadata": {},
   "outputs": [
    {
     "data": {
      "image/png": "[encoded data removed]",
      "text/plain": [
       "<Figure size 432x288 with 1 Axes>"
      ]
     },
     "metadata": {},
     "output_type": "display_data"
    }
   ],
   "source": [
    "nx.draw(arbol)"
   ]
  },
  {
   "cell_type": "markdown",
   "metadata": {},
   "source": [
    "¡Pero las implementaciones anteriores son malas!\n",
    "¿Cómo las mejorarían? Esto depende del entendimiento que ustedes tengan de los algoritmos, de su creatividad y de cómo plantean una solución a este tipo de problemas. Esto también los puede llevar a una implementación muy distinta a la que les muestro en este notebook. Para saber si sus implementaciones son mejores, pueden compararlas con las presentadas en términos de:\n",
    "\n",
    "    1) Complejidad.\n",
    "    2) Tiempo de ejecución.\n",
    "    3) Uso de memoria."
   ]
  }
 ],
 "metadata": {
  "kernelspec": {
   "display_name": "Python 3.10.5 64-bit",
   "language": "python",
   "name": "python3"
  },
  "language_info": {
   "codemirror_mode": {
    "name": "ipython",
    "version": 3
   },
   "file_extension": ".py",
   "mimetype": "text/x-python",
   "name": "python",
   "nbconvert_exporter": "python",
   "pygments_lexer": "ipython3",
   "version": "3.10.5"
  },
  "orig_nbformat": 4,
  "vscode": {
   "interpreter": {
    "hash": "54a3d53733bdb4b0f0358cf3d547bbcb79614b900270fd5b08862d484f5a5082"
   }
  }
 },
 "nbformat": 4,
 "nbformat_minor": 2
}
