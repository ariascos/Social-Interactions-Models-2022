{
 "cells": [
  {
   "cell_type": "markdown",
   "metadata": {},
   "source": [
    "# MIS: Clase Complementaria 4 (2023-20)"
   ]
  },
  {
   "cell_type": "code",
   "execution_count": null,
   "metadata": {},
   "outputs": [],
   "source": [
    "import numpy as np\n",
    "import pandas as pd\n",
    "import networkx as nx\n",
    "import itertools as it\n",
    "import time\n",
    "import matplotlib.pyplot as plt\n",
    "import graph_tools\n",
    "import random\n",
    "#import scipy.linalg as linalg \n",
    "#py -m pip install scipy==1.8.1\n"
   ]
  },
  {
   "cell_type": "markdown",
   "metadata": {},
   "source": [
    "#### Katz"
   ]
  },
  {
   "cell_type": "code",
   "execution_count": 1,
   "metadata": {},
   "outputs": [
    {
     "ename": "NameError",
     "evalue": "name 'np' is not defined",
     "output_type": "error",
     "traceback": [
      "\u001b[1;31m---------------------------------------------------------------------------\u001b[0m",
      "\u001b[1;31mNameError\u001b[0m                                 Traceback (most recent call last)",
      "\u001b[1;32mc:\\Users\\mateo\\OneDrive\\Desktop\\MATEO\\TRANSITORIO\\Personal\\2023_2\\MIS\\Clase_2023_20\\2023_20_MIS_C04.ipynb Cell 4\u001b[0m line \u001b[0;36m<cell line: 7>\u001b[1;34m()\u001b[0m\n\u001b[0;32m      <a href='vscode-notebook-cell:/c%3A/Users/mateo/OneDrive/Desktop/MATEO/TRANSITORIO/Personal/2023_2/MIS/Clase_2023_20/2023_20_MIS_C04.ipynb#W3sZmlsZQ%3D%3D?line=3'>4</a>\u001b[0m U \u001b[39m=\u001b[39m [[\u001b[39m0.4\u001b[39m,\u001b[39m0.6\u001b[39m],[\u001b[39m0.9\u001b[39m,\u001b[39m0\u001b[39m]]\n\u001b[0;32m      <a href='vscode-notebook-cell:/c%3A/Users/mateo/OneDrive/Desktop/MATEO/TRANSITORIO/Personal/2023_2/MIS/Clase_2023_20/2023_20_MIS_C04.ipynb#W3sZmlsZQ%3D%3D?line=5'>6</a>\u001b[0m n \u001b[39m=\u001b[39m \u001b[39m10\u001b[39m\n\u001b[1;32m----> <a href='vscode-notebook-cell:/c%3A/Users/mateo/OneDrive/Desktop/MATEO/TRANSITORIO/Personal/2023_2/MIS/Clase_2023_20/2023_20_MIS_C04.ipynb#W3sZmlsZQ%3D%3D?line=6'>7</a>\u001b[0m Matriz0 \u001b[39m=\u001b[39m np\u001b[39m.\u001b[39marray([[random\u001b[39m.\u001b[39mrandint(\u001b[39m0\u001b[39m,\u001b[39m1\u001b[39m) \u001b[39mfor\u001b[39;00m i \u001b[39min\u001b[39;00m \u001b[39mrange\u001b[39m(n)] \u001b[39mfor\u001b[39;00m j \u001b[39min\u001b[39;00m \u001b[39mrange\u001b[39m(n)])\n\u001b[0;32m      <a href='vscode-notebook-cell:/c%3A/Users/mateo/OneDrive/Desktop/MATEO/TRANSITORIO/Personal/2023_2/MIS/Clase_2023_20/2023_20_MIS_C04.ipynb#W3sZmlsZQ%3D%3D?line=7'>8</a>\u001b[0m Matriz0 \u001b[39m=\u001b[39m Matriz0 \u001b[39m-\u001b[39m np\u001b[39m.\u001b[39mdiag(Matriz0\u001b[39m.\u001b[39mdiagonal())\n\u001b[0;32m      <a href='vscode-notebook-cell:/c%3A/Users/mateo/OneDrive/Desktop/MATEO/TRANSITORIO/Personal/2023_2/MIS/Clase_2023_20/2023_20_MIS_C04.ipynb#W3sZmlsZQ%3D%3D?line=8'>9</a>\u001b[0m Triang \u001b[39m=\u001b[39m np\u001b[39m.\u001b[39mtriu(Matriz0)\n",
      "\u001b[1;31mNameError\u001b[0m: name 'np' is not defined"
     ]
    }
   ],
   "source": [
    "# Ejemplos\n",
    "M = [[0.5,0.5],[0.1,0.9]]\n",
    "N = [[0.9,0.09],[0.4,0.6]] \n",
    "U = [[0.4,0.6],[0.9,0]]\n",
    "\n",
    "n = 10\n",
    "Matriz0 = np.array([[random.randint(0,1) for i in range(n)] for j in range(n)])\n",
    "Matriz0 = Matriz0 - np.diag(Matriz0.diagonal())\n",
    "Triang = np.triu(Matriz0)\n",
    "Matriz1 = Triang+Triang.T\n",
    "Norm = Matriz1.sum(axis = 0)\n",
    "Matriz = np.array([Matriz1[i]/Norm[i] for i in range(n)])\n",
    "\n"
   ]
  },
  {
   "cell_type": "code",
   "execution_count": null,
   "metadata": {},
   "outputs": [
    {
     "name": "stdout",
     "output_type": "stream",
     "text": [
      "(array([0.4, 1. ]), array([[-0.98058068, -0.70710678],\n",
      "       [ 0.19611614, -0.70710678]]))\n"
     ]
    }
   ],
   "source": [
    "# Calculo de autovalores y autovectores\n",
    "Katz = np.linalg.eig(M)\n",
    "print(Katz)"
   ]
  },
  {
   "cell_type": "code",
   "execution_count": null,
   "metadata": {},
   "outputs": [
    {
     "name": "stdout",
     "output_type": "stream",
     "text": [
      "Medida de error 0.5419337497948389\n",
      "[0.45161146 0.09032229]\n",
      "[ 0.19611614 -0.70710678]\n",
      "[-0.25549532 -0.61678449]\n"
     ]
    }
   ],
   "source": [
    "# Es buena aproximación?\n",
    "index = [i for i in range(2) if Katz[0][i] == 1][0]\n",
    "v = Katz[1][index]\n",
    "derecha = M@v\n",
    "Medida = v-derecha\n",
    "print(\"Medida de error {}\".format(np.abs(Medida).sum()))\n",
    "print(np.abs(Medida))\n",
    "print(v)\n",
    "print(derecha)\n"
   ]
  },
  {
   "cell_type": "code",
   "execution_count": null,
   "metadata": {},
   "outputs": [
    {
     "name": "stdout",
     "output_type": "stream",
     "text": [
      "(array([ 1.        , -0.75212641,  0.49735439, -0.55166506, -0.34754616,\n",
      "       -0.18694394, -0.11831094,  0.25993562,  0.13981832,  0.05948419]), array([[ 0.31622777,  0.24825917,  0.46380152,  0.10183659,  0.677572  ,\n",
      "        -0.08474547, -0.31557297, -0.07586642, -0.47205042,  0.06751781],\n",
      "       [ 0.31622777,  0.25619475, -0.04467775, -0.47276658,  0.10064225,\n",
      "         0.28781081, -0.18500395, -0.45853315,  0.48439046,  0.1539348 ],\n",
      "       [ 0.31622777, -0.29150743,  0.0449159 , -0.14268058, -0.10379756,\n",
      "        -0.38100324,  0.28745294, -0.1774223 , -0.12170343,  0.45166548],\n",
      "       [ 0.31622777, -0.18049486,  0.34210371, -0.39484112, -0.37888786,\n",
      "        -0.11765844, -0.48269909,  0.28077119, -0.02765123, -0.34660674],\n",
      "       [ 0.31622777,  0.29910279, -0.04767404, -0.10932246,  0.09333573,\n",
      "        -0.21493788,  0.5140659 ,  0.21983992,  0.10300435, -0.35417448],\n",
      "       [ 0.31622777,  0.08382239, -0.04054193,  0.50978344, -0.02040643,\n",
      "        -0.15852416, -0.27731196,  0.31046628,  0.40223071,  0.2971962 ],\n",
      "       [ 0.31622777, -0.47491378, -0.39825823,  0.30714972,  0.2080699 ,\n",
      "        -0.22188019, -0.22984237, -0.44729033,  0.03902858, -0.61922493],\n",
      "       [ 0.31622777, -0.39852044, -0.39548635, -0.28653781,  0.32416832,\n",
      "         0.5739644 ,  0.0302294 ,  0.53885056, -0.15684404,  0.18357331],\n",
      "       [ 0.31622777, -0.08816455,  0.30500157,  0.36898264, -0.22377722,\n",
      "         0.54618963,  0.30725336, -0.16251005, -0.04864924, -0.09301002],\n",
      "       [ 0.31622777,  0.51628805, -0.50187466,  0.07375772, -0.41091967,\n",
      "         0.05156454, -0.24748335, -0.11010684, -0.57102407,  0.08973741]]))\n"
     ]
    }
   ],
   "source": [
    "# Será que calculamos Katz en esta?\n",
    "Katz = np.linalg.eig(Matriz)\n",
    "print(Katz)"
   ]
  },
  {
   "cell_type": "code",
   "execution_count": null,
   "metadata": {},
   "outputs": [
    {
     "name": "stdout",
     "output_type": "stream",
     "text": [
      "Medida de error 3.9100469549476013\n",
      "[0.28503187 0.350401   0.33833805 0.00741438 0.74133819 0.36786604\n",
      " 0.64668929 0.2959812  0.83358983 0.0433971 ]\n",
      "[ 0.31622777  0.24825917  0.46380152  0.10183659  0.677572   -0.08474547\n",
      " -0.31557297 -0.07586642 -0.47205042  0.06751781]\n",
      "[ 0.0311959  -0.10214183  0.12546348  0.10925097 -0.06376619  0.28312057\n",
      "  0.33111633  0.22011478  0.36153941  0.02412071]\n"
     ]
    }
   ],
   "source": [
    "# Es buena aproximación?\n",
    "v = Katz[1][0]\n",
    "derecha = Matriz@v\n",
    "Medida = v-derecha\n",
    "print(\"Medida de error {}\".format(np.abs(Medida).sum()))\n",
    "print(np.abs(Medida))\n",
    "print(v)\n",
    "print(derecha)"
   ]
  },
  {
   "cell_type": "markdown",
   "metadata": {},
   "source": [
    "#### Bonanich"
   ]
  },
  {
   "cell_type": "code",
   "execution_count": null,
   "metadata": {},
   "outputs": [
    {
     "name": "stdout",
     "output_type": "stream",
     "text": [
      "(array([ 4.51786111,  1.68144093, -3.00665864, -2.451769  ,  1.02714927,\n",
      "        0.5105661 ,  0.25785709, -1.1566633 , -0.55106638, -0.82871718]), array([[-0.24527553, -0.43900981,  0.26171256,  0.05052411, -0.09662482,\n",
      "        -0.43105842,  0.08066243, -0.61355749,  0.31073031, -0.03746857],\n",
      "       [-0.30239541,  0.06395968,  0.28116295, -0.41063907, -0.4573242 ,\n",
      "         0.52371505,  0.10637708, -0.01405883,  0.16639581, -0.36628532],\n",
      "       [-0.41998789, -0.0285357 , -0.44872711, -0.22635586, -0.28403122,\n",
      "        -0.11651081,  0.4538666 ,  0.02321847, -0.22246391,  0.46896718],\n",
      "       [-0.31208656, -0.33617276, -0.23099427, -0.36063966,  0.35752835,\n",
      "        -0.0501578 , -0.31321269,  0.40725116,  0.46018098,  0.01029536],\n",
      "       [-0.41917976,  0.11180664,  0.45903621, -0.18835788,  0.30301674,\n",
      "         0.04673999, -0.35859877, -0.12580504, -0.48948454,  0.29593208],\n",
      "       [-0.36946211,  0.13540913,  0.08093107,  0.55891682,  0.33358829,\n",
      "         0.41212476,  0.31702676, -0.01089974,  0.33411406,  0.18121623],\n",
      "       [-0.20068411,  0.3741316 , -0.37040605,  0.21110909, -0.34655206,\n",
      "         0.02519241, -0.62360874, -0.2752672 ,  0.2056048 ,  0.10157522],\n",
      "       [-0.2155289 ,  0.41662459, -0.30380991, -0.18434247,  0.4234553 ,\n",
      "        -0.1933695 ,  0.19331537, -0.27799841, -0.09874736, -0.5590863 ],\n",
      "       [-0.37604634, -0.3734606 , -0.10715894,  0.46312208, -0.17274524,\n",
      "        -0.0534152 , -0.11985453,  0.27920982, -0.40895009, -0.44821169],\n",
      "       [-0.18508778,  0.45331387,  0.37348539,  0.08140622, -0.20165323,\n",
      "        -0.55759265,  0.09141975,  0.45825535,  0.20978683, -0.01382389]]))\n"
     ]
    }
   ],
   "source": [
    "# Calculo de autovalores y autovectores\n",
    "Bonanich = np.linalg.eig(Matriz1)\n",
    "print(Bonanich)"
   ]
  },
  {
   "cell_type": "code",
   "execution_count": null,
   "metadata": {},
   "outputs": [
    {
     "name": "stdout",
     "output_type": "stream",
     "text": [
      "0\n"
     ]
    }
   ],
   "source": [
    "# Identificación del radio espectral\n",
    "Lambda_Abs = np.abs(Bonanich[0])\n",
    "indice = 0\n",
    "for i in range(len(Lambda_Abs)):\n",
    "    if Lambda_Abs[i] == Lambda_Abs.max():\n",
    "        indice = i\n",
    "        break\n",
    "print(indice)"
   ]
  },
  {
   "cell_type": "code",
   "execution_count": null,
   "metadata": {},
   "outputs": [
    {
     "data": {
      "text/plain": [
       "array([-0.24527553, -0.43900981,  0.26171256,  0.05052411, -0.09662482,\n",
       "       -0.43105842,  0.08066243, -0.61355749,  0.31073031, -0.03746857])"
      ]
     },
     "execution_count": 17,
     "metadata": {},
     "output_type": "execute_result"
    }
   ],
   "source": [
    "# Identificación de Bonanich\n",
    "Bonanich[1][indice]"
   ]
  },
  {
   "cell_type": "markdown",
   "metadata": {},
   "source": [
    "#### PageRank"
   ]
  },
  {
   "cell_type": "code",
   "execution_count": 20,
   "metadata": {},
   "outputs": [],
   "source": [
    "# Implementación del Page Rank\n",
    "def pagerank(matriz,d=0.85,epsilon=0.00001):\n",
    "    n,m=matriz.shape\n",
    "    if n==m:\n",
    "        I = np.identity(n)\n",
    "        v_i = (1/n)*(np.ones(n).T)\n",
    "        error = 1\n",
    "        contador = 0\n",
    "        while error>epsilon:\n",
    "            v_f = (1-d)*I+d*(matriz@v_i)\n",
    "            error=np.linalg.norm(v_f-v_i)\n",
    "            contador += 1\n",
    "            v_i = v_f\n",
    "            print(error)\n",
    "            if contador>200:\n",
    "                error=0\n",
    "        return v_f\n",
    "    else:\n",
    "        print(\"Error\")\n",
    "        return None \n",
    "# matriz =Matriz.T\n",
    "\n"
   ]
  },
  {
   "cell_type": "code",
   "execution_count": 24,
   "metadata": {},
   "outputs": [
    {
     "name": "stdout",
     "output_type": "stream",
     "text": [
      "0.6447325026706812\n",
      "0.31109811985574226\n",
      "0.1074872861069333\n",
      "0.06052243082063405\n",
      "0.038464064679764036\n",
      "0.02634127511515311\n",
      "0.01896833317377166\n",
      "0.01419209751569212\n",
      "0.010891168831362921\n",
      "0.008501117160915058\n",
      "0.0067025307804104775\n",
      "0.005317797741124465\n",
      "0.0042337147937545954\n",
      "0.0033778909309268856\n",
      "0.00269805260905366\n",
      "0.0021565965066199302\n",
      "0.0017243903736273254\n",
      "0.0013791412319150986\n",
      "0.001103126668260242\n",
      "0.0008824279909823287\n",
      "0.0007059025808263454\n",
      "0.0005647080184080207\n",
      "0.00045175766717764175\n",
      "0.0003614036116390453\n",
      "0.0002891208833457545\n",
      "0.00023129631876069856\n",
      "0.0001850365666265543\n",
      "0.0001480292204553339\n",
      "0.00011842324827653034\n",
      "9.473860877115942e-05\n",
      "7.579085062513209e-05\n",
      "6.063268868989482e-05\n",
      "4.8506139821033576e-05\n",
      "3.88049157467566e-05\n",
      "3.104392898628413e-05\n",
      "2.483514478681068e-05\n",
      "1.986811460785756e-05\n",
      "1.5894492303523865e-05\n",
      "1.271559341814892e-05\n",
      "1.017247496594179e-05\n",
      "8.137979822575296e-06\n"
     ]
    }
   ],
   "source": [
    "PR = pagerank(Matriz.T,d=0.8)\n"
   ]
  },
  {
   "cell_type": "code",
   "execution_count": 26,
   "metadata": {},
   "outputs": [
    {
     "data": {
      "text/plain": [
       "array([[0.26413779, 0.04669436, 0.06989134, 0.08803514, 0.04751961,\n",
       "        0.04592009, 0.03506315, 0.03485576, 0.08260532, 0.0372816 ],\n",
       "       [0.06225627, 0.27365425, 0.08567327, 0.06031286, 0.06494062,\n",
       "        0.08688184, 0.1082319 , 0.0584247 , 0.08749503, 0.06728646],\n",
       "       [0.13976951, 0.12850104, 0.30065923, 0.09879454, 0.11171614,\n",
       "        0.11778916, 0.09936092, 0.09650258, 0.12471207, 0.1324038 ],\n",
       "       [0.11737732, 0.06031286, 0.06586894, 0.27736756, 0.08499532,\n",
       "        0.08752603, 0.05123156, 0.05848718, 0.09694859, 0.04682187],\n",
       "       [0.09502605, 0.09740206, 0.11171614, 0.12748411, 0.30072179,\n",
       "        0.12450929, 0.13362347, 0.14085022, 0.11717762, 0.10298169],\n",
       "       [0.07652652, 0.10859893, 0.09816164, 0.10940416, 0.10376175,\n",
       "        0.28731053, 0.07810215, 0.12575705, 0.07943381, 0.08053701],\n",
       "       [0.03506213, 0.08117507, 0.04968603, 0.03842481, 0.0668173 ,\n",
       "        0.04686446, 0.26594569, 0.05679527, 0.04338726, 0.09931273],\n",
       "       [0.03485512, 0.04382004, 0.04825724, 0.04386691, 0.07043106,\n",
       "        0.07545777, 0.05679565, 0.26523146, 0.03859766, 0.09874136],\n",
       "       [0.13766857, 0.10936541, 0.10393074, 0.12118236, 0.09765203,\n",
       "        0.07943381, 0.07230682, 0.06432353, 0.29116919, 0.06414774],\n",
       "       [0.03727995, 0.05046535, 0.06620684, 0.03511691, 0.05149578,\n",
       "        0.04832474, 0.0993121 , 0.09874035, 0.03849117, 0.27046801]])"
      ]
     },
     "execution_count": 26,
     "metadata": {},
     "output_type": "execute_result"
    }
   ],
   "source": [
    "PR"
   ]
  },
  {
   "cell_type": "markdown",
   "metadata": {},
   "source": [
    "### Actividad en clase\n",
    "\n",
    "Realice los siguientes requerimientos:\n",
    "\n",
    "1) Construya una función que le diga si puede calcular el índice de Katz para una matriz dada.\n",
    "\n",
    "2) Cree el índice de Hubs.\n",
    "\n",
    "3) Cree el índice de Authorities."
   ]
  }
 ],
 "metadata": {
  "kernelspec": {
   "display_name": "Python 3.10.5 64-bit",
   "language": "python",
   "name": "python3"
  },
  "language_info": {
   "codemirror_mode": {
    "name": "ipython",
    "version": 3
   },
   "file_extension": ".py",
   "mimetype": "text/x-python",
   "name": "python",
   "nbconvert_exporter": "python",
   "pygments_lexer": "ipython3",
   "version": "3.10.5"
  },
  "orig_nbformat": 4,
  "vscode": {
   "interpreter": {
    "hash": "54a3d53733bdb4b0f0358cf3d547bbcb79614b900270fd5b08862d484f5a5082"
   }
  }
 },
 "nbformat": 4,
 "nbformat_minor": 2
}
