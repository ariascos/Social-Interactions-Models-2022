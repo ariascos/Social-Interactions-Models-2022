{
 "cells": [
  {
   "cell_type": "markdown",
   "metadata": {},
   "source": [
    "# MIS: Complementaria 13 (2023-20)"
   ]
  },
  {
   "cell_type": "markdown",
   "metadata": {},
   "source": [
    "En la clase de hoy veremos implementaciones de modelos de asignación. Así, trataremos los modelos de asignación en mercados de matrimonios y aplicaciones a universidades desarrollados por Gale y Shapley. La idea general de la clase es implementar el modelo de aceptación diferida para el mercado de matrimonios (1:1) y quedará como práctica para ustedes realizar las modificaciones pertinentes para implementar este modelo para el caso de aplicaciones a universidades (m:1). "
   ]
  },
  {
   "cell_type": "markdown",
   "metadata": {},
   "source": [
    "### Previos\n",
    "\n",
    "En esta sección se establecen algunas funciones que permitirán desarrollar la propuesta de los algoritmos de la clase."
   ]
  },
  {
   "cell_type": "code",
   "execution_count": null,
   "metadata": {},
   "outputs": [],
   "source": [
    "# Cargue de paquetes\n",
    "import numpy as np\n",
    "import random"
   ]
  },
  {
   "cell_type": "code",
   "execution_count": null,
   "metadata": {},
   "outputs": [],
   "source": [
    "def participants(n_prop,n_disp):\n",
    "    list_prop = [\"P_{}\".format(i) for i in range(n_prop)]\n",
    "    list_disp = [\"D_{}\".format(i) for i in range(n_disp)]\n",
    "    return list_prop,list_disp"
   ]
  },
  {
   "cell_type": "code",
   "execution_count": null,
   "metadata": {},
   "outputs": [],
   "source": [
    "def randomizer(list_agents,highlighted_agent):\n",
    "    n = len(list_agents) # Numero de agentes\n",
    "    i = random.randint(0,n-1) # Primera randomización para introducir agente especial\n",
    "    hl_agent_intro = list_agents[:i]+[highlighted_agent]+list_agents[i:] # Introducción del agente especial\n",
    "    pos = 0 # Inicialización de las posiciones\n",
    "    n += 1 # Total de agentes incluido agente especial\n",
    "    dictionary = {} # Inicialización del diccionario de preferencias:\n",
    "    type_agent = \"P\" in highlighted_agent\n",
    "    while n>0:\n",
    "        i = random.randint(0,n-1)\n",
    "        agent_selected = hl_agent_intro.pop(i)\n",
    "        if agent_selected == highlighted_agent:\n",
    "            relevant_position = pos\n",
    "        if type_agent:\n",
    "            dictionary[pos] = agent_selected\n",
    "        else:\n",
    "            dictionary[agent_selected] = pos\n",
    "        pos +=1\n",
    "        n-=1\n",
    "    return dictionary,relevant_position        \n"
   ]
  },
  {
   "cell_type": "code",
   "execution_count": null,
   "metadata": {},
   "outputs": [],
   "source": [
    "def preferences(list_prop,list_disp):\n",
    "    pref_prop = {i:randomizer(list_disp,i) for i in list_prop}\n",
    "    pref_disp = {i:randomizer(list_prop,i) for i in list_disp}\n",
    "    return pref_prop,pref_disp"
   ]
  },
  {
   "cell_type": "code",
   "execution_count": null,
   "metadata": {},
   "outputs": [],
   "source": [
    "def initial_assignation(pref_prop,pref_disp):\n",
    "    return {i:pref_prop[i][1] for i in pref_prop},{i:i for i in pref_disp}"
   ]
  },
  {
   "cell_type": "markdown",
   "metadata": {},
   "source": [
    "### Mercado de Matrimonios\n",
    "\n",
    "A continuación se desarrolla la implementación del algoritmo de aceptación diferida para el Mercado de Matrimonios (1:1). La tarea que tienen es pensar cómo parar el algoritmo de mejor manera (si esta existe)."
   ]
  },
  {
   "cell_type": "code",
   "execution_count": null,
   "metadata": {},
   "outputs": [],
   "source": [
    "def deferred_acceptance_1_1(preferences):\n",
    "    pref_prop = preferences[0] # Se alistan las preferencias\n",
    "    pref_disp = preferences[1]\n",
    "    assignation = initial_assignation(pref_prop,pref_disp) # Se inicializan las asignaciones para cada grupo\n",
    "    tracker_prop = {i:0 for i in pref_prop}\n",
    "    able_to_prop = {i:True for i in pref_prop}\n",
    "    not_complete = True \n",
    "    cont_reps=0\n",
    "    max_reps=300\n",
    "    while not_complete:\n",
    "        for prop in tracker_prop:\n",
    "            print(prop)\n",
    "            ranking_disp = tracker_prop[prop] # Obtengo el ranking de quien me gusta\n",
    "            disp = pref_prop[prop][0][ranking_disp] # Obtengo a quien me gusta\n",
    "            if disp != prop: # Verifico si no se obtiene una elección definitiva conmigo mismo.\n",
    "                ranking_prop = pref_disp[disp][0][prop] # Miro que tanto le gusto a quien me gusta\n",
    "                actual = assignation[1][disp] # Obtengo la asignación actual de quien me gusta\n",
    "                ranking_actual = pref_disp[disp][0][actual] #Obtengo el ranking de la asignación actual para quien me gusta\n",
    "                if ranking_actual>ranking_prop:# Verifico si le gusto más que su asignación actual a quien me gusta\n",
    "                    print(\"Aceptado\")\n",
    "                    assignation[1][disp] = prop # Soy asignado a quien me gusta\n",
    "                    assignation[0][prop] = ranking_disp # Me asignan a quien me gusta\n",
    "                    able_to_prop[prop] = False # Como fui asignado a quien me gusta, no propongo\n",
    "                    if \"P\" in actual: # Si el ex de quien me gusta era el/ella mismo, entonces no dejamos a nadie. DLC:\n",
    "                        assignation[0][actual] = pref_prop[actual][1] # A quien dejaron se asigna a si mismo de nuevo\n",
    "                        able_to_prop[actual] = True # A quien dejaron se le deja proponer de nuevo \n",
    "                else: # Si me rechazan, voy a mi siguiente opción\n",
    "                    print(\"Rechazado\")\n",
    "                    tracker_prop[prop] = ranking_disp + 1\n",
    "                print(assignation)\n",
    "            else: #Ya no puedo elegir a nadie, entonces salgo del mercado\n",
    "                print(\"Prop se queda solo\")\n",
    "                able_to_prop[prop] = False\n",
    "        if all([j==False for j in able_to_prop.values()]): # Condición de parado\n",
    "            print(\"all\")\n",
    "            not_complete=False\n",
    "\n",
    "        if cont_reps>max_reps: # Condición de parado de emergencia (por si algo. Este parámetro puede cambiarse)\n",
    "            not_complete=False\n",
    "        cont_reps+=1\n",
    "    A = {i:pref_prop[i][0][assignation[0][i]] for i in assignation[0]} # Paso las elecciones a un formato amigable\n",
    "    return A,assignation[1] # Retorno \n",
    "\n",
    "    "
   ]
  },
  {
   "cell_type": "code",
   "execution_count": null,
   "metadata": {},
   "outputs": [],
   "source": [
    "PA=participants(3,3)\n",
    "P=preferences(PA[0],PA[1])"
   ]
  },
  {
   "cell_type": "code",
   "execution_count": null,
   "metadata": {},
   "outputs": [],
   "source": [
    "P"
   ]
  },
  {
   "cell_type": "code",
   "execution_count": null,
   "metadata": {},
   "outputs": [],
   "source": [
    "deferred_acceptance_1_1(P)"
   ]
  },
  {
   "cell_type": "markdown",
   "metadata": {},
   "source": [
    "### Aplicaciones a Universidades\n",
    "\n",
    "En las celdas dispuestas abajo, realice modificaciones al código propuesto arriba para implementar el algoritmo de aceptación diferida para el caso más general de las Aplicaciones a Universidades (m:1). "
   ]
  },
  {
   "cell_type": "code",
   "execution_count": null,
   "metadata": {},
   "outputs": [],
   "source": []
  }
 ],
 "metadata": {
  "kernelspec": {
   "display_name": "Python 3",
   "language": "python",
   "name": "python3"
  },
  "language_info": {
   "codemirror_mode": {
    "name": "ipython",
    "version": 3
   },
   "file_extension": ".py",
   "mimetype": "text/x-python",
   "name": "python",
   "nbconvert_exporter": "python",
   "pygments_lexer": "ipython3",
   "version": "3.10.5"
  }
 },
 "nbformat": 4,
 "nbformat_minor": 2
}
