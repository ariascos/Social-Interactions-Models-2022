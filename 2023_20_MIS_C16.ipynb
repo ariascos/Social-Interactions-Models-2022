{
 "cells": [
  {
   "cell_type": "markdown",
   "metadata": {},
   "source": [
    "# MIS: Clase Complementaria 16 (2023_20) \n",
    "\n",
    "Este es el código escrito durante la clase complementaria número 16. El mismo se basa en la intención de crear un simulador que permita recrear el modelo de Imitación de Kirman (1983). Este código puede correrse sin problemas y para terminar con lo desarrollado en clase, se implementó un último loop y una función que permite correr el modelo. "
   ]
  },
  {
   "cell_type": "code",
   "execution_count": 1,
   "metadata": {},
   "outputs": [],
   "source": [
    "# Se importan los paquetes a utilizar.\n",
    "import random as rd\n",
    "import numpy as np\n",
    "import copy"
   ]
  },
  {
   "cell_type": "markdown",
   "metadata": {},
   "source": [
    "#### Se proponen las funciones para implementar el algoritmo."
   ]
  },
  {
   "cell_type": "code",
   "execution_count": 2,
   "metadata": {},
   "outputs": [],
   "source": [
    "# Se propone la función que permite elegir un agente de manera aleatoria de un conjunto (listado) de agentes.\n",
    "def eleccion_agente(Agentes):\n",
    "    l = len(Agentes)\n",
    "    pos = np.random.randint(l)\n",
    "    Elegido = Agentes.pop(pos)\n",
    "    return Elegido,Agentes"
   ]
  },
  {
   "cell_type": "code",
   "execution_count": 3,
   "metadata": {},
   "outputs": [],
   "source": [
    "# Se propone la función que \"tira\" una moneda con probabilidad de cara de epsilon y sello de 1-epsilon\n",
    "def tirar_moneda(epsilon):\n",
    "    return np.random.binomial(1,epsilon)\n"
   ]
  },
  {
   "cell_type": "code",
   "execution_count": 4,
   "metadata": {},
   "outputs": [],
   "source": [
    "# Se propone la función de maximización de la función de utilidad sobre un conjunto finito de opciones.\n",
    "def maximizacion(fun_u,conjunto_maximizacion):\n",
    "    lista = [fun_u(x) for x in conjunto_maximizacion]\n",
    "    maximo = max(lista)\n",
    "    return lista.index(maximo)\n",
    "    \n"
   ]
  },
  {
   "cell_type": "code",
   "execution_count": 6,
   "metadata": {},
   "outputs": [],
   "source": [
    "# Se propone la función de recurrencia que modela el accionar de elegir actuar o delegar la decisión a otro agente e imitar la elección.\n",
    "def recur(Agentes):\n",
    "    Jugadores = list(Agentes.keys())\n",
    "    i,Agentes1 = eleccion_agente(Jugadores)\n",
    "    epsilon = Agentes[i][0]\n",
    "    fun_u = Agentes[i][1]\n",
    "    print(\"Juega {}. Probabilidad de elegir es {}\".format(i,epsilon))\n",
    "    maximizar = True\n",
    "    if len(Agentes)>1:\n",
    "        if tirar_moneda(epsilon) != 1:\n",
    "            maximizar = False\n",
    "    if maximizar:\n",
    "        el = maximizacion(fun_u,[0,1])\n",
    "        print(\"--> {} maximiza. Su elección es {}\".format(i,el))\n",
    "        return el\n",
    "    else:\n",
    "        print(\"--> {} pasa. La elección queda entre los agentes {}.\".format(i,Agentes1))\n",
    "        Ag = {k:Agentes[k] for k in Agentes1}\n",
    "        return recur(Ag)"
   ]
  },
  {
   "cell_type": "code",
   "execution_count": 7,
   "metadata": {},
   "outputs": [],
   "source": [
    "# Se propone la función que realiza la simulación dados argumentos de tiempo y de caracterización de agentes.\n",
    "def simulacion_kirman(tiempo:int,agentes:dict):\n",
    "    elecciones = {}\n",
    "    Agentes = copy.deepcopy(agentes) \n",
    "    for t in range(tiempo):\n",
    "        print(\"\\nEl periodo de tiempo es: \",t)\n",
    "        elecciones[t] = recur(Agentes)\n",
    "    return elecciones        "
   ]
  },
  {
   "cell_type": "markdown",
   "metadata": {},
   "source": [
    "#### Se alista todo para correr el algoritmo y se corre."
   ]
  },
  {
   "cell_type": "code",
   "execution_count": 8,
   "metadata": {},
   "outputs": [],
   "source": [
    "# Se definen algunas funciones de utilidad básicas\n",
    "def lineal(x,a=-1,b=0):\n",
    "    return a*x+b\n",
    "def cuadratica(x,a=1,b=0,c=0):\n",
    "    return a*x**2+b*x+c\n",
    "def polinomio(x,coef=[-1,3,2,-6]):\n",
    "    poli = 0\n",
    "    for potencia in range(len(coef)):\n",
    "        poli += coef[potencia]*x**potencia\n",
    "    return poli\n",
    "def logaritmica(x,a=1,b=1):\n",
    "    return np.log(x**a+b)\n",
    "def exponencial(x,a=1,c=1):\n",
    "    return c*np.exp(a*x)\n",
    "def arctan(x):\n",
    "    return np.arctan(x)\n",
    "    "
   ]
  },
  {
   "cell_type": "code",
   "execution_count": 9,
   "metadata": {},
   "outputs": [],
   "source": [
    "# Se propone un ejemplo de prueba \n",
    "Util = {0:lineal,1:cuadratica,2:polinomio,3:logaritmica,4:exponencial,5:arctan}\n",
    "Agentes = {u:[rd.uniform(0,1),Util[u]] for u in Util}"
   ]
  },
  {
   "cell_type": "code",
   "execution_count": 11,
   "metadata": {},
   "outputs": [
    {
     "name": "stdout",
     "output_type": "stream",
     "text": [
      "\n",
      "El periodo de tiempo es:  0\n",
      "Juega 2. Probabilidad de elegir es 0.11004693219246453\n",
      "--> 2 pasa. La elección queda entre los agentes [0, 1, 3, 4, 5].\n",
      "Juega 5. Probabilidad de elegir es 0.27365357415524005\n",
      "--> 5 pasa. La elección queda entre los agentes [0, 1, 3, 4].\n",
      "Juega 4. Probabilidad de elegir es 0.3787383030350435\n",
      "--> 4 maximiza. Su elección es 1\n",
      "\n",
      "El periodo de tiempo es:  1\n",
      "Juega 0. Probabilidad de elegir es 0.42133223814893606\n",
      "--> 0 pasa. La elección queda entre los agentes [1, 2, 3, 4, 5].\n",
      "Juega 2. Probabilidad de elegir es 0.11004693219246453\n",
      "--> 2 pasa. La elección queda entre los agentes [1, 3, 4, 5].\n",
      "Juega 4. Probabilidad de elegir es 0.3787383030350435\n",
      "--> 4 maximiza. Su elección es 1\n",
      "\n",
      "El periodo de tiempo es:  2\n",
      "Juega 4. Probabilidad de elegir es 0.3787383030350435\n",
      "--> 4 maximiza. Su elección es 1\n",
      "\n",
      "El periodo de tiempo es:  3\n",
      "Juega 1. Probabilidad de elegir es 0.2917646476247411\n",
      "--> 1 pasa. La elección queda entre los agentes [0, 2, 3, 4, 5].\n",
      "Juega 4. Probabilidad de elegir es 0.3787383030350435\n",
      "--> 4 pasa. La elección queda entre los agentes [0, 2, 3, 5].\n",
      "Juega 0. Probabilidad de elegir es 0.42133223814893606\n",
      "--> 0 maximiza. Su elección es 0\n",
      "\n",
      "El periodo de tiempo es:  4\n",
      "Juega 2. Probabilidad de elegir es 0.11004693219246453\n",
      "--> 2 pasa. La elección queda entre los agentes [0, 1, 3, 4, 5].\n",
      "Juega 0. Probabilidad de elegir es 0.42133223814893606\n",
      "--> 0 pasa. La elección queda entre los agentes [1, 3, 4, 5].\n",
      "Juega 1. Probabilidad de elegir es 0.2917646476247411\n",
      "--> 1 maximiza. Su elección es 1\n",
      "\n",
      "El periodo de tiempo es:  5\n",
      "Juega 2. Probabilidad de elegir es 0.11004693219246453\n",
      "--> 2 pasa. La elección queda entre los agentes [0, 1, 3, 4, 5].\n",
      "Juega 0. Probabilidad de elegir es 0.42133223814893606\n",
      "--> 0 maximiza. Su elección es 0\n",
      "\n",
      "El periodo de tiempo es:  6\n",
      "Juega 1. Probabilidad de elegir es 0.2917646476247411\n",
      "--> 1 pasa. La elección queda entre los agentes [0, 2, 3, 4, 5].\n",
      "Juega 2. Probabilidad de elegir es 0.11004693219246453\n",
      "--> 2 pasa. La elección queda entre los agentes [0, 3, 4, 5].\n",
      "Juega 4. Probabilidad de elegir es 0.3787383030350435\n",
      "--> 4 pasa. La elección queda entre los agentes [0, 3, 5].\n",
      "Juega 5. Probabilidad de elegir es 0.27365357415524005\n",
      "--> 5 maximiza. Su elección es 1\n",
      "\n",
      "El periodo de tiempo es:  7\n",
      "Juega 2. Probabilidad de elegir es 0.11004693219246453\n",
      "--> 2 pasa. La elección queda entre los agentes [0, 1, 3, 4, 5].\n",
      "Juega 3. Probabilidad de elegir es 0.02143633624925312\n",
      "--> 3 pasa. La elección queda entre los agentes [0, 1, 4, 5].\n",
      "Juega 5. Probabilidad de elegir es 0.27365357415524005\n",
      "--> 5 pasa. La elección queda entre los agentes [0, 1, 4].\n",
      "Juega 0. Probabilidad de elegir es 0.42133223814893606\n",
      "--> 0 maximiza. Su elección es 0\n",
      "\n",
      "El periodo de tiempo es:  8\n",
      "Juega 3. Probabilidad de elegir es 0.02143633624925312\n",
      "--> 3 pasa. La elección queda entre los agentes [0, 1, 2, 4, 5].\n",
      "Juega 4. Probabilidad de elegir es 0.3787383030350435\n",
      "--> 4 maximiza. Su elección es 1\n",
      "\n",
      "El periodo de tiempo es:  9\n",
      "Juega 0. Probabilidad de elegir es 0.42133223814893606\n",
      "--> 0 pasa. La elección queda entre los agentes [1, 2, 3, 4, 5].\n",
      "Juega 5. Probabilidad de elegir es 0.27365357415524005\n",
      "--> 5 pasa. La elección queda entre los agentes [1, 2, 3, 4].\n",
      "Juega 3. Probabilidad de elegir es 0.02143633624925312\n",
      "--> 3 pasa. La elección queda entre los agentes [1, 2, 4].\n",
      "Juega 1. Probabilidad de elegir es 0.2917646476247411\n",
      "--> 1 pasa. La elección queda entre los agentes [2, 4].\n",
      "Juega 4. Probabilidad de elegir es 0.3787383030350435\n",
      "--> 4 pasa. La elección queda entre los agentes [2].\n",
      "Juega 2. Probabilidad de elegir es 0.11004693219246453\n",
      "--> 2 maximiza. Su elección es 0\n"
     ]
    }
   ],
   "source": [
    "# Se corre el ejemplo con 10 perioddos y un conjunto de agentes\n",
    "Output_Juego = simulacion_kirman(tiempo=10,agentes=Agentes)"
   ]
  },
  {
   "cell_type": "code",
   "execution_count": 13,
   "metadata": {},
   "outputs": [
    {
     "name": "stdout",
     "output_type": "stream",
     "text": [
      "{0: 1, 1: 1, 2: 1, 3: 0, 4: 1, 5: 0, 6: 1, 7: 0, 8: 1, 9: 0}\n"
     ]
    }
   ],
   "source": [
    "# Se revisan las elecciones realizadas en el juego. La estructura del diccionario es llaves->periodo de tiempo y valores->elección (1 o 0).\n",
    "print(Output_Juego) "
   ]
  }
 ],
 "metadata": {
  "kernelspec": {
   "display_name": "Python 3",
   "language": "python",
   "name": "python3"
  },
  "language_info": {
   "codemirror_mode": {
    "name": "ipython",
    "version": 3
   },
   "file_extension": ".py",
   "mimetype": "text/x-python",
   "name": "python",
   "nbconvert_exporter": "python",
   "pygments_lexer": "ipython3",
   "version": "3.10.5"
  }
 },
 "nbformat": 4,
 "nbformat_minor": 2
}
