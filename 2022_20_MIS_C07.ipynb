{
 "cells": [
  {
   "cell_type": "markdown",
   "metadata": {},
   "source": [
    "# MIS: CLase Complementaria 7"
   ]
  },
  {
   "cell_type": "markdown",
   "metadata": {},
   "source": [
    "La clase de hoy tendrá dos partes:\n",
    "\n",
    "1) Arquitectura de soluciones.\n",
    "\n",
    "2) Practica de implementación de arquitectura de soluciones: Implementación del modelo de DeGroot y ejemplos."
   ]
  },
  {
   "cell_type": "markdown",
   "metadata": {},
   "source": [
    "#### Arquitectura de soluciones\n",
    "\n",
    "Dado un problema, ¿cómo plantearían la solución e implementación de la misma?\n",
    "\n",
    "El camino más general para lograr una arquitectura de solución.\n",
    "\n",
    "    A) Entienda el problema.\n",
    "\n",
    "    B) Entienda lo que le preguntan.\n",
    "\n",
    "    C) Decante la pregunta.\n",
    "\n",
    "    D) Piense cómo lo implementa.\n",
    "\n",
    "    E) Implemente.\n",
    "\n",
    "    F) Piense cómo lo generaliza.\n",
    "\n",
    "    G) Generalice.\n",
    "\n",
    "    H) Piense cómo lo optimiza.\n",
    "\n",
    "    I) Optimice."
   ]
  },
  {
   "cell_type": "markdown",
   "metadata": {},
   "source": [
    "Lo anterior no representa un proceso lineal. Piense que, en este curso y en su vida laboral, siempre hay momentos en los que tiene que saltar de un paso a otro para poder brindar una solución que sea lo más cercana a lo óptimo. Teniendo en cuenta esto, los procesos deben verse así:\n",
    "\n",
    "1) Ir de lo general a lo particular. (Zoom in)\n",
    "\n",
    "2) Ir de lo particular a lo general. (Zoom out)\n",
    "\n",
    "Toda la arquitectura debería tener detrás un proceso de planeación que NO se realiza en el código. En esta, usted debe usar un concepto abstracto con el cuál tiene una herramienta para llegar al cumplimiento del objetivo de su tarea, pero que no es algo implementable en sí (i.e. ud no corre en su código la idea de una lista, ud corre una lista, la guarda, la llena, etc.),"
   ]
  },
  {
   "cell_type": "markdown",
   "metadata": {},
   "source": [
    "Tenga en cuenta los objetivos de la tarea que tiene, cuales son sus fortalezas y debilidades, así cómo los vacios que tenga en cuanto a conceptos teóricos, de programación y cualquier elemento que pueda representar un hueco en la solución abstracta que usted está pensando. Luego de hacer esto, aterrice las ideas y trate de escribir un programa que exprese esas ideas.\n",
    "\n",
    "Al repetir lo anterior varias veces, realice un ejercicio de versionamiento.\n",
    "\n",
    "Una opción de ejercicio de versionamiento para principiantes: Necesitamos multiplicar n veces una matriz M.\n",
    "\n",
    "1) Realice la multiplicación M*M. ¿Se puede hacer?\n",
    "\n",
    "2) Si lo anterior se puede hacer, ¿Cómo multiplico n veces la matriz M?\n",
    "\n",
    "3) Si lo anterior se puede hacer, ¿Cómo garantizo que para una matriz M y un número n, esta operación tenga sentido?\n",
    "\n",
    "3) Si lo anterior se puede hacer, ¿Cómo optimizo la realización de esta tarea? ¿Bajo qué criterios hago esto?"
   ]
  },
  {
   "cell_type": "markdown",
   "metadata": {},
   "source": [
    "#### Actividad en clase\n",
    "\n",
    "Implemente los siguientes requerimientos en programas que le permitan generar una solución óptima. Que la solución sea óptima depende de su nivel de programación: \n",
    "\n",
    "    Básico: Usted debe generar una solución que funcione, dados unos parámetros de entrada que se suponen correctos.\n",
    "\n",
    "    Intermedio: Usted debe generar una solución que funcione, dados unos parámetros de entrada que pueden ser correctos o no. En caso de no serlo, su programa debe arrojar los errores o alertas correspondientes.\n",
    "\n",
    "    Avanzado: Usted debe generar una solución que contenga los criterios propuestos para un nivel de programación básico e intermedio. Además, su solución debe minimizar los tiempos de ejecución, la cantidad de memoria utilizada, la complejidad de los procesos y evitar los reprocesos. \n",
    "\n",
    "Los requerimientos son (puede elegir los que prefiera):\n",
    "\n",
    "    Revisar si un gráfo es aperiodico.\n",
    "\n",
    "    Revisar si un grafo es fuertemente conexo.\n",
    "\n",
    "    Encontrar los conjuntos de nodos cerrados en un grafo.\n",
    "\n",
    "    Generar una clasificación usando LexGraph. \n",
    "\n",
    "(*) NO vale el uso de soluciones ya implementadas en este curso. Pueden usar ideas, pero no es recomendado esto, pues la idea es que usted genere su propia solución.\n",
    "\n",
    "\n",
    "\n",
    "\n"
   ]
  },
  {
   "cell_type": "markdown",
   "metadata": {},
   "source": [
    "#### Ejemplo: Implementación de LexGraph"
   ]
  },
  {
   "cell_type": "code",
   "execution_count": 10,
   "metadata": {},
   "outputs": [],
   "source": [
    "import numpy as np\n",
    "import networkx as nx"
   ]
  },
  {
   "cell_type": "code",
   "execution_count": 9,
   "metadata": {},
   "outputs": [
    {
     "name": "stdout",
     "output_type": "stream",
     "text": [
      "['para', 'les', 'a', 'no', 'bonito.', 'iniciamos', 'alcanzar', 'rápido', 'veremos', 'alcanzaremos', 'casa.', 'feo.', 'va', 'la', 'iremos', 'todo.', 'perro', 'clase', 'parece', 'cómo', 'quiero', 'o', 'ir', 'ver', 'es', 'hacer', 'el', 'están', 'mejor', 'hoy', 'si', 'vamos', 'día', 'hola']\n"
     ]
    }
   ],
   "source": [
    "# 1) IMPLEMENTACIÓN MÁS BÁSICA\n",
    "# Tomo tres textos. Solo para hacer pruebas\n",
    "T1 = \"Hola, ¿cómo están? Les parece si iniciamos la clase, es para alcanzar a ver todo. Les parece mejor si vamos rápido, ¿o mejor no?\"\n",
    "T2 = \"El día es bonito. El perro va a casa. Hoy iremos a clase\"\n",
    "T3 = \"Hoy veremos todo. No alcanzaremos a hacer todo. El día es feo. No quiero ir rápido\"\n",
    "\n",
    "# Extraigo todas las posibles palabras y normalizo para evitar errores.\n",
    "T1 = T1.lower()\n",
    "T1 = T1.replace(\",\",\"\")\n",
    "T1 = T1.replace(\"?\",\"\")\n",
    "T1 = T1.replace(\"¿\",\"\")\n",
    "\n",
    "T2 = T2.lower()\n",
    "T2 = T2.replace(\",\",\"\")\n",
    "T2 = T2.replace(\"?\",\"\")\n",
    "T2 = T2.replace(\"¿\",\"\")\n",
    "\n",
    "T3 = T3.lower()\n",
    "T3 = T3.replace(\",\",\"\")\n",
    "T3 = T3.replace(\"?\",\"\")\n",
    "T3 = T3.replace(\"¿\",\"\")\n",
    "\n",
    "Texto = T1+' '+T2+' '+T3\n",
    "\n",
    "# Extraigo las palabras\n",
    "Palabras = Texto.split(\" \")\n",
    "\n",
    "# Me aseguro de no repetir\n",
    "Palabras = list(set(Palabras))\n",
    "\n",
    "print(Palabras)"
   ]
  },
  {
   "cell_type": "code",
   "execution_count": null,
   "metadata": {},
   "outputs": [],
   "source": [
    "# Ahora necesito las frases.\n",
    "F1 = T1.split(\".\")\n",
    "F2 = T2.split(\".\")\n",
    "F3 = T3.split(\".\")\n",
    "\n",
    "# Construyo los vectores que identifican a cada frase.\n",
    "\n",
    "# Primero, consigo la frecuencia de aparición de las palabras en cada una de las frases\n",
    "Frases = [F1[0],F1[1],F2[0],F2[1],F2[2],F3[0],F3[1],F3[2],F3[3]]\n",
    "Vectores_Frecuencia = []\n",
    "for frase in Frases:\n",
    "    Vector = [frase.count(i) for i in Palabras]\n",
    "    Vectores_Frecuencia.append(Vector)\n",
    "print(Vectores_Frecuencia) #Vectores con la cantidad de veces que una palabra sale en la frase.\n"
   ]
  },
  {
   "cell_type": "code",
   "execution_count": null,
   "metadata": {},
   "outputs": [],
   "source": [
    "# En segundo lugar construyo los idf \n",
    "# Creo los n_i\n",
    "n_i = []\n",
    "for palabra in Palabras:\n",
    "    bool_apariciones = [(palabra in texto) for texto in [T1,T2,T3]]\n",
    "    suma_apariciones = sum(bool_apariciones)\n",
    "    n_i.append(suma_apariciones)\n",
    "print(n_i)\n",
    "\n",
    "# Saco el numero de documentos\n",
    "N_docs = 3\n",
    "\n",
    "# Saco los idf\n",
    "idf = [np.log(N_docs/numero) for numero in n_i]\n",
    "print(idf)\n"
   ]
  },
  {
   "cell_type": "code",
   "execution_count": null,
   "metadata": {},
   "outputs": [],
   "source": [
    "# Saco el vector relevante\n",
    "idf = np.matrix(idf).T\n",
    "n_i = np.matrix(n_i).T"
   ]
  },
  {
   "cell_type": "code",
   "execution_count": null,
   "metadata": {},
   "outputs": [],
   "source": [
    "# Tomo dos frases y calculo su distancia idf modified cosine\n",
    "frase1 = np.matrix(Vectores_Frecuencia[0]) \n",
    "frase2 = np.matrix(Vectores_Frecuencia[1])\n",
    "\n",
    "# Numerador\n",
    "Numerador = (np.multiply(frase1,frase2)@np.multiply(idf,idf).T)[0,0]\n",
    "# Denominador\n",
    "D1 = np.multiply(frase1,idf)\n",
    "D2 = np.multiply(frase2,idf)\n",
    "D1 = (D1@D1.T)[0,0]\n",
    "D2 = (D2@D2.T)[0,0]\n",
    "Denominador = D1*D2\n",
    "\n",
    "# Calculo la distancia\n",
    "Numerador/Denominador\n",
    "\n",
    "\n",
    "\n"
   ]
  },
  {
   "cell_type": "code",
   "execution_count": null,
   "metadata": {},
   "outputs": [],
   "source": [
    "# Qué pasa con esta distancia cuando se ponen dos elementos iguales?\n",
    "1/((np.multiply(frase1,idf)@np.multiply(frase1,idf).T)[0,0])\n"
   ]
  },
  {
   "cell_type": "code",
   "execution_count": null,
   "metadata": {},
   "outputs": [],
   "source": [
    "# Creo una función que me permita calcular las distancias\n",
    "def ifd_mod_cos(frase1,frase2,idf):\n",
    "    # Numerador\n",
    "    Numerador = (np.multiply(frase1,frase2)@np.multiply(idf,idf).T)[0,0]\n",
    "    # Denominador\n",
    "    D1 = np.multiply(frase1,idf)\n",
    "    D2 = np.multiply(frase2,idf)\n",
    "    D1 = (D1@D1.T)[0,0]\n",
    "    D2 = (D2@D2.T)[0,0]\n",
    "    Denominador = D1*D2\n",
    "\n",
    "    # Calculo la distancia\n",
    "    return Numerador/Denominador"
   ]
  },
  {
   "cell_type": "code",
   "execution_count": null,
   "metadata": {},
   "outputs": [],
   "source": [
    "# Creo la matriz de pesos\n",
    "frases = [np.matrix(i) for i in Vectores_Frecuencia]\n",
    "n = len(frases)\n",
    "Matriz = np.zeros((n,n))\n",
    "for i in range(n):\n",
    "    for j in range(i,n):\n",
    "        Matriz[i,j] = ifd_mod_cos(frases[i],frases[j],idf)\n",
    "Matriz = Matriz + Matriz.T - np.diag(np.diag(Matriz))"
   ]
  },
  {
   "cell_type": "code",
   "execution_count": null,
   "metadata": {},
   "outputs": [],
   "source": [
    "# Creo el grafo\n",
    "G = nx.from_numpy_matrix(Matriz)\n",
    "nx.draw(G)"
   ]
  },
  {
   "cell_type": "code",
   "execution_count": null,
   "metadata": {},
   "outputs": [],
   "source": [
    "# Reviso que quede bien creado\n",
    "Matriz1 = nx.to_numpy_matrix(G)\n",
    "Matriz1 == Matriz"
   ]
  },
  {
   "cell_type": "code",
   "execution_count": null,
   "metadata": {},
   "outputs": [],
   "source": [
    "# Calculo medidas de centralidad en este caso, page rank\n",
    "nx.pagerank(G)"
   ]
  },
  {
   "cell_type": "code",
   "execution_count": null,
   "metadata": {},
   "outputs": [],
   "source": [
    "# Las frases más importantes acá son 2, 7, 8\n",
    "for i in [2,7,8]:\n",
    "    print(Frases[i])"
   ]
  },
  {
   "cell_type": "code",
   "execution_count": null,
   "metadata": {},
   "outputs": [],
   "source": [
    "# 2) IMPLEMENTACIÓN DE NIVEL INTERMEDIO\n",
    "def limpiador(texto,diccionario):\n",
    "    for i in diccionario:\n",
    "        texto = texto.replace(i,diccionario[i])\n",
    "    return texto\n",
    "    \n",
    "def listado_palabras(listado,diccionario):\n",
    "    texto = \" \".join(listado)\n",
    "    texto = texto.lower()\n",
    "    texto = limpiador(texto,diccionario)\n",
    "    listado = list(set(texto.split(\" \")))\n",
    "    return listado\n",
    "\n",
    "\n",
    "def add_elem_dict(diccionario,listado):\n",
    "    for i in listado:\n",
    "        diccionario[i] = \"\"\n",
    "    return diccionario\n",
    "\n",
    "caracteres = [\"¿\",\"?\",\"*\",\"!\",\"¡\",\",\",\".\",\";\"]\n",
    "diccionario = {\"á\":\"a\",\"é\":\"e\",\"í\":\"i\",\"ó\":\"o\",\"ú\":\"u\"}\n",
    "diccionario = add_elem_dict(diccionario,caracteres)\n",
    "\n",
    "Palabras1 = listado_palabras([T1,T2,T3],diccionario)\n",
    "\n",
    "print(Palabras1)"
   ]
  },
  {
   "cell_type": "code",
   "execution_count": 11,
   "metadata": {},
   "outputs": [],
   "source": [
    "# ¿Cómo continuan?"
   ]
  }
 ],
 "metadata": {
  "kernelspec": {
   "display_name": "Python 3.10.5 64-bit",
   "language": "python",
   "name": "python3"
  },
  "language_info": {
   "codemirror_mode": {
    "name": "ipython",
    "version": 3
   },
   "file_extension": ".py",
   "mimetype": "text/x-python",
   "name": "python",
   "nbconvert_exporter": "python",
   "pygments_lexer": "ipython3",
   "version": "3.10.5"
  },
  "orig_nbformat": 4,
  "vscode": {
   "interpreter": {
    "hash": "54a3d53733bdb4b0f0358cf3d547bbcb79614b900270fd5b08862d484f5a5082"
   }
  }
 },
 "nbformat": 4,
 "nbformat_minor": 2
}
