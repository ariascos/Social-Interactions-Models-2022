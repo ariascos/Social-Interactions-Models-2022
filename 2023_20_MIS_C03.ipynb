{
 "cells": [
  {
   "cell_type": "markdown",
   "metadata": {},
   "source": [
    "# MIS: Clase complementaria 3 (2023-20)\n",
    "\n",
    "Esta será la primera clase en la que nos ensusiaremos las manos y vamos a diseñar implementaciones en vivo. El tema a tratar será la revisión y construcción (i.e. implementación) de medidas de importancia dentro de las redes."
   ]
  },
  {
   "cell_type": "markdown",
   "metadata": {},
   "source": [
    "### Introducción a la construcción de un programa funcional: Un primer acercamiento."
   ]
  },
  {
   "cell_type": "code",
   "execution_count": null,
   "metadata": {},
   "outputs": [],
   "source": [
    "import numpy as np\n",
    "import networkx as nx\n",
    "import random"
   ]
  },
  {
   "cell_type": "code",
   "execution_count": null,
   "metadata": {},
   "outputs": [],
   "source": [
    "# Función que crea Grafos Tipo Erdos Renyi\n",
    "def Creador_Grafos(n_proba:int=30,n:int=5):\n",
    "    Grafos = []\n",
    "    while n>0:\n",
    "        p = random.randint(1,n)/(n+1)\n",
    "        Grafos.append(nx.erdos_renyi_graph(n_proba,p)) \n",
    "        n-=1\n",
    "    return Grafos\n"
   ]
  },
  {
   "cell_type": "code",
   "execution_count": null,
   "metadata": {},
   "outputs": [],
   "source": [
    "# Grafos a usar:\n",
    "Grafos = Creador_Grafos()\n",
    "\n",
    "nx.draw(Grafos[0])\n",
    "\n",
    "# ¿Qué tipo de grafo son?"
   ]
  },
  {
   "cell_type": "markdown",
   "metadata": {},
   "source": [
    "#### Medidas de Aglomeración.\n",
    "\n",
    "Es deseable que consulten el siguiente enlace:\n",
    "\n",
    "https://networkx.org/documentation/stable/reference/algorithms/clustering.html"
   ]
  },
  {
   "cell_type": "code",
   "execution_count": null,
   "metadata": {},
   "outputs": [],
   "source": [
    "# Grado de un nodo\n",
    "print(\"El grado de un nodo es: \",Grafos[0].degree[0])\n",
    "\n",
    "# Vecinos de un nodo:\n",
    "print(\"El listado de vecinos es: \",list(nx.neighbors(Grafos[0],0)))\n",
    "\n",
    "# Aglomeración de un nodo\n",
    "print(\"La aglomeración por nodo es: \",nx.clustering(Grafos[0],0))\n",
    "\n",
    "# Aglomeración promedio de un Grafo\n",
    "print(\"La aglomeración promedio es: \",nx.average_clustering(Grafos[0]))\n",
    "\n",
    "# Aglomeración Global de un Grafo ¿Cómo sacamos esto?\n"
   ]
  },
  {
   "cell_type": "markdown",
   "metadata": {},
   "source": [
    "#### Medidas de Centralidad.\n",
    "\n",
    "Es deseable que consulten el siguiente enlace:\n",
    "\n",
    "https://networkx.org/documentation/stable/reference/algorithms/centrality.html"
   ]
  },
  {
   "cell_type": "code",
   "execution_count": null,
   "metadata": {},
   "outputs": [],
   "source": [
    "# Centralidad de grado\n",
    "print(\"La centralidad de grado es: \",nx.degree_centrality(Grafos[0])[0])\n",
    "\n",
    "# Distancia de un nodo a otro\n",
    "print(\"La distancia de un nodo a otro es: \",nx.shortest_path_length(Grafos[0],source = 0,target=1))\n",
    "\n",
    "# Closeness Centrality\n",
    "print(\"El Closeness Centrality para un nodo es: \",nx.closeness_centrality(Grafos[0],0))\n",
    "\n",
    "# Betweenness Centrality\n",
    "print(\"El betweenness Centrality para todo el grafo es: \")\n",
    "nx.betweenness_centrality(Grafos[0])\n",
    "\n",
    "# Betweenness Freeman ¿Cómo lo calculamos?"
   ]
  },
  {
   "cell_type": "code",
   "execution_count": null,
   "metadata": {},
   "outputs": [],
   "source": [
    "# Prestigio de Katz (en la librería lo encuentran como eigenvector centrality)\n",
    "nx.eigenvector_centrality(Grafos[0])"
   ]
  },
  {
   "cell_type": "code",
   "execution_count": null,
   "metadata": {},
   "outputs": [],
   "source": [
    "# Page Rank (en la librería lo encuentran como Prestigio de Katz)\n",
    "nx.katz_centrality(Grafos[0])\n",
    "\n",
    "# Si no hay convergencia, incremente el numero de iteraciones a 2000. Si ello no funciona, ¿piense qué es lo que falla?\n",
    "#nx.katz_centrality(Grafos[0],max_iter=2000)"
   ]
  },
  {
   "cell_type": "markdown",
   "metadata": {},
   "source": [
    "### Actividad de práctica:\n",
    "\n",
    "Realice los siguientes puntos. Use las redes creadas al inicio y los comandos mostrados en clase para verificar que sus respuestas estén bien. Es deseable que realice esta actividad (así como las que se han venido proponiendo en clases anteriores) para que la transición al taller sea más natural. El nivel de dificultad de cada uno de los puntos depende del número de asteriscos que estos tienen. Se espera que no solo piensen cómo implementar las funciones, sino que también aprendan a hacer uso de las documentaciones de los paquetes para sacar ideas de los mismos o entender cómo funcionan los comandos que van a utilizar.\n",
    "\n",
    "1. Aglomeración (*):\n",
    "\n",
    "1.1. Programa una función que permita encontrar el grado de un nodo. Debe recibir una red y un nodo. Debe retornar el grado.\n",
    "\n",
    "1.2. Programa una función que permita encontrar el grado de todos los nodos. Debe recibir una red. Debe retornar un diccionario que relacione nodos (llaves) con grados (valores).\n",
    "\n",
    "2. Centralidad 1 (**):\n",
    "\n",
    "2.1. Programa una función que permita hallar la medida de clustering para un nodo. Debe recibir una red y un nodo. Debe retornar la medida solicitada.\n",
    "\n",
    "2.2. Programa una función que permita hallar la medida de clustering promedio por nodo para una red. Debe recibir una red. Debe retornar la medida solicitada.\n",
    "\n",
    "2.3. Programa una función que permita hallar la medida de clustering global para una red. Debe recibir una red. Debe retornar la medida solicitada.\n",
    "\n",
    "3. Centralidad 2 (***)\n",
    "\n",
    "3.1. Programa una función que permita hallar el prestigio de Katz para una red. Debe recibir una red. Debe retornar la medida solicitada."
   ]
  }
 ],
 "metadata": {
  "kernelspec": {
   "display_name": "Python 3",
   "language": "python",
   "name": "python3"
  },
  "language_info": {
   "codemirror_mode": {
    "name": "ipython",
    "version": 3
   },
   "file_extension": ".py",
   "mimetype": "text/x-python",
   "name": "python",
   "nbconvert_exporter": "python",
   "pygments_lexer": "ipython3",
   "version": "3.10.5"
  },
  "orig_nbformat": 4
 },
 "nbformat": 4,
 "nbformat_minor": 2
}
