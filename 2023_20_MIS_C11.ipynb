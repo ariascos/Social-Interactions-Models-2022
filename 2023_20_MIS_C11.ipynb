{
 "cells": [
  {
   "cell_type": "markdown",
   "metadata": {},
   "source": [
    "# MIS: CLase Complementaria 11 (2023-20)"
   ]
  },
  {
   "cell_type": "markdown",
   "metadata": {},
   "source": [
    "La clase de hoy tendrá dos partes:\n",
    "\n",
    "1) Arquitectura de soluciones.\n",
    "\n",
    "2) Practica de implementación de arquitectura de soluciones."
   ]
  },
  {
   "cell_type": "markdown",
   "metadata": {},
   "source": [
    "#### Arquitectura de soluciones\n",
    "\n",
    "Dado un problema, ¿cómo plantearían la solución e implementación de la misma?\n",
    "\n",
    "El camino más general para lograr una arquitectura de solución.\n",
    "\n",
    "    A) Entienda el problema.\n",
    "\n",
    "    B) Entienda lo que le preguntan.\n",
    "\n",
    "    C) Decante la pregunta.\n",
    "\n",
    "    D) Piense cómo lo implementa.\n",
    "\n",
    "    E) Implemente.\n",
    "\n",
    "    F) Piense cómo lo generaliza.\n",
    "\n",
    "    G) Generalice.\n",
    "\n",
    "    H) Piense cómo lo optimiza.\n",
    "\n",
    "    I) Optimice."
   ]
  },
  {
   "cell_type": "markdown",
   "metadata": {},
   "source": [
    "Lo anterior no representa un proceso lineal. Piense que, en este curso y en su vida laboral, siempre hay momentos en los que tiene que saltar de un paso a otro para poder brindar una solución que sea lo más cercana a lo óptimo. Teniendo en cuenta esto, los procesos deben verse así:\n",
    "\n",
    "1) Ir de lo general a lo particular. (Zoom in)\n",
    "\n",
    "2) Ir de lo particular a lo general. (Zoom out)\n",
    "\n",
    "Toda la arquitectura debería tener detrás un proceso de planeación que NO se realiza en el código. En esta, usted debe usar un concepto abstracto con el cuál tiene una herramienta para llegar al cumplimiento del objetivo de su tarea, pero que no es algo implementable en sí (i.e. ud no corre en su código la idea de una lista, ud corre una lista, la guarda, la llena, etc.)."
   ]
  },
  {
   "cell_type": "markdown",
   "metadata": {},
   "source": [
    "Tenga en cuenta los objetivos de la tarea que tiene, cuales son sus fortalezas y debilidades, así cómo los vacios que tenga en cuanto a conceptos teóricos, de programación y cualquier elemento que pueda representar un hueco en la solución abstracta que usted está pensando. Luego de hacer esto, aterrice las ideas y trate de escribir un programa que exprese esas ideas.\n",
    "\n",
    "Al repetir lo anterior varias veces, realice un ejercicio de versionamiento.\n",
    "\n",
    "Una opción de ejercicio de versionamiento para principiantes: Necesitamos multiplicar n veces una matriz M.\n",
    "\n",
    "1) Realice la multiplicación M*M. ¿Se puede hacer?\n",
    "\n",
    "2) Si lo anterior se puede hacer, ¿Cómo multiplico n veces la matriz M?\n",
    "\n",
    "3) Si lo anterior se puede hacer, ¿Cómo garantizo que para una matriz M y un número n, esta operación tenga sentido?\n",
    "\n",
    "3) Si lo anterior se puede hacer, ¿Cómo optimizo la realización de esta tarea? ¿Bajo qué criterios hago esto?"
   ]
  },
  {
   "cell_type": "markdown",
   "metadata": {},
   "source": [
    "#### Actividad en clase\n",
    "\n",
    "Implemente los siguientes requerimientos en programas que le permitan generar una solución óptima. Que la solución sea óptima depende de su nivel de programación: \n",
    "\n",
    "    Básico: Usted debe generar una solución que funcione, dados unos parámetros de entrada que se suponen correctos.\n",
    "\n",
    "    Intermedio: Usted debe generar una solución que funcione, dados unos parámetros de entrada que pueden ser correctos o no. En caso de no serlo, su programa debe arrojar los errores o alertas correspondientes.\n",
    "\n",
    "    Avanzado: Usted debe generar una solución que contenga los criterios propuestos para un nivel de programación básico e intermedio. Además, su solución debe minimizar los tiempos de ejecución, la cantidad de memoria utilizada, la complejidad de los procesos y evitar los reprocesos. \n",
    "\n",
    "Dos opciones para realizar esta tarea:\n",
    "    \n",
    "    Generar una clasificación usando LexGraph.\n",
    "\n",
    "    Deben elegir un paso del Algoritmo Girvan Newman e implementar."
   ]
  },
  {
   "cell_type": "markdown",
   "metadata": {},
   "source": [
    "<span style=\"color:red\">Tarea: Estudiar los pasos del algoritmo Girvan Newman</span>"
   ]
  }
 ],
 "metadata": {
  "kernelspec": {
   "display_name": "Python 3",
   "language": "python",
   "name": "python3"
  },
  "language_info": {
   "name": "python",
   "version": "3.10.5"
  }
 },
 "nbformat": 4,
 "nbformat_minor": 2
}
