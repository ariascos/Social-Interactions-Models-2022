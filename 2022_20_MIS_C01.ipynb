{
 "cells": [
  {
   "cell_type": "markdown",
   "metadata": {},
   "source": [
    "# MIS: Clase Complementaria 1 "
   ]
  },
  {
   "cell_type": "markdown",
   "metadata": {},
   "source": [
    "### Primeros pasos"
   ]
  },
  {
   "cell_type": "code",
   "execution_count": 1,
   "metadata": {},
   "outputs": [],
   "source": [
    "# Cargue de paquetes necesarios para la clase\n",
    "import numpy as np\n",
    "import pandas as pd\n",
    "import networkx as nx\n",
    "import matplotlib.pyplot as plt\n",
    "\n",
    "# import \"paquete\" as \"abreviatura\""
   ]
  },
  {
   "cell_type": "code",
   "execution_count": null,
   "metadata": {},
   "outputs": [],
   "source": [
    "# Si los paquetes no están instalados, utilicen el siguiente código para instalarlos\n",
    "\n",
    "# Uso de conda install (terminal de anaconda): \n",
    "\n",
    "# conda install -n \"env_name\" \"package_name\" \n",
    "# EJ: conda install -n myenv numpy\n",
    "\n",
    "# Uso de pip install (terminal del computador):\n",
    "\n",
    "# py -m pip install \"SomeProject\"\n",
    "# EJ: py -m pip install numpy\n",
    "\n",
    "# Si usted es usuario MAC ingrese al siguiente link para realizar la instalación\n",
    "# https://packaging.python.org/en/latest/tutorials/installing-packages/\n"
   ]
  },
  {
   "cell_type": "markdown",
   "metadata": {},
   "source": [
    "### Uso básico de Python"
   ]
  },
  {
   "cell_type": "code",
   "execution_count": null,
   "metadata": {},
   "outputs": [],
   "source": [
    "## Definición de variables:\n",
    "\n",
    "# Definición de enteros\n",
    "a = 3\n",
    "\n",
    "# Definición de float\n",
    "b = 3.3\n",
    "\n",
    "# Definición de cadenas o str\n",
    "c = \"Hola Mundo\"\n",
    "\n",
    "# Mostrar el contenido de las variables\n",
    "print(a)\n",
    "print(b)\n",
    "print(c)"
   ]
  },
  {
   "cell_type": "markdown",
   "metadata": {},
   "source": [
    "En general, se pueden hacer las siguientes operaciones sobre int y float\n",
    "\n",
    "Suma: + (+=)\n",
    "\n",
    "Resta: - (-=)\n",
    "\n",
    "Multiplicación: * (*=)\n",
    "\n",
    "División: / (/=)\n",
    "\n",
    "Potencia: ** (**=)"
   ]
  },
  {
   "cell_type": "code",
   "execution_count": null,
   "metadata": {},
   "outputs": [],
   "source": [
    "# Operaciones\n",
    "a = a+1\n",
    "a -= 1\n",
    "print(a)\n",
    "# Lo anterior se puede hacer para todas las operaciones"
   ]
  },
  {
   "cell_type": "markdown",
   "metadata": {},
   "source": [
    "También podemos hacer ciertas operaciones sobre los str\n",
    "\n",
    "Concatenar: + o join\n",
    "Transformar a mayúsculas: str.upper()\n",
    "Transformar a minúsculas: str.lower()\n",
    "Reemplazar caracteres: str.replace()"
   ]
  },
  {
   "cell_type": "code",
   "execution_count": null,
   "metadata": {},
   "outputs": [],
   "source": [
    "A = \"Hola\"+\" Mundo ASbn_%&/$&asdj\"\n",
    "print(A)\n",
    "A = \"_\".join([\"Hola\",\" Mundo ASbn_%&/$&asdj\"])\n",
    "print(A)\n",
    "print(A.upper())\n",
    "print(A.lower())\n",
    "print(A.replace(\" ASbn_%&/$&asdj\",\"\"))\n"
   ]
  },
  {
   "cell_type": "markdown",
   "metadata": {},
   "source": [
    "Necesitaremos iterables, i.e. estructuras de datos que permiten almacenar información a la cual accedemos de alguna manera. Como verán, los str también son iterables"
   ]
  },
  {
   "cell_type": "code",
   "execution_count": null,
   "metadata": {},
   "outputs": [],
   "source": [
    "## Definición de iterables\n",
    "\n",
    "# Listas\n",
    "lista1 = [1,2,3]\n",
    "lista2 = [\"Hola\",\"Mundo\"]\n",
    "lista3 = [1,2,3,\"Hola\",\"Mundo\"]\n",
    "\n",
    "# Mostrar el contenido de las listas\n",
    "print(lista1)\n",
    "print(lista2)\n",
    "print(lista3)"
   ]
  },
  {
   "cell_type": "code",
   "execution_count": null,
   "metadata": {},
   "outputs": [],
   "source": [
    "# Acceder a la información de la lista\n",
    "\n",
    "print(lista3[2])\n",
    "print(lista2[1])\n",
    "\n",
    "print(lista3[1:2])\n",
    "print(lista3[1:3])\n",
    "\n",
    "print(lista3[-2])\n",
    "print(lista3[-2:])\n",
    "print(lista3[:-2])"
   ]
  },
  {
   "cell_type": "code",
   "execution_count": null,
   "metadata": {},
   "outputs": [],
   "source": [
    "# Operaciones con listas\n",
    "\n",
    "# Concatenar listas\n",
    "A = [1,2,3]\n",
    "B = [4,5,6]\n",
    "print(A+B)\n",
    "# Agregar elementos a listas\n",
    "A.append(4)\n",
    "print(A)\n",
    "A.append(B)\n",
    "print(A)"
   ]
  },
  {
   "cell_type": "code",
   "execution_count": null,
   "metadata": {},
   "outputs": [],
   "source": [
    "# Diccionarios\n",
    "dic1 = {}\n",
    "dic2 = {\"llave1\":\"Contenido1\",\"llave2\":\"Contenido2\"}\n",
    "dic3 = {\"a\":\"hola\",1:\"mundo\",3:[1,2,3]}\n",
    "\n",
    "# Mostrar el contenido de los diccionarios\n",
    "print(dic1)\n",
    "print(dic2)\n",
    "print(dic3)"
   ]
  },
  {
   "cell_type": "code",
   "execution_count": null,
   "metadata": {},
   "outputs": [],
   "source": [
    "# Acceder al contenido de los diccionarios\n",
    "print(dic2[\"llave1\"])\n",
    "print(dic3[3])\n"
   ]
  },
  {
   "cell_type": "code",
   "execution_count": null,
   "metadata": {},
   "outputs": [],
   "source": [
    "# Mostrar las llaves\n",
    "print(dic1.keys())\n",
    "print(dic3.keys())\n",
    "\n",
    "print(\"\\n---------------------------------\\n\")\n",
    "\n",
    "# Mostrar el contenido de las llaves (values)\n",
    "print(dic1.values())\n",
    "print(dic3.values())"
   ]
  },
  {
   "cell_type": "code",
   "execution_count": null,
   "metadata": {},
   "outputs": [],
   "source": [
    "# Agregar elementos a los diccionarios\n",
    "dic1[\"llave\"] = [1,2,3]\n",
    "print(dic1)"
   ]
  },
  {
   "cell_type": "code",
   "execution_count": null,
   "metadata": {},
   "outputs": [],
   "source": [
    "# Creación de tuplas: Son como las listas, pero estos no se pueden modificar\n",
    "tupla1 = (1)\n",
    "tupla2 = (1,2)\n",
    "tupla3 = (1,2,[1,2,3])\n",
    "\n",
    "print(tupla1)\n",
    "print(tupla2)\n",
    "print(tupla3)"
   ]
  },
  {
   "cell_type": "code",
   "execution_count": null,
   "metadata": {},
   "outputs": [],
   "source": [
    "# Ver los str como iterables (indexarlos como listas!)\n",
    "A = \"Hola, cómo están?\"\n",
    "A[1]"
   ]
  },
  {
   "cell_type": "code",
   "execution_count": null,
   "metadata": {},
   "outputs": [],
   "source": [
    "## Creación de matrices\n",
    "\n",
    "# Matriz observada como lista de listas\n",
    "M = [[1,2,3],[4,5,6],[7,8,9]]\n",
    "print(M)\n",
    "\n",
    "print(\"\\n\"+\"-\"*30+\"\\n\")\n",
    "\n",
    "# Matriz que está en un formato que Numpy puede manejar\n",
    "M = np.array(M)\n",
    "print(M)"
   ]
  },
  {
   "cell_type": "markdown",
   "metadata": {},
   "source": [
    "### Uso básico de NetworkX"
   ]
  },
  {
   "cell_type": "code",
   "execution_count": null,
   "metadata": {},
   "outputs": [],
   "source": [
    "# Creación de un grafo vacio\n",
    "G = nx.Graph()\n",
    "# Agrego nodos al grafo\n",
    "G.add_node(1)\n",
    "G.add_node(\"A\")\n",
    "print(G)"
   ]
  },
  {
   "cell_type": "code",
   "execution_count": null,
   "metadata": {},
   "outputs": [],
   "source": [
    "# Agrego de forma masiva nodos\n",
    "G.add_nodes_from([2,3])\n",
    "G.add_nodes_from(range(10,100))\n",
    "G.add_nodes_from([i for i in range(100,200)])\n",
    "print(G)"
   ]
  },
  {
   "cell_type": "code",
   "execution_count": null,
   "metadata": {},
   "outputs": [],
   "source": [
    "# Agrego nodos con atributos\n",
    "G.add_nodes_from([(4, {\"color\": \"red\"}),\n",
    "(5, {\"color\": \"green\"})])\n",
    "print(G)\n",
    "# Listado con contenido tupla. Tupla con estructura (node_name,node_attribute_dict)"
   ]
  },
  {
   "cell_type": "code",
   "execution_count": null,
   "metadata": {},
   "outputs": [],
   "source": [
    "# Creación de un grafo vacio (Undirected)\n",
    "G_UD = nx.Graph()\n",
    "\n",
    "# Creación de enlaces (edges)\n",
    "G_UD.add_edge(\"A\",\"B\")\n",
    "G_UD.add_edge(\"B\",\"C\")\n",
    "print(G_UD)"
   ]
  },
  {
   "cell_type": "code",
   "execution_count": null,
   "metadata": {},
   "outputs": [],
   "source": [
    "# Creación de un grafo vacio (Directed)\n",
    "G_D = nx.DiGraph() \n",
    "\n",
    "# Creación de enlaces (edges)\n",
    "G_D.add_edge(\"A\",\"B\")\n",
    "G_D.add_edge(\"B\",\"C\")\n",
    "print(G_D)\n"
   ]
  },
  {
   "cell_type": "code",
   "execution_count": null,
   "metadata": {},
   "outputs": [],
   "source": [
    "# Creación de un grafo vacio (Weihted)\n",
    "G_DW = nx.DiGraph() \n",
    "\n",
    "# Creación de enlaces (edges)\n",
    "G_DW.add_edge(\"A\",\"B\",weight = 6)\n",
    "G_DW.add_edge(\"B\",\"C\")\n",
    "print(G_DW) "
   ]
  },
  {
   "cell_type": "code",
   "execution_count": null,
   "metadata": {},
   "outputs": [],
   "source": [
    "# Creación de un grafo vacio (Signed)\n",
    "G_DS = nx.DiGraph() \n",
    "\n",
    "# Creación de enlaces (edges)\n",
    "G_DS.add_edge(\"A\",\"B\",sign = \"+\")\n",
    "G_DS.add_edge(\"B\",\"C\",sign = \"-\")\n",
    "print(G_DS)"
   ]
  },
  {
   "cell_type": "code",
   "execution_count": null,
   "metadata": {},
   "outputs": [],
   "source": [
    "# Creación de un grafo vacio (Con otros atributos, e.g. relación)\n",
    "G_UDR = nx.Graph() \n",
    "\n",
    "# Creación de enlaces (edges)\n",
    "G_UDR.add_edge(\"A\",\"B\",relation = \"friend\")\n",
    "G_UDR.add_edge(\"B\",\"C\",relation = \"neighbor\")\n",
    "print(G_UDR)"
   ]
  },
  {
   "cell_type": "code",
   "execution_count": null,
   "metadata": {},
   "outputs": [],
   "source": [
    "# Creación de un grafo vacio (Multigrafo:)\n",
    "G_M = nx.MultiGraph() \n",
    "\n",
    "# Creación de enlaces (edges)\n",
    "G_M.add_edge(\"A\",\"B\",relation = \"friend\")\n",
    "G_M.add_edge(\"A\",\"B\",relation = \"neighbor\")\n",
    "print(G_M)"
   ]
  },
  {
   "cell_type": "code",
   "execution_count": null,
   "metadata": {},
   "outputs": [],
   "source": [
    "# Introducción masiva de enlaces\n",
    "\n",
    "G = nx.Graph()\n",
    "# Sin atributos\n",
    "G.add_edges_from([(1, 2), (1, 3)])\n",
    "# Con atributos\n",
    "G.add_edges_from([(1, 4,{\"weight\":3,\"sign\":\"+\"}), \n",
    "(2, 3,{\"weight\":4,\"sign\":\"-\"})])\n",
    "\n",
    "print(G)"
   ]
  },
  {
   "cell_type": "code",
   "execution_count": null,
   "metadata": {},
   "outputs": [],
   "source": [
    "## Examinar los elementos generales más básicos del grafo (https://networkx.org/documentation/stable/tutorial.html)\n",
    "\n",
    "# Nodos presentes\n",
    "print(G.nodes)\n",
    "Nodos = list(G.nodes)\n",
    "# Enlaces presentes\n",
    "print(G.edges)\n",
    "Enlaces = list(G.edges)\n"
   ]
  },
  {
   "cell_type": "code",
   "execution_count": null,
   "metadata": {},
   "outputs": [],
   "source": [
    "# Examinar características básicas de los nodos\n",
    "print(G.degree[1]) # Grado\n",
    "print(list(G.neighbors(1))) # Vecinos"
   ]
  },
  {
   "cell_type": "code",
   "execution_count": null,
   "metadata": {},
   "outputs": [],
   "source": [
    "# Grafos relevantes (https://networkx.org/documentation/stable/reference/generators.html)\n",
    "G_E = nx.empty_graph(5) # Grafo vacio\n",
    "G_C = nx.complete_graph(5) # Grafo completo\n",
    "G_ER = nx.erdos_renyi_graph(5,0.5) # Grafo tipo Erdos-Renyi"
   ]
  },
  {
   "cell_type": "code",
   "execution_count": null,
   "metadata": {},
   "outputs": [],
   "source": [
    "# Creación de matrices de adyacencia\n",
    "A_G_E = nx.to_numpy_matrix(G_E) \n",
    "A_G_C = nx.to_numpy_matrix(G_C)\n",
    "A_G_ER = nx.to_numpy_matrix(G_ER)"
   ]
  },
  {
   "cell_type": "markdown",
   "metadata": {},
   "source": [
    "#### Creación de los gráficos de los grafos"
   ]
  },
  {
   "cell_type": "code",
   "execution_count": null,
   "metadata": {},
   "outputs": [],
   "source": [
    "# Grafo Sin Enlaces\n",
    "Dribujo_G_E = nx.draw(G_E)"
   ]
  },
  {
   "cell_type": "code",
   "execution_count": null,
   "metadata": {},
   "outputs": [],
   "source": [
    "# Grafo Totalmente Conectado\n",
    "Dribujo_G_C =  nx.draw(G_C)"
   ]
  },
  {
   "cell_type": "code",
   "execution_count": null,
   "metadata": {},
   "outputs": [],
   "source": [
    "# Grafo Erdos Renyi G(n = 5,p = 0.5)\n",
    "Dribujo_G_ER = nx.draw(G_ER)"
   ]
  },
  {
   "cell_type": "code",
   "execution_count": null,
   "metadata": {},
   "outputs": [],
   "source": [
    "# Verificación del número de caminos que llegan de un nodo i a un nodo j, de longitud n\n",
    "\n",
    "# Creación del grafo\n",
    "G = nx.Graph()\n",
    "G.add_edges_from([(1, 2), (1, 3)])\n",
    "\n",
    "# Creación de la matriz de adyacencia\n",
    "A_G = nx.to_numpy_matrix(G)\n",
    "\n",
    "# Recorrido por el máximo número de enlaces que puede tener un camnio entre un nodo y otro antes de volverse un ciclo \n",
    "Nodos = list(G.nodes)\n",
    "Lista_Matrices = []\n",
    "for i in range(len(Nodos)):\n",
    "    print(\"Caminos de longitud {}\".format(i+1))\n",
    "    if i == 0:\n",
    "        B = A_G\n",
    "    else:\n",
    "        B = B*A_G\n",
    "    print(B)\n",
    "    print(\"\\n{}\\n\".format(\"_\"*20))\n",
    "    Lista_Matrices.append(B)\n",
    "\n",
    "# Usamos entonces len(Nodos) o len(Nodos)-1?"
   ]
  },
  {
   "cell_type": "code",
   "execution_count": null,
   "metadata": {},
   "outputs": [],
   "source": [
    "# Verificación de los caminos más cortos\n",
    "print(nx.shortest_path(G))\n",
    "print(nx.shortest_path(G,1,2))"
   ]
  },
  {
   "cell_type": "code",
   "execution_count": null,
   "metadata": {},
   "outputs": [],
   "source": [
    "nx.betweenness_centrality()"
   ]
  },
  {
   "cell_type": "markdown",
   "metadata": {},
   "source": [
    "### Actividad en clase\n",
    "\n",
    "Realice los siguientes puntos:\n",
    "\n",
    "1) Pruebe que para \"n\" grande y \"p\" pequeño se cumple la aproximación de Poisson (Revise que la resta es cercana a cero o la división a 1). Si quiere mostrar un ejercicio que recrea la idea de una prueba formal, fije \"p\" pequeño y cree una secuencia de \"n\", con \"n\" realizando saltos \"grandes\" y reporte la resta o el cociente, i.e. muestre cómo se llega al límite.    \n",
    "\n",
    "2) Usando el umbral dado en el libro de Jackson, elija una pareja (n,p) en la cuál haya una componente conexa grande y una pareja (n,p') para la cual no exista esta componente. Muestre su resultado creando las redes y grafique. \n",
    "\n",
    "3) Cree usted mismo una función (si no sabe cómo me puede preguntar) que calcule el índice de relevancia Betweeness Centrality usando (1) los métodos nx.shortest_path() y (2) la matriz de adyacencia (piense en una matriz pequeña y conexa). Para esto, evite la normalización (n-1)*(n-2)/2 mostrada en el libro. Realice el punto (2) de este numeral únicamente si se siente bastante cómodo usando recorridos.\n",
    "\n",
    "4) Para la función que creó en el punto anterior, implemente dos opciones: \"Directed\" y \"Undirected\". Para \"Directed\", aplique la corrección (n-1)*(n-2) y para \"Undirected\" la corrección (n-1)*(n-2)/2, i.e. divida el resultado por estos valores o multipliquelo por su inverso multiplicativo. Compare su resultado con el método nx.betweenness_centrality() y lea la documentación del mismo."
   ]
  }
 ],
 "metadata": {
  "kernelspec": {
   "display_name": "Python 3.10.5 64-bit",
   "language": "python",
   "name": "python3"
  },
  "language_info": {
   "codemirror_mode": {
    "name": "ipython",
    "version": 3
   },
   "file_extension": ".py",
   "mimetype": "text/x-python",
   "name": "python",
   "nbconvert_exporter": "python",
   "pygments_lexer": "ipython3",
   "version": "3.10.5"
  },
  "orig_nbformat": 4,
  "vscode": {
   "interpreter": {
    "hash": "54a3d53733bdb4b0f0358cf3d547bbcb79614b900270fd5b08862d484f5a5082"
   }
  }
 },
 "nbformat": 4,
 "nbformat_minor": 2
}
