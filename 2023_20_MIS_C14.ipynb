{
 "cells": [
  {
   "cell_type": "markdown",
   "metadata": {},
   "source": [
    "# MIS: Clase 14 (2023-20)\n",
    "\n",
    "El objetivo de esta clase es realizar algunos ejercicios en vivo para repasar Python y comprender algunos algoritmos de asignación sencillos."
   ]
  },
  {
   "cell_type": "markdown",
   "metadata": {},
   "source": [
    "#### Preliminares"
   ]
  },
  {
   "cell_type": "code",
   "execution_count": 1,
   "metadata": {},
   "outputs": [],
   "source": [
    "# Cargue de paquetes\n",
    "import numpy as np\n",
    "import random\n",
    "import copy"
   ]
  },
  {
   "cell_type": "code",
   "execution_count": 2,
   "metadata": {},
   "outputs": [],
   "source": [
    "# Generador de agentes\n",
    "def agentes(n:int,restricciones:list=1):\n",
    "    if isinstance(restricciones,int):\n",
    "        A = {\"A_{}\".format(i):restricciones for i in range(n)}\n",
    "    elif isinstance(restricciones,list):\n",
    "        if len(restricciones)==n:\n",
    "            A = {\"A_{}\".format(i):restricciones[i] for i in range(n)}\n",
    "        else:\n",
    "            raise Exception(\"Introduzca Parámetros Adecuados\") \n",
    "    return A\n",
    "    \n",
    "# Generador de objetos\n",
    "def objetos(m:int):\n",
    "    return [\"O_{}\".format(i) for i in range(m)]\n",
    "\n",
    "# Generador de preferencias\n",
    "def preferencias(agentes:dict,objetos:list):\n",
    "    pref = {}\n",
    "    for agente in agentes:\n",
    "        obj = copy.deepcopy(objetos)\n",
    "        cont = 0\n",
    "        n=len(obj)\n",
    "        arreglo = {}\n",
    "        arreglo1 = {}\n",
    "        while 0<n:\n",
    "            i = random.randint(0,n-1)\n",
    "            U = obj.pop(i)\n",
    "            arreglo[cont] = U\n",
    "            arreglo1[U]=cont\n",
    "            n -= 1\n",
    "            cont += 1\n",
    "        pref[agente] = (arreglo,arreglo1,agentes[agente]) #Retorna la relación Objeto-Posición, Posición-Objeto y la cantidad de objetos que puede tener el agente\n",
    "    return pref"
   ]
  },
  {
   "cell_type": "code",
   "execution_count": 10,
   "metadata": {},
   "outputs": [],
   "source": [
    "Agentes = agentes(3,1)\n",
    "Objetos = objetos(3)\n",
    "Preferencias = preferencias(Agentes,Objetos)"
   ]
  },
  {
   "cell_type": "markdown",
   "metadata": {},
   "source": [
    "#### Primera Actividad: Programar el algoritmo del dictador serial.\n",
    "\n",
    "Programe el algoritmo de asignación del dictador serial. Recuerde que debe tener en cuenta el tipo de preferencias que tienen los agentes sobre los objetos, el ordenamiento aleatorio de los agentes para realizar las elecciones y cómo se realizan las asignaciones. Debe programarlo para dos casos: una elección y múltiples elecciones (por agente)."
   ]
  },
  {
   "cell_type": "code",
   "execution_count": 17,
   "metadata": {},
   "outputs": [
    {
     "data": {
      "text/plain": [
       "['A_0', 'A_1', 'A_2']"
      ]
     },
     "execution_count": 17,
     "metadata": {},
     "output_type": "execute_result"
    }
   ],
   "source": [
    "AAA = list(Agentes.keys())\n",
    "random.shuffle(AAA)\n",
    "AAA\n"
   ]
  },
  {
   "cell_type": "code",
   "execution_count": 18,
   "metadata": {},
   "outputs": [],
   "source": [
    "Asignaciones = {obj:False for obj in Objetos}"
   ]
  },
  {
   "cell_type": "code",
   "execution_count": 19,
   "metadata": {},
   "outputs": [
    {
     "data": {
      "text/plain": [
       "{'O_0': 'A_0', 'O_1': 'A_2', 'O_2': 'A_1'}"
      ]
     },
     "execution_count": 19,
     "metadata": {},
     "output_type": "execute_result"
    }
   ],
   "source": [
    "\n",
    "for pos in range(len(AAA)):\n",
    "    agent = AAA[pos]\n",
    "    Pref = Preferencias[agent][0]\n",
    "    for j in Pref:\n",
    "        Obj = Pref[j]\n",
    "        if Asignaciones[Obj]==False:\n",
    "            Asignaciones[Obj]=agent\n",
    "            break\n",
    "Asignaciones"
   ]
  },
  {
   "cell_type": "markdown",
   "metadata": {},
   "source": [
    "#### Segunda Actividad: Programar un dictador serial \"inverso\".\n",
    "\n",
    "Programe el siguiente algoritmo de asignación. Se establece un orden aleatorio de elección para los agentes. En su turno, cada agente toma los objetos que quiere. Si el objeto estaba asignado a algún agente, se lo quita y este agente debe elegir su siguiente opción. Esta opción es válida solo si el objeto lo tiene alguíen que elegía antes que él o está libre. Debe programarlo para dos casos: una elección y múltiples elecciones (por agente)."
   ]
  },
  {
   "cell_type": "code",
   "execution_count": null,
   "metadata": {},
   "outputs": [],
   "source": []
  }
 ],
 "metadata": {
  "kernelspec": {
   "display_name": "Python 3",
   "language": "python",
   "name": "python3"
  },
  "language_info": {
   "codemirror_mode": {
    "name": "ipython",
    "version": 3
   },
   "file_extension": ".py",
   "mimetype": "text/x-python",
   "name": "python",
   "nbconvert_exporter": "python",
   "pygments_lexer": "ipython3",
   "version": "3.10.5"
  }
 },
 "nbformat": 4,
 "nbformat_minor": 2
}
