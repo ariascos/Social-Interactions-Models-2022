{
 "cells": [
  {
   "cell_type": "markdown",
   "metadata": {},
   "source": [
    "# MIS: Clase complementaria 5"
   ]
  },
  {
   "cell_type": "code",
   "execution_count": 67,
   "metadata": {},
   "outputs": [],
   "source": [
    "import numpy as np \n",
    "import networkx as nx\n",
    "import itertools as it\n",
    "import time"
   ]
  },
  {
   "cell_type": "markdown",
   "metadata": {},
   "source": [
    "#### Repaso"
   ]
  },
  {
   "cell_type": "markdown",
   "metadata": {},
   "source": [
    "-------Definición Redes:-------\n",
    "\n",
    "Dada una red (N,G) con N un conjunto de nodos y G un conjunto de enlaces. O alternativamente, dada una red (N,g) con N un conjunto de nodos y g una matriz de adyacencia.\n",
    "\n",
    "u_i(g) = \"Utilidad que recibe el agente i de la estructura de la red g\". Note que u_i(g): Redes(n)->R\n",
    "\n",
    "Si |N|=n, llamemos al conjunto de todas las redes Redes(n) := M_{nxn}({1,0})\n",
    "\n",
    "-------Definición Eficiencia-------\n",
    "\n",
    "g es eficiente (socialmente) si g maximiza la utilidad social (utilitarista). ¿Cómo planteo esto?\n",
    "\n",
    "g es eficiente ssi g = argmax{g´ \\in Redes(n)} U(g). Aquí, U:Redes -> R y se puede ver así: Tome S:Redes(n)->R^n, dada por S(g) = (u_1(g),u_2(g),...,u_n(g)). \n",
    "\n",
    "Además, tome F:R^n->R dada por F(x_1,...,x_n) = x_1 + x_2 + ... + x_n. Así, U = F°S.\n",
    "\n",
    "-------Definición Eficiencia Paretiana-------\n",
    "\n",
    "g es pareto eficiente (eficiente en el sentido de Pareto) si no existe otra red que mejore estrictamente a un agente y no empeore a los demás.\n",
    "\n",
    "¿Qué quiere decir lo anterior?\n",
    "\n",
    "g es pareto eficiente ssi para toda g' NO se cumplen las siguientes condiciones:\n",
    "\n",
    "1) Hay un i para el cual u_i(g´)>u_i(g).\n",
    "\n",
    "2) Para todo j u_j(g´)>=u_j(g)\n",
    "\n",
    "¿Cómo testear esto?\n",
    "\n",
    "-------Definición Equilibrio-------\n",
    "\n",
    "Una red se considera en un equilibrio (de Nash si se quiere, extendido a redes obviamente) si es estable por pares. Dado (N,G), sean i,j agentes con i distinto de j. \n",
    "\n",
    "La estabilidad por pares se define por:\n",
    "\n",
    "1) No es cierto que exista un i, tal que (i,j) está en G, para el cual u_i(G\\ {(i,j)}) > u_i(G). Aterrizando esto: Para todo i es cierto que u_i(G)>=u_i(G\\ {(i,j)})      \n",
    "\n",
    "2) No es cierto que existan i,j, tales que (i,j) no está en G, para los cuales u_k(G u {(i,j)}) > u_k(G), con k = i,j. Aterrizando esto: Para todo i,j es cierto que u_k(G)>=u_k(G u {(i,j)})  "
   ]
  },
  {
   "cell_type": "markdown",
   "metadata": {},
   "source": [
    "#### Block and Jackson\n",
    "\n",
    "Trataremos de montar el modelo y luego analizarlo. Primero, qué significa cada cosa:\n",
    "\n",
    "1) b(k)>b(k+1). ¿Cómo generalizarla?\n",
    "\n",
    "2) c>=0. ¿Qué significa?\n",
    "\n",
    "3) ¿Qué significa tener conexiones simétricas? ¿Qué es \\delta? ¿Por qué \\delta está en (0,1)?"
   ]
  },
  {
   "cell_type": "code",
   "execution_count": 68,
   "metadata": {},
   "outputs": [],
   "source": [
    "def generador_recorridos(Conj_SP):\n",
    "    Nodes = Conj_SP.keys() # Extraigo el conjunto de nodos\n",
    "    Suma_Sobre = {} \n",
    "    for i in Nodes:\n",
    "        listado = []\n",
    "        for j in Nodes:\n",
    "            if i!=j:\n",
    "                if Conj_SP[i][j]>0:\n",
    "                    listado.append(j)\n",
    "        Suma_Sobre[i] = listado\n",
    "    return Suma_Sobre"
   ]
  },
  {
   "cell_type": "code",
   "execution_count": 69,
   "metadata": {},
   "outputs": [],
   "source": [
    "def suma_utilidad_i(nodo,Suma_Sobre,Conj_SP,bfun,grados,constant):\n",
    "    utilidad_i = 0\n",
    "    if len(Suma_Sobre[nodo])>0:\n",
    "        for j in Suma_Sobre[nodo]:\n",
    "            utilidad_i+=bfun(Conj_SP[nodo][j])\n",
    "    utilidad_i-=grados[nodo]\n",
    "    return utilidad_i "
   ]
  },
  {
   "cell_type": "code",
   "execution_count": 70,
   "metadata": {},
   "outputs": [],
   "source": [
    "# Función de utilidad generica que nos permite generar las utilidades relevantes\n",
    "def utility_function(grafo,bfun,constant):\n",
    "    #grafo = G\n",
    "    Conj_SP = dict(nx.shortest_path_length(grafo)) # Creo los shortest path\n",
    "    Grados = dict(nx.degree(grafo)) # Creo los grados de los nodos\n",
    "    Recorrido = generador_recorridos(Conj_SP) # Creo los recorridos factibles\n",
    "    Utilidades = {i:suma_utilidad_i(i,Recorrido,Conj_SP,bfun,Grados,constant) for i in Conj_SP}\n",
    "    return Utilidades\n",
    "    \n",
    "# Esta funcion crea un diccionario con llaves = nodos i y valores = U_i(grafo)"
   ]
  },
  {
   "cell_type": "code",
   "execution_count": 71,
   "metadata": {},
   "outputs": [],
   "source": [
    "# Para el modelo de conexiones simétricas\n",
    "def bfun_simetricas(long_sp,delta = 0.99):\n",
    "    if (delta>0) & (delta<1):\n",
    "        return delta**long_sp\n",
    "    else:\n",
    "        raise Exception(\"Introduzca argumento delta correcto\")\n"
   ]
  },
  {
   "cell_type": "code",
   "execution_count": 72,
   "metadata": {},
   "outputs": [
    {
     "data": {
      "image/png": "[encoded data removed]",
      "text/plain": [
       "<Figure size 432x288 with 1 Axes>"
      ]
     },
     "metadata": {},
     "output_type": "display_data"
    }
   ],
   "source": [
    "# Vamos a probar!\n",
    "# Creamos el grafo\n",
    "G = nx.erdos_renyi_graph(7,0.5)\n",
    "# Eliminar \"self-loops\"\n",
    "G.remove_edges_from(nx.selfloop_edges(G))\n",
    "nx.draw(G)"
   ]
  },
  {
   "cell_type": "code",
   "execution_count": 73,
   "metadata": {},
   "outputs": [
    {
     "name": "stdout",
     "output_type": "stream",
     "text": [
      "{0: 3.9004000000000003, 1: 3.9004000000000003, 2: -0.05999999999999961, 3: 2.9103000000000003, 4: 4.8905, 5: 2.9103000000000003, 6: 2.9103000000000003}\n"
     ]
    }
   ],
   "source": [
    "# Se generan las utilidades según el modelo\n",
    "Utilidades = utility_function(grafo = G,bfun = bfun_simetricas,constant = 0.5)\n",
    "print(Utilidades)\n",
    "# Se agregan como atributos de los nodos\n",
    "nx.set_node_attributes(G,Utilidades,\"Utilidad\")"
   ]
  },
  {
   "cell_type": "code",
   "execution_count": 74,
   "metadata": {},
   "outputs": [
    {
     "data": {
      "text/plain": [
       "3.9004000000000003"
      ]
     },
     "execution_count": 74,
     "metadata": {},
     "output_type": "execute_result"
    }
   ],
   "source": [
    "# Se revisa que todo esté bien \n",
    "G.nodes[0][\"Utilidad\"]"
   ]
  },
  {
   "cell_type": "markdown",
   "metadata": {},
   "source": [
    "#### Actividad:\n",
    "\n",
    "Opción 1) Realicen el planteamiento del modelo de coautores.\n",
    "\n",
    "Opción 2) Les doy ayuditas con el taller."
   ]
  },
  {
   "cell_type": "markdown",
   "metadata": {},
   "source": [
    "#### Otros importantes:\n",
    "\n",
    "1) Matriz de Insumo Producto Dane.\n",
    "\n",
    "2) ¿Algo más que se les ocurra?"
   ]
  }
 ],
 "metadata": {
  "kernelspec": {
   "display_name": "Python 3.10.5 64-bit",
   "language": "python",
   "name": "python3"
  },
  "language_info": {
   "codemirror_mode": {
    "name": "ipython",
    "version": 3
   },
   "file_extension": ".py",
   "mimetype": "text/x-python",
   "name": "python",
   "nbconvert_exporter": "python",
   "pygments_lexer": "ipython3",
   "version": "3.10.5"
  },
  "orig_nbformat": 4,
  "vscode": {
   "interpreter": {
    "hash": "54a3d53733bdb4b0f0358cf3d547bbcb79614b900270fd5b08862d484f5a5082"
   }
  }
 },
 "nbformat": 4,
 "nbformat_minor": 2
}
