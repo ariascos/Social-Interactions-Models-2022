{
 "cells": [
  {
   "cell_type": "markdown",
   "metadata": {},
   "source": [
    "# MIS: Clase Complementaria 2"
   ]
  },
  {
   "cell_type": "code",
   "execution_count": 1,
   "metadata": {},
   "outputs": [],
   "source": [
    "import numpy as np \n",
    "import networkx as nx\n",
    "import itertools as it\n",
    "import time"
   ]
  },
  {
   "cell_type": "markdown",
   "metadata": {},
   "source": [
    "### Introducción a condiciones lógicas y uso de if, elif, else."
   ]
  },
  {
   "cell_type": "markdown",
   "metadata": {},
   "source": [
    "Los lenguajes de programación trabajan viendo si hay condiciones que son ciertas o falsas y a nosotros nos interesa trabajar siguiendo estos esquemas y entendiendolos."
   ]
  },
  {
   "cell_type": "code",
   "execution_count": 2,
   "metadata": {},
   "outputs": [],
   "source": [
    "# Basics de lógica en Python\n",
    "verdad = True\n",
    "mentira = False"
   ]
  },
  {
   "cell_type": "code",
   "execution_count": 3,
   "metadata": {},
   "outputs": [
    {
     "name": "stdout",
     "output_type": "stream",
     "text": [
      "True\n",
      "True\n",
      "True\n",
      "False\n",
      "True\n",
      "False\n",
      "False\n",
      "True\n"
     ]
    }
   ],
   "source": [
    "# Comparaciones\n",
    "print(1 == 1)\n",
    "print(1 == 2-1)\n",
    "print(2 > 1)\n",
    "print(2 < 1)\n",
    "print(2 >= 1)\n",
    "print(2 <= 1)\n",
    "print(2 != 2)\n",
    "print(2 != 4)\n",
    "\n",
    "# Qué pasa si usando lo anterior usamos \"hola\" vs \"hola.\". Piense en igualdad de \n",
    "# cadenas de caracteres y en el diccionario en el que ud busca palabras que no conoce, i.e.\n",
    "# ordenes lexicográficos. "
   ]
  },
  {
   "cell_type": "code",
   "execution_count": 4,
   "metadata": {},
   "outputs": [
    {
     "name": "stdout",
     "output_type": "stream",
     "text": [
      "True\n",
      "3\n",
      "0\n",
      "0\n",
      "1\n"
     ]
    }
   ],
   "source": [
    "# Booleanos (Leyes de Boole)\n",
    "print(verdad>mentira)\n",
    "\n",
    "print(verdad*3)\n",
    "print(mentira*3)\n",
    "print(verdad*mentira)\n",
    "print(verdad+mentira)\n"
   ]
  },
  {
   "cell_type": "code",
   "execution_count": 5,
   "metadata": {},
   "outputs": [
    {
     "name": "stdout",
     "output_type": "stream",
     "text": [
      "A es cero\n"
     ]
    }
   ],
   "source": [
    "# Uso de if, elif, else.\n",
    "A = 0\n",
    "\n",
    "if A<0:\n",
    "    print(\"A es negativo\")\n",
    "elif A>0:\n",
    "    print(\"A es positivo\")\n",
    "else:\n",
    "    print(\"A es cero\")"
   ]
  },
  {
   "cell_type": "code",
   "execution_count": 6,
   "metadata": {},
   "outputs": [
    {
     "name": "stdout",
     "output_type": "stream",
     "text": [
      "A es cero\n"
     ]
    }
   ],
   "source": [
    "# Alternativas\n",
    "if A == 0:\n",
    "    print(\"A es cero\")\n",
    "elif A<0:\n",
    "    print(\"A es negativo\")\n",
    "else:\n",
    "    print(\"A es positivo\")\n"
   ]
  },
  {
   "cell_type": "code",
   "execution_count": 7,
   "metadata": {},
   "outputs": [
    {
     "name": "stdout",
     "output_type": "stream",
     "text": [
      "A es cero\n"
     ]
    }
   ],
   "source": [
    "# NO cometer este error\n",
    "if A<0:\n",
    "    print(\"A es negativo\")\n",
    "if A>0:\n",
    "    print(\"A es positivo\")\n",
    "if A == 0:\n",
    "    print(\"A es cero\")"
   ]
  },
  {
   "cell_type": "code",
   "execution_count": 8,
   "metadata": {},
   "outputs": [
    {
     "name": "stdout",
     "output_type": "stream",
     "text": [
      "A es cero\n"
     ]
    }
   ],
   "source": [
    "# NO cometer este error\n",
    "if A<0:\n",
    "    print(\"A es negativo\")\n",
    "elif A>0:\n",
    "    print(\"A es positivo\")\n",
    "elif A == 0:\n",
    "    print(\"A es cero\")"
   ]
  },
  {
   "cell_type": "code",
   "execution_count": 9,
   "metadata": {},
   "outputs": [
    {
     "ename": "SyntaxError",
     "evalue": "invalid syntax (2512712643.py, line 2)",
     "output_type": "error",
     "traceback": [
      "\u001b[1;36m  Input \u001b[1;32mIn [9]\u001b[1;36m\u001b[0m\n\u001b[1;33m    elif A<0:\u001b[0m\n\u001b[1;37m    ^\u001b[0m\n\u001b[1;31mSyntaxError\u001b[0m\u001b[1;31m:\u001b[0m invalid syntax\n"
     ]
    }
   ],
   "source": [
    "# NO cometer este error\n",
    "elif A<0:\n",
    "    print(\"A es negativo\")\n",
    "elif A>0:\n",
    "    print(\"A es positivo\")\n",
    "elif A == 0:\n",
    "    print(\"A es cero\")"
   ]
  },
  {
   "cell_type": "markdown",
   "metadata": {},
   "source": [
    "### Introducción a recorridos"
   ]
  },
  {
   "cell_type": "markdown",
   "metadata": {},
   "source": [
    "Los recorridos se realizan sobre iterables que conocemos o sobre condiciones lógicas que establecemos desde un principio. Cabe aclarar que los recorridos son la capa más externa de lo que podemos entender como un algoritmo, por lo cuál se debe asegurar que el recorrido sea finito. Por ahora tendremos dos tipos de recorrido relevante: for y while."
   ]
  },
  {
   "cell_type": "markdown",
   "metadata": {},
   "source": [
    "#### Recorridos tipo: for"
   ]
  },
  {
   "cell_type": "code",
   "execution_count": 10,
   "metadata": {},
   "outputs": [
    {
     "name": "stdout",
     "output_type": "stream",
     "text": [
      "Se realizan acciones sobre o con el indice: 1\n",
      "Se realizan acciones sobre o con el indice: 2\n",
      "Se realizan acciones sobre o con el indice: 3\n"
     ]
    }
   ],
   "source": [
    "# Recorrido tipo: for\n",
    "Iterable_A_Recorrer = [1,2,3]\n",
    "\n",
    "for indice in Iterable_A_Recorrer:\n",
    "    print(\"Se realizan acciones sobre o con el indice: {}\".format(indice))"
   ]
  },
  {
   "cell_type": "code",
   "execution_count": 11,
   "metadata": {},
   "outputs": [],
   "source": [
    "# Probemos distintos recorridos sobre distintos tipos de iterables\n",
    "Iterable1 = [1,2,3,\"Hola\",\"Mundo\"]\n",
    "Iterable2 = (1,2,3,4)\n",
    "Iterable3 = {\"llave1\":\"hola\",\"llave2\":\"mundo\",\"llave3\":[1,2,3]}"
   ]
  },
  {
   "cell_type": "code",
   "execution_count": 12,
   "metadata": {},
   "outputs": [
    {
     "name": "stdout",
     "output_type": "stream",
     "text": [
      "1\n",
      "2\n",
      "3\n",
      "Hola\n",
      "Mundo\n"
     ]
    }
   ],
   "source": [
    "# Recorridos Simples (1)\n",
    "for i in Iterable1:\n",
    "    print(i)"
   ]
  },
  {
   "cell_type": "code",
   "execution_count": 13,
   "metadata": {},
   "outputs": [
    {
     "name": "stdout",
     "output_type": "stream",
     "text": [
      "1\n",
      "2\n",
      "3\n",
      "4\n"
     ]
    }
   ],
   "source": [
    "# Recorridos Simples (2)\n",
    "for i in Iterable2:\n",
    "    print(i)"
   ]
  },
  {
   "cell_type": "code",
   "execution_count": 14,
   "metadata": {},
   "outputs": [
    {
     "name": "stdout",
     "output_type": "stream",
     "text": [
      "llave1\n",
      "llave2\n",
      "llave3\n"
     ]
    }
   ],
   "source": [
    "# Recorridos Simples (3)\n",
    "for i in Iterable3:\n",
    "    print(i)"
   ]
  },
  {
   "cell_type": "code",
   "execution_count": 15,
   "metadata": {},
   "outputs": [
    {
     "name": "stdout",
     "output_type": "stream",
     "text": [
      "1\n",
      "2\n",
      "3\n",
      "Hola\n",
      "Mundo\n",
      "******************************\n",
      "1\n",
      "2\n",
      "3\n",
      "4\n",
      "******************************\n",
      "llave1\n",
      "llave2\n",
      "llave3\n",
      "******************************\n"
     ]
    }
   ],
   "source": [
    "# Recorridos Compuestos (Anidados)\n",
    "Iterable_Supremo = [Iterable1,Iterable2,Iterable3]\n",
    "\n",
    "for iterable in Iterable_Supremo:\n",
    "    for i in iterable:\n",
    "        print(i)\n",
    "    print(\"*\"*30)"
   ]
  },
  {
   "cell_type": "markdown",
   "metadata": {},
   "source": [
    "#### Recorridos tipo: while"
   ]
  },
  {
   "cell_type": "code",
   "execution_count": 16,
   "metadata": {},
   "outputs": [
    {
     "name": "stdout",
     "output_type": "stream",
     "text": [
      "1\n",
      "2\n",
      "3\n",
      "4\n"
     ]
    }
   ],
   "source": [
    "# Recorrido tipo: while\n",
    "Condicion_Logica = True\n",
    "A = 1\n",
    "\n",
    "while Condicion_Logica:\n",
    "    print(A)\n",
    "\n",
    "    A+=1\n",
    "    if A>4:\n",
    "        Condicion_Logica = False\n"
   ]
  },
  {
   "cell_type": "code",
   "execution_count": 17,
   "metadata": {},
   "outputs": [
    {
     "name": "stdout",
     "output_type": "stream",
     "text": [
      "1\n",
      "2\n",
      "3\n",
      "4\n",
      "5\n",
      "6\n",
      "7\n",
      "8\n",
      "9\n"
     ]
    }
   ],
   "source": [
    "A = 1\n",
    "while A<10:\n",
    "    print(A)\n",
    "    A+=1 "
   ]
  },
  {
   "cell_type": "markdown",
   "metadata": {},
   "source": [
    "### Algunas funciones útiles"
   ]
  },
  {
   "cell_type": "code",
   "execution_count": 18,
   "metadata": {},
   "outputs": [],
   "source": [
    "# Función que permite crear las matrices de adyacencia a partir de listados de 0 y 1. \n",
    "def matrix_creator(lista,n):\n",
    "    m = len(lista)\n",
    "    if 2*m == (n*(n-1)):\n",
    "        contador = 1\n",
    "        A = []\n",
    "        AA = [0 for i in range(n)]\n",
    "        while contador < n+1:\n",
    "            limite = n - contador\n",
    "            B = lista[:limite]\n",
    "            lista = lista[limite:]\n",
    "            C = AA[:contador] + B\n",
    "            A.append(C)\n",
    "            contador+=1\n",
    "        A = np.array(A)\n",
    "        return A + np.transpose(A)\n",
    "    else:\n",
    "        print(\"Introduzca los inputs correctos\")\n",
    "\n",
    "# Esto sirve para aplicaciones relativamente pequeñas. Una matriz que representa 100 nodos se \n",
    "# crea en aproximadamente 0.002 sec."
   ]
  },
  {
   "cell_type": "code",
   "execution_count": 19,
   "metadata": {},
   "outputs": [],
   "source": [
    "# Funcion que permite crear todos los posibles vectores que representan una red no dirigida.\n",
    "def network_creator(n):\n",
    "    A = [0]*n\n",
    "    B = [1]*n\n",
    "    guardar = set()\n",
    "    contador = 1\n",
    "    while contador<n:\n",
    "        C = B[:contador]+A[contador:]\n",
    "        guardar = guardar.union(set(it.permutations(C,n)))\n",
    "        contador+=1\n",
    "    guardar = [list(i) for i in guardar]\n",
    "    guardar = [A] + guardar + [B]\n",
    "    return(guardar)\n",
    "\n",
    "# Esto sirve para aplicaciones relativamente pequeñas. Todas las posibles conexiones entre \n",
    "# 1000 nodos se crean en aproximadamente "
   ]
  },
  {
   "cell_type": "code",
   "execution_count": 20,
   "metadata": {},
   "outputs": [],
   "source": [
    "# Función de utilidad que nos permite generar las utilidades relevantes\n",
    "def utility_function(grafo):\n",
    "    gross_utility = nx.betweenness_centrality(grafo)\n",
    "    penalty = dict(grafo.degree())\n",
    "    longitud = len(penalty)\n",
    "    utility = {i:(gross_utility[i] - (penalty[i]/longitud)) for i in penalty}\n",
    "    return utility\n",
    "    \n",
    "# Esta funcion crea un diccionario con llaves = nodos i y valores = U_i(grafo)"
   ]
  },
  {
   "cell_type": "markdown",
   "metadata": {},
   "source": [
    "### Actividad en clase\n",
    "\n",
    "A continuación encontrará unos puntos para que usted realice por su cuenta. Sin embargo, las soluciones a los primeros puntos se encuentra en la siguiente sección. Intentelo usted solo y tenga en cuenta que desde el punto 3.3 en adelante la implementación está abierta:\n",
    "\n",
    "1) Calcule todas las posibles redes de tamaño 5 y guardelas en un listado. Asegurese de guardar únicamente las redes que no son isomorfas entre si y use las funciones definidas previamente.\n",
    "\n",
    "2) Calcule la utilidad de cada nodo para cada una de las redes que creó y guarde esto como un atributo de las redes. Hint: nx.set_node_attributes(Red, Dict_Utilidades, \"Utility\")\n",
    "\n",
    "3) Para n=4:\n",
    "\n",
    "    3.1) Calcule los grafos S.E.\n",
    "\n",
    "    3.2) Calcule los grafos P.E.\n",
    "\n",
    "    3.3) Calcule los grafos Estables.\n",
    "\n",
    "    3.4) Calcule P_E y P_A."
   ]
  },
  {
   "cell_type": "markdown",
   "metadata": {},
   "source": [
    "### Solución Actividad en clase"
   ]
  },
  {
   "cell_type": "code",
   "execution_count": 29,
   "metadata": {},
   "outputs": [],
   "source": [
    "# Punto 1\n",
    "\n",
    "n = 5\n",
    "longitud = int(((n-1)*n)/2) \n",
    "M_Adyacencia = [matrix_creator(i,n) for i in network_creator(longitud)]\n",
    "Grafos = [nx.from_numpy_array(i) for i in M_Adyacencia]"
   ]
  },
  {
   "cell_type": "code",
   "execution_count": 30,
   "metadata": {},
   "outputs": [
    {
     "name": "stdout",
     "output_type": "stream",
     "text": [
      "1024\n",
      "34\n"
     ]
    }
   ],
   "source": [
    "Revisor = {i:True for i in range(len(Grafos))}\n",
    "for i in Revisor:\n",
    "    for j in Revisor:\n",
    "        if j>i and Revisor[i] and Revisor[j] :\n",
    "            if nx.is_isomorphic(Grafos[i],Grafos[j]):\n",
    "                Revisor[j] = False\n",
    "\n",
    "Grafos_Def = [Grafos[i] for i in Revisor if Revisor[i]]\n",
    "M_Adyacencia_Def = [M_Adyacencia[i] for i in Revisor if Revisor[i]]\n",
    "\n",
    "print(len(M_Adyacencia))\n",
    "print(len(M_Adyacencia_Def))"
   ]
  },
  {
   "cell_type": "code",
   "execution_count": 31,
   "metadata": {},
   "outputs": [],
   "source": [
    "# Punto 2\n",
    "\n",
    "Utilidades = [utility_function(i) for i in Grafos_Def]\n",
    "for i in range(len(Grafos_Def)):\n",
    "    nx.set_node_attributes(Grafos_Def[i], Utilidades[i], \"Utility\")"
   ]
  },
  {
   "cell_type": "code",
   "execution_count": 32,
   "metadata": {},
   "outputs": [
    {
     "name": "stdout",
     "output_type": "stream",
     "text": [
      "______________________________\n"
     ]
    },
    {
     "data": {
      "image/png": "[encoded data removed]",
      "text/plain": [
       "<Figure size 432x288 with 1 Axes>"
      ]
     },
     "metadata": {},
     "output_type": "display_data"
    }
   ],
   "source": [
    "# Punto 3\n",
    "\n",
    "# 3.1 Usando Utilidad Social Utilitarista\n",
    "Social_Utility = [sum(list(nx.get_node_attributes(Grafos_Def[i],\"Utility\").values())) for i in range(len(Grafos_Def))]\n",
    "Max_Social_Utility = max(Social_Utility)\n",
    "Grafos_SE = [Grafos_Def[i] for i in range(len(Social_Utility)) if Social_Utility[i] == Max_Social_Utility]\n",
    "for i in Grafos_SE:\n",
    "    print(\"_\"*30)\n",
    "    nx.draw(i)"
   ]
  },
  {
   "cell_type": "code",
   "execution_count": 33,
   "metadata": {},
   "outputs": [
    {
     "name": "stdout",
     "output_type": "stream",
     "text": [
      "______________________________\n"
     ]
    },
    {
     "data": {
      "image/png": "[encoded data removed]",
      "text/plain": [
       "<Figure size 432x288 with 1 Axes>"
      ]
     },
     "metadata": {},
     "output_type": "display_data"
    }
   ],
   "source": [
    "# 3.1 Usando Utilidad Social Rawlsiana\n",
    "Social_Utility = [min(list(nx.get_node_attributes(Grafos_Def[i],\"Utility\").values())) for i in range(len(Grafos_Def))]\n",
    "Max_Social_Utility = max(Social_Utility)\n",
    "Grafos_SE = [Grafos_Def[i] for i in range(len(Social_Utility)) if Social_Utility[i] == Max_Social_Utility]\n",
    "for i in Grafos_SE:\n",
    "    print(\"_\"*30)\n",
    "    nx.draw(i)"
   ]
  }
 ],
 "metadata": {
  "kernelspec": {
   "display_name": "Python 3.10.5 64-bit",
   "language": "python",
   "name": "python3"
  },
  "language_info": {
   "codemirror_mode": {
    "name": "ipython",
    "version": 3
   },
   "file_extension": ".py",
   "mimetype": "text/x-python",
   "name": "python",
   "nbconvert_exporter": "python",
   "pygments_lexer": "ipython3",
   "version": "3.10.5"
  },
  "orig_nbformat": 4,
  "vscode": {
   "interpreter": {
    "hash": "54a3d53733bdb4b0f0358cf3d547bbcb79614b900270fd5b08862d484f5a5082"
   }
  }
 },
 "nbformat": 4,
 "nbformat_minor": 2
}
