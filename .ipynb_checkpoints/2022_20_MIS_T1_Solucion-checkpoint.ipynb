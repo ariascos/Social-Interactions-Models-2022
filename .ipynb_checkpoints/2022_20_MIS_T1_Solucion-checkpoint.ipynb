{
 "cells": [
  {
   "cell_type": "code",
   "execution_count": 1,
   "metadata": {},
   "outputs": [],
   "source": [
    "import numpy as np\n",
    "import pandas as pd\n",
    "import networkx as nx\n",
    "import itertools as it\n",
    "import time\n",
    "import matplotlib.pyplot as plt\n",
    "import graph_tools"
   ]
  },
  {
   "cell_type": "markdown",
   "metadata": {},
   "source": [
    "# Eficiencia y Estabilidad"
   ]
  },
  {
   "cell_type": "markdown",
   "metadata": {},
   "source": [
    "### Punto 1"
   ]
  },
  {
   "cell_type": "markdown",
   "metadata": {},
   "source": [
    "#### Definición de funciones relevantes"
   ]
  },
  {
   "cell_type": "code",
   "execution_count": 2,
   "metadata": {},
   "outputs": [],
   "source": [
    "# Función que permite crear las matrices de adyacencia a partir de listados de 0 y 1. \n",
    "def matrix_creator(lista,n):\n",
    "    m = len(lista)\n",
    "    if 2*m == (n*(n-1)):\n",
    "        contador = 1\n",
    "        A = []\n",
    "        AA = [0 for i in range(n)]\n",
    "        while contador < n+1:\n",
    "            limite = n - contador\n",
    "            B = lista[:limite]\n",
    "            lista = lista[limite:]\n",
    "            C = AA[:contador] + B\n",
    "            A.append(C)\n",
    "            contador+=1\n",
    "        A = np.array(A)\n",
    "        return A + np.transpose(A)\n",
    "    else:\n",
    "        print(\"Introduzca los inputs correctos\")\n",
    "\n",
    "# Funcion que permite crear todos los posibles vectores que representan una red no dirigida.\n",
    "def network_creator(n):\n",
    "    A = [0]*n\n",
    "    B = [1]*n\n",
    "    guardar = set()\n",
    "    contador = 1\n",
    "    while contador<n:\n",
    "        C = B[:contador]+A[contador:]\n",
    "        guardar = guardar.union(set(it.permutations(C,n)))\n",
    "        contador+=1\n",
    "    guardar = [list(i) for i in guardar]\n",
    "    guardar = [A] + guardar + [B]\n",
    "    return(guardar)\n",
    "\n",
    "# Función que crea todas las matrices de adyacencia con n nodos\n",
    "def all_adj_matrix_creator(n):\n",
    "    longitud = int(((n-1)*n)/2)\n",
    "    M_Adyacencia = [matrix_creator(i,n) for i in network_creator(longitud)]\n",
    "    return M_Adyacencia\n",
    "\n",
    "# Función que crea los grafos a partir de un listado de matrices de adyacencia\n",
    "def all_graphs_creator(adj_matrix_list):\n",
    "    Grafos = [nx.from_numpy_array(i) for i in adj_matrix_list]\n",
    "    return Grafos\n",
    "\n",
    "def isomorphism_identifier(graphs_list):\n",
    "    Revisor = {i:True for i in range(len(graphs_list))}\n",
    "    Clases_Equiv_Isomorfismos = []\n",
    "    for i in Revisor:\n",
    "        Clase = set([i])\n",
    "        for j in Revisor:\n",
    "            if j>i and Revisor[i] and Revisor[j] :\n",
    "                if nx.is_isomorphic(graphs_list[i],graphs_list[j]):\n",
    "                    Revisor[j] = False\n",
    "                    Clase = Clase.union(set([j]))\n",
    "        if Revisor[i]:\n",
    "            Clases_Equiv_Isomorfismos.append(Clase)\n",
    "    Grafos_Def = [graphs_list[list(i)[0]] for i in Clases_Equiv_Isomorfismos]\n",
    "    return Grafos_Def,Clases_Equiv_Isomorfismos"
   ]
  },
  {
   "cell_type": "markdown",
   "metadata": {},
   "source": [
    "#### Ejecución"
   ]
  },
  {
   "cell_type": "code",
   "execution_count": 3,
   "metadata": {},
   "outputs": [],
   "source": [
    "# Creación inicial de las matrices de adyacencia y posterior a ello todos los grafos\n",
    "n = 5\n",
    "Grafos = all_graphs_creator(all_adj_matrix_creator(n))"
   ]
  },
  {
   "cell_type": "code",
   "execution_count": 4,
   "metadata": {},
   "outputs": [],
   "source": [
    "# Obtención de los representantes de las clases de equivalencia de grafos isomorfos\n",
    "Grafos_Def,Clases_Equiv_Isomorfismos = isomorphism_identifier(Grafos)"
   ]
  },
  {
   "cell_type": "code",
   "execution_count": 5,
   "metadata": {},
   "outputs": [
    {
     "name": "stdout",
     "output_type": "stream",
     "text": [
      "1024\n",
      "34\n"
     ]
    }
   ],
   "source": [
    "# Revisión de que todo esté correcto\n",
    "\n",
    "# Grafos en las clases de equivalencia\n",
    "print(sum([len(i) for i in Clases_Equiv_Isomorfismos]))\n",
    "# Grafos definitivos\n",
    "print(len(Grafos_Def))"
   ]
  },
  {
   "cell_type": "markdown",
   "metadata": {},
   "source": [
    "### Punto 2"
   ]
  },
  {
   "cell_type": "markdown",
   "metadata": {},
   "source": [
    "#### Definición de funciones relevantes"
   ]
  },
  {
   "cell_type": "code",
   "execution_count": 6,
   "metadata": {},
   "outputs": [],
   "source": [
    "# Función de utilidad que nos permite generar las utilidades relevantes\n",
    "def utility_function(grafo,constante=0):\n",
    "    utility = dict(grafo.degree())\n",
    "    utility = {i:utility[i]-constante for i in utility}\n",
    "    return utility\n",
    "\n",
    "def utility_assign(Lista_Grafos,Constante):\n",
    "    Utilidades = [utility_function(i,Constante) for i in Lista_Grafos]\n",
    "    for i in range(len(Lista_Grafos)):\n",
    "        nx.set_node_attributes(Lista_Grafos[i], Utilidades[i], \"Utility\") "
   ]
  },
  {
   "cell_type": "markdown",
   "metadata": {},
   "source": [
    "#### Ejecución"
   ]
  },
  {
   "cell_type": "code",
   "execution_count": 7,
   "metadata": {},
   "outputs": [],
   "source": [
    "# Calculo de las utilidades para cada red (representes)\n",
    "Constante = 1\n",
    "utility_assign(Grafos_Def,Constante)\n"
   ]
  },
  {
   "cell_type": "markdown",
   "metadata": {},
   "source": [
    "### Punto 3"
   ]
  },
  {
   "cell_type": "markdown",
   "metadata": {},
   "source": [
    "#### Definición de funciones importantes"
   ]
  },
  {
   "cell_type": "code",
   "execution_count": 8,
   "metadata": {},
   "outputs": [],
   "source": [
    "# Función que calcula la utilidad social de tipo utilitarista\n",
    "def social_utility_generator(Lista_Grafos):\n",
    "    Social_Utility = [sum(list(nx.get_node_attributes(Lista_Grafos[i],\"Utility\").values())) for i in range(len(Lista_Grafos))]\n",
    "    return Social_Utility\n",
    "# Función que identifica los grafos SE.\n",
    "def max_social_utility_identifier(Lista_Grafos,Social_Utilities):\n",
    "    Max_Social_Utility = max(Social_Utilities)\n",
    "    Grafos_SE = [Lista_Grafos[i] for i in range(len(Social_Utilities)) if Social_Utilities[i] == Max_Social_Utility]\n",
    "    return Grafos_SE\n",
    "\n"
   ]
  },
  {
   "cell_type": "markdown",
   "metadata": {},
   "source": [
    "#### Ejecución"
   ]
  },
  {
   "cell_type": "code",
   "execution_count": 9,
   "metadata": {},
   "outputs": [
    {
     "name": "stdout",
     "output_type": "stream",
     "text": [
      "______________________________\n"
     ]
    },
    {
     "data": {
      "image/png": "[encoded data removed]",
      "text/plain": [
       "<Figure size 432x288 with 1 Axes>"
      ]
     },
     "metadata": {},
     "output_type": "display_data"
    }
   ],
   "source": [
    "# Calculo de la utilidad social para las redes e identificación de los grafos SE\n",
    "Social_Utility = social_utility_generator(Grafos_Def)\n",
    "Grafos_SE = max_social_utility_identifier(Grafos_Def,Social_Utility)\n",
    "for i in Grafos_SE:\n",
    "    print(\"_\"*30)\n",
    "    nx.draw(i)"
   ]
  },
  {
   "cell_type": "markdown",
   "metadata": {},
   "source": [
    "### Punto 4"
   ]
  },
  {
   "cell_type": "markdown",
   "metadata": {},
   "source": [
    "#### Definición de funciones importantes"
   ]
  },
  {
   "cell_type": "code",
   "execution_count": 11,
   "metadata": {},
   "outputs": [],
   "source": [
    "# Función que realiza la identificación de las clases pareto eficientes\n",
    "def Revisor_Pareto(listado_representantes,listado_grafos,clases,constante):\n",
    "    longitud = len(clases)\n",
    "    Revisor = {i:True for i in range(longitud)}\n",
    "    for i in range(longitud):\n",
    "        grafo1 = listado_representantes[i]\n",
    "        comparar1 = np.array(list(nx.get_node_attributes(grafo1,\"Utility\").values()))\n",
    "        for j in range(longitud):\n",
    "            if (i!=j):\n",
    "                for k in clases[j]:\n",
    "                    grafo2 = listado_grafos[k]\n",
    "                    nx.set_node_attributes(grafo2,utility_function(grafo2,constante), \"Utility\")\n",
    "                    comparar2 = np.array(list(nx.get_node_attributes(grafo2,\"Utility\").values()))\n",
    "                    if any(comparar2>comparar1) & all(comparar2>=comparar1):\n",
    "                        Revisor[i] = False\n",
    "                        break\n",
    "            if Revisor[i] == False:\n",
    "                break\n",
    "    return Revisor\n",
    "# Función que dados unos identificadores de las clases pareto eficientes almacena los grafos PE\n",
    "def Pareto_Identifier(listado_representantes,listado_pareto):\n",
    "    Grafos_PE = [listado_representantes[i] for i in listado_pareto if listado_pareto[i]]\n",
    "    return Grafos_PE"
   ]
  },
  {
   "cell_type": "markdown",
   "metadata": {},
   "source": [
    "#### Ejecución"
   ]
  },
  {
   "cell_type": "code",
   "execution_count": 12,
   "metadata": {},
   "outputs": [
    {
     "name": "stdout",
     "output_type": "stream",
     "text": [
      "______________________________\n"
     ]
    },
    {
     "data": {
      "image/png": "[encoded data removed]",
      "text/plain": [
       "<Figure size 432x288 with 1 Axes>"
      ]
     },
     "metadata": {},
     "output_type": "display_data"
    }
   ],
   "source": [
    "# Calculo de las clases PE e identificación de los representantes PE\n",
    "Clases_Pareto_Eficientes = Revisor_Pareto(Grafos_Def,Grafos,Clases_Equiv_Isomorfismos,Constante)\n",
    "Grafos_PE = Pareto_Identifier(Grafos_Def,Clases_Pareto_Eficientes)\n",
    "for i in Grafos_PE:\n",
    "   print(\"_\"*30)\n",
    "   nx.draw(i)"
   ]
  },
  {
   "cell_type": "markdown",
   "metadata": {},
   "source": [
    "### Punto 5"
   ]
  },
  {
   "cell_type": "markdown",
   "metadata": {},
   "source": [
    "#### Definición de funciones importantes"
   ]
  },
  {
   "cell_type": "code",
   "execution_count": 13,
   "metadata": {},
   "outputs": [],
   "source": [
    "# Función que evalúa sobre un grafo si existe al menos un nodo que se beneficia de romper unilateralmente un enlace\n",
    "def edge_evaluator_eliminate(grafo,constante):\n",
    "    A = nx.to_numpy_matrix(grafo)\n",
    "    n = A.shape[1]\n",
    "    for i in range(n):\n",
    "        for j in range(i+1,n):\n",
    "            if A[i,j] == 1:\n",
    "                AA = A.copy()\n",
    "                AA[i,j] = 0\n",
    "                AA[j,i] = 0\n",
    "                grafo_ori = grafo.copy()\n",
    "                grafo_mod = nx.from_numpy_array(AA)\n",
    "                Grafos = [grafo_ori,grafo_mod]\n",
    "                for gr in Grafos:\n",
    "                    nx.set_node_attributes(gr,utility_function(gr,constante), \"Utility\")\n",
    "                Utilidades = [list(nx.get_node_attributes(i,\"Utility\").values()) for i in Grafos]\n",
    "                if (Utilidades[0][i]<Utilidades[1][i]) | (Utilidades[0][j]<Utilidades[1][j]):\n",
    "                    return False\n",
    "    return True\n",
    "# Función que evalúa sobre un grafo si existe al menos un par de nodos que se benefician de crear bilateralmente un enlace\n",
    "def edge_evaluator_add(grafo,constante):\n",
    "    A = nx.to_numpy_matrix(grafo)\n",
    "    n = A.shape[1]\n",
    "    for i in range(n):\n",
    "        for j in range(i+1,n):\n",
    "            if A[i,j] == 0:\n",
    "                AA = A.copy()\n",
    "                AA[i,j] = 1\n",
    "                AA[j,i] = 1\n",
    "                grafo_ori = grafo.copy()\n",
    "                grafo_mod = nx.from_numpy_array(AA)\n",
    "                Grafos = [grafo_ori,grafo_mod]\n",
    "                for gr in Grafos:\n",
    "                    nx.set_node_attributes(gr,utility_function(gr,constante), \"Utility\")\n",
    "                Utilidades = [list(nx.get_node_attributes(i,\"Utility\").values()) for i in Grafos]\n",
    "                if (Utilidades[0][i]<Utilidades[1][i]) & (Utilidades[0][j]<Utilidades[1][j]):\n",
    "                    return False\n",
    "    return True\n",
    "# Función que evalúa si un grafo es estable\n",
    "def edge_evaluator(grafo,constante):\n",
    "    if edge_evaluator_eliminate(grafo,constante) & edge_evaluator_add(grafo,constante):\n",
    "        return True\n",
    "    else:\n",
    "        return False\n",
    "# Función que arroja todos los grafos estables\n",
    "def Stable_Identifier(lista_representantes,constante):\n",
    "    Grafos_Stable = [i for i in lista_representantes if edge_evaluator(i,constante)]\n",
    "    return Grafos_Stable\n"
   ]
  },
  {
   "cell_type": "markdown",
   "metadata": {},
   "source": [
    "#### Ejecución"
   ]
  },
  {
   "cell_type": "code",
   "execution_count": 14,
   "metadata": {},
   "outputs": [
    {
     "name": "stdout",
     "output_type": "stream",
     "text": [
      "______________________________\n"
     ]
    },
    {
     "data": {
      "image/png": "[encoded data removed]",
      "text/plain": [
       "<Figure size 432x288 with 1 Axes>"
      ]
     },
     "metadata": {},
     "output_type": "display_data"
    }
   ],
   "source": [
    "# Calculo de las clases Estables e identificación de los representantes de estas clases\n",
    "Grafos_Stable = Stable_Identifier(Grafos_Def,Constante)\n",
    "for i in Grafos_Stable:\n",
    "   print(\"_\"*30)\n",
    "   nx.draw(i)"
   ]
  },
  {
   "cell_type": "markdown",
   "metadata": {},
   "source": [
    "### Punto 6"
   ]
  },
  {
   "cell_type": "markdown",
   "metadata": {},
   "source": [
    "#### Definición de funciones importantes"
   ]
  },
  {
   "cell_type": "code",
   "execution_count": 15,
   "metadata": {},
   "outputs": [],
   "source": [
    "# Función que permite calcular los precios de estabilidad y anarquía\n",
    "def precios(Listado_Grafos_SE,Listado_Grafos_Stable,indicador):\n",
    "    U_Max = social_utility_generator(Grafos_Stable[0:1])[0]\n",
    "    U_Stable = social_utility_generator(Listado_Grafos_Stable)\n",
    "    if indicador == \"Anarquia\":\n",
    "        US_Min = min(U_Stable)\n",
    "        return U_Max/US_Min\n",
    "    elif indicador == \"Estabilidad\":\n",
    "        US_Max = max(U_Stable)\n",
    "        return U_Max/US_Max\n",
    "    else:\n",
    "        return None"
   ]
  },
  {
   "cell_type": "markdown",
   "metadata": {},
   "source": [
    "#### Ejecución"
   ]
  },
  {
   "cell_type": "code",
   "execution_count": 16,
   "metadata": {},
   "outputs": [
    {
     "name": "stdout",
     "output_type": "stream",
     "text": [
      "Precio de Anarquía: 1.0\n",
      "Precio de Estabilidad: 1.0\n",
      "P_A<=P_E es True\n"
     ]
    }
   ],
   "source": [
    "# Se encuentra el precio de estabilidad y anarquía\n",
    "P_E = precios(Grafos_SE,Grafos_Stable,\"Anarquia\")\n",
    "P_A = precios(Grafos_SE,Grafos_Stable,\"Estabilidad\")\n",
    "# Se muestran los precios\n",
    "print(\"Precio de Anarquía: {}\".format(P_A))\n",
    "print(\"Precio de Estabilidad: {}\".format(P_E))\n",
    "print(\"P_A<=P_E es {}\".format(P_A<=P_E))"
   ]
  },
  {
   "cell_type": "markdown",
   "metadata": {},
   "source": [
    "# Medidas sobre redes"
   ]
  },
  {
   "cell_type": "code",
   "execution_count": 2,
   "metadata": {},
   "outputs": [],
   "source": [
    "# Bonanich\n",
    "def Bonanich(grafo):\n",
    "    matrix = nx.to_numpy_matrix(grafo)\n",
    "    eigval,eigvec = np.linalg.eig(matrix)\n",
    "    radius_pos = np.argmax(abs(eigval))\n",
    "    return eigvec[:,radius_pos]"
   ]
  },
  {
   "cell_type": "code",
   "execution_count": 3,
   "metadata": {},
   "outputs": [],
   "source": [
    "def HITS(grafo,metrica):\n",
    "    matrix = nx.to_numpy_matrix(grafo)\n",
    "    if metrica == 'HUBS':\n",
    "        M = matrix@matrix.T \n",
    "    elif metrica == 'AUTH':\n",
    "        M = matrix.T@matrix\n",
    "    else:\n",
    "        raise Exception('Introduzca Valores Correctos')\n",
    "    eigval,eigvec = np.linalg.eig(M)\n",
    "    radius_pos = np.argmax(abs(eigval))\n",
    "    return eigvec[:,radius_pos]\n",
    "\n",
    "    "
   ]
  },
  {
   "cell_type": "markdown",
   "metadata": {},
   "source": [
    "# Producción"
   ]
  },
  {
   "cell_type": "code",
   "execution_count": null,
   "metadata": {},
   "outputs": [],
   "source": []
  }
 ],
 "metadata": {
  "kernelspec": {
   "display_name": "Python 3.10.5 64-bit",
   "language": "python",
   "name": "python3"
  },
  "language_info": {
   "codemirror_mode": {
    "name": "ipython",
    "version": 3
   },
   "file_extension": ".py",
   "mimetype": "text/x-python",
   "name": "python",
   "nbconvert_exporter": "python",
   "pygments_lexer": "ipython3",
   "version": "3.10.5"
  },
  "orig_nbformat": 4,
  "vscode": {
   "interpreter": {
    "hash": "54a3d53733bdb4b0f0358cf3d547bbcb79614b900270fd5b08862d484f5a5082"
   }
  }
 },
 "nbformat": 4,
 "nbformat_minor": 2
}
