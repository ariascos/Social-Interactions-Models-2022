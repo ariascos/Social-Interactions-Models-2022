{
 "cells": [
  {
   "cell_type": "markdown",
   "metadata": {},
   "source": [
    "# MIS: Clase complementaria 6"
   ]
  },
  {
   "cell_type": "code",
   "execution_count": 1,
   "metadata": {},
   "outputs": [],
   "source": [
    "import numpy as np \n",
    "import networkx as nx\n",
    "import itertools as it\n",
    "import time"
   ]
  },
  {
   "cell_type": "markdown",
   "metadata": {},
   "source": [
    "#### De Groot"
   ]
  },
  {
   "cell_type": "code",
   "execution_count": 2,
   "metadata": {},
   "outputs": [],
   "source": [
    "# Revisión de las características de la matriz en cuestión: Caracteristicas Básicas\n",
    "def test_car_basicas(matriz):\n",
    "    test = False\n",
    "    if type(matriz) == np.matrix:\n",
    "        if matriz.shape[0] == matriz.shape[1]:\n",
    "            test = True\n",
    "    return test\n",
    "# Revisión de las características de la matriz en cuestión: Matriz Estocástica\n",
    "def testeo_estocastica(matriz,axis):\n",
    "    '''\n",
    "    Axis: 1 filas, 0 columnas \n",
    "    '''\n",
    "    test = True\n",
    "    if axis == 0:\n",
    "        matriz = matriz.T\n",
    "    for i in matriz.sum(axis=1):\n",
    "        if i!=1:\n",
    "            test = False\n",
    "            break\n",
    "    return test\n",
    "# Aplicación De Groot para T^n\n",
    "def elevar_matriz_de_groot(matriz,rep):\n",
    "    if isinstance(rep,(int)) and rep>0:\n",
    "        if test_car_basicas(matriz):\n",
    "            return matriz**rep\n",
    "    raise Exception(\"Argumentos invalidos\")"
   ]
  },
  {
   "cell_type": "code",
   "execution_count": 3,
   "metadata": {},
   "outputs": [
    {
     "name": "stdout",
     "output_type": "stream",
     "text": [
      "\n",
      "[[11 30]\n",
      " [15 41]]\n",
      "\n"
     ]
    },
    {
     "ename": "Exception",
     "evalue": "Argumentos invalidos",
     "output_type": "error",
     "traceback": [
      "\u001b[1;31m---------------------------------------------------------------------------\u001b[0m",
      "\u001b[1;31mException\u001b[0m                                 Traceback (most recent call last)",
      "\u001b[1;32mc:\\Users\\mateo\\OneDrive\\Desktop\\MATEO\\TRANSITORIO\\Personal\\2022_2\\Complementarias\\MIS\\2022_20_MIS_C06.ipynb Celda 5\u001b[0m in \u001b[0;36m<cell line: 2>\u001b[1;34m()\u001b[0m\n\u001b[0;32m      <a href='vscode-notebook-cell:/c%3A/Users/mateo/OneDrive/Desktop/MATEO/TRANSITORIO/Personal/2022_2/Complementarias/MIS/2022_20_MIS_C06.ipynb#W4sZmlsZQ%3D%3D?line=1'>2</a>\u001b[0m \u001b[39mfor\u001b[39;00m i \u001b[39min\u001b[39;00m [\u001b[39m3\u001b[39m,\u001b[39m-\u001b[39m\u001b[39m3\u001b[39m]:\n\u001b[0;32m      <a href='vscode-notebook-cell:/c%3A/Users/mateo/OneDrive/Desktop/MATEO/TRANSITORIO/Personal/2022_2/Complementarias/MIS/2022_20_MIS_C06.ipynb#W4sZmlsZQ%3D%3D?line=2'>3</a>\u001b[0m     \u001b[39mprint\u001b[39m()\n\u001b[1;32m----> <a href='vscode-notebook-cell:/c%3A/Users/mateo/OneDrive/Desktop/MATEO/TRANSITORIO/Personal/2022_2/Complementarias/MIS/2022_20_MIS_C06.ipynb#W4sZmlsZQ%3D%3D?line=3'>4</a>\u001b[0m     \u001b[39mprint\u001b[39m(elevar_matriz_de_groot(np\u001b[39m.\u001b[39;49mmatrix([[\u001b[39m1\u001b[39;49m,\u001b[39m2\u001b[39;49m],[\u001b[39m1\u001b[39;49m,\u001b[39m3\u001b[39;49m]]),i))\n",
      "\u001b[1;32mc:\\Users\\mateo\\OneDrive\\Desktop\\MATEO\\TRANSITORIO\\Personal\\2022_2\\Complementarias\\MIS\\2022_20_MIS_C06.ipynb Celda 5\u001b[0m in \u001b[0;36melevar_matriz_de_groot\u001b[1;34m(matriz, rep)\u001b[0m\n\u001b[0;32m     <a href='vscode-notebook-cell:/c%3A/Users/mateo/OneDrive/Desktop/MATEO/TRANSITORIO/Personal/2022_2/Complementarias/MIS/2022_20_MIS_C06.ipynb#W4sZmlsZQ%3D%3D?line=23'>24</a>\u001b[0m     \u001b[39mif\u001b[39;00m test_car_basicas(matriz):\n\u001b[0;32m     <a href='vscode-notebook-cell:/c%3A/Users/mateo/OneDrive/Desktop/MATEO/TRANSITORIO/Personal/2022_2/Complementarias/MIS/2022_20_MIS_C06.ipynb#W4sZmlsZQ%3D%3D?line=24'>25</a>\u001b[0m         \u001b[39mreturn\u001b[39;00m matriz\u001b[39m*\u001b[39m\u001b[39m*\u001b[39mrep\n\u001b[1;32m---> <a href='vscode-notebook-cell:/c%3A/Users/mateo/OneDrive/Desktop/MATEO/TRANSITORIO/Personal/2022_2/Complementarias/MIS/2022_20_MIS_C06.ipynb#W4sZmlsZQ%3D%3D?line=25'>26</a>\u001b[0m \u001b[39mraise\u001b[39;00m \u001b[39mException\u001b[39;00m(\u001b[39m\"\u001b[39m\u001b[39mArgumentos invalidos\u001b[39m\u001b[39m\"\u001b[39m)\n",
      "\u001b[1;31mException\u001b[0m: Argumentos invalidos"
     ]
    }
   ],
   "source": [
    "# Prueba de la función\n",
    "for i in [3,-3]:\n",
    "    print()\n",
    "    print(elevar_matriz_de_groot(np.matrix([[1,2],[1,3]]),i))"
   ]
  },
  {
   "cell_type": "code",
   "execution_count": null,
   "metadata": {},
   "outputs": [
    {
     "name": "stdout",
     "output_type": "stream",
     "text": [
      "True\n",
      "False\n",
      "True\n"
     ]
    }
   ],
   "source": [
    "# Testeo de la función que dice si M es estocástica\n",
    "M = np.matrix([[1,2],[1,3]])\n",
    "M = np.matrix([[0.5,0.5],[0.7,0.3]])\n",
    "print(testeo_estocastica(M,1)) # Filas\n",
    "print(testeo_estocastica(M,0)) # Columnas\n",
    "print(testeo_estocastica(M.T,0))\n"
   ]
  },
  {
   "cell_type": "code",
   "execution_count": null,
   "metadata": {},
   "outputs": [
    {
     "data": {
      "text/plain": [
       "<generator object selfloop_edges.<locals>.<genexpr> at 0x0000016C57555EE0>"
      ]
     },
     "execution_count": 58,
     "metadata": {},
     "output_type": "execute_result"
    }
   ],
   "source": [
    "G = nx.from_numpy_matrix(M)\n",
    "#G.remove_edges_from(nx.selfloop_edges(G))"
   ]
  },
  {
   "cell_type": "markdown",
   "metadata": {},
   "source": [
    "#### Grafos Aperiodicos"
   ]
  },
  {
   "cell_type": "code",
   "execution_count": null,
   "metadata": {},
   "outputs": [],
   "source": [
    "# Función que permite encontrar la descomposición por primos\n",
    "def factorizacion_primos(n):\n",
    "    if isinstance(n,(int)) and n>0:\n",
    "        listado = [(1,1)]\n",
    "        for i in range(1,(n//2)+4):\n",
    "            if i!=1:\n",
    "                numero = i\n",
    "                potencia = 0\n",
    "                while n//i == n/i:\n",
    "                    n /= i\n",
    "                    potencia +=1\n",
    "                if potencia>0:\n",
    "                    listado.append((numero,potencia))\n",
    "        return listado\n",
    "    else:\n",
    "        raise Exception(\"Instroduzca entero valido\")"
   ]
  },
  {
   "cell_type": "code",
   "execution_count": null,
   "metadata": {},
   "outputs": [],
   "source": [
    "# Función que permite encontrar el MCD de un listado de enteros positivos\n",
    "def MCD(listado):\n",
    "    #maximo = (max(listado)//2) + 4\n",
    "    lista = [factorizacion_primos(i) for i in listado]\n",
    "    # Extraccion de los primos comunes\n",
    "    first = True\n",
    "    for descomposicion in lista:\n",
    "        factores = set([i[0] for i in descomposicion])\n",
    "        if first:\n",
    "            \n",
    "            factores_p = factores\n",
    "            first = False\n",
    "        else:\n",
    "            factores_p = factores_p.intersection(factores)\n",
    "    mcd = {}\n",
    "    for primo in list(factores_p):\n",
    "        first = True\n",
    "        for descomposicion in lista:\n",
    "            for i in descomposicion:\n",
    "                if i[0]==primo:\n",
    "                    if first:\n",
    "                        mcd[i[0]] = i[1]\n",
    "                        first = False\n",
    "                    else:\n",
    "                        if i[1]<mcd[i[0]]:\n",
    "                            mcd[i[0]] = i[1]\n",
    "    cuenta = 1\n",
    "    for i in mcd:\n",
    "        cuenta *= (i**mcd[i])\n",
    "    return cuenta"
   ]
  },
  {
   "cell_type": "code",
   "execution_count": null,
   "metadata": {},
   "outputs": [],
   "source": [
    "# Función que permite testear si un grafo es aperiodico\n",
    "def test_aperiodico(grafo):\n",
    "    listado = list(nx.simple_cycles(grafo))\n",
    "    aperiodico = True\n",
    "    if listado == []:\n",
    "        aperiodico = False\n",
    "        return aperiodico\n",
    "    else:\n",
    "        listado = [len(i) for i in listado]\n",
    "        mcd = MCD(listado)\n",
    "        #print(mcd,listado)\n",
    "        if mcd>1:\n",
    "            aperiodico = False\n",
    "    return aperiodico"
   ]
  },
  {
   "cell_type": "code",
   "execution_count": null,
   "metadata": {},
   "outputs": [
    {
     "data": {
      "text/plain": [
       "True"
      ]
     },
     "execution_count": 16,
     "metadata": {},
     "output_type": "execute_result"
    }
   ],
   "source": [
    "# Testeo de la función\n",
    "G = nx.DiGraph([(0, 1),(1, 2), (2, 3),(2,4),(2,0)])\n",
    "#G = nx.DiGraph([(0, 1),(1, 2)])\n",
    "#G = nx.DiGraph([(0, 1),(1, 2),(2,0)])\n",
    "nx.is_aperiodic(G) == test_aperiodico(G)"
   ]
  },
  {
   "cell_type": "markdown",
   "metadata": {},
   "source": [
    "#### Grafos irreducibles o fuertemente conexos"
   ]
  },
  {
   "cell_type": "code",
   "execution_count": null,
   "metadata": {},
   "outputs": [],
   "source": [
    "# Función que permite testear si un grafo es fuertemente conectado\n",
    "def test_fuertemente_conectado(grafo):\n",
    "    nodos = list(grafo.nodes)\n",
    "    paths = nx.shortest_path(grafo)\n",
    "    s_con = True\n",
    "    for i in nodos:\n",
    "        for j in nodos:\n",
    "            if j!=i:\n",
    "                try:\n",
    "                    paths[i][j]\n",
    "                except:\n",
    "                    s_con = False\n",
    "                    break\n",
    "        if s_con == False:\n",
    "            break\n",
    "    return s_con\n"
   ]
  },
  {
   "cell_type": "code",
   "execution_count": null,
   "metadata": {},
   "outputs": [
    {
     "data": {
      "text/plain": [
       "True"
      ]
     },
     "execution_count": 39,
     "metadata": {},
     "output_type": "execute_result"
    }
   ],
   "source": [
    "# Testeo de la función\n",
    "G = nx.DiGraph([(0, 1),(1, 2), (2, 3),(2,4),(2,0)])\n",
    "G = nx.DiGraph([(0, 1),(1, 2)])\n",
    "#G = nx.DiGraph([(0, 1),(1, 2),(2,0)])\n",
    "nx.is_strongly_connected(G) == test_fuertemente_conectado(G)"
   ]
  },
  {
   "cell_type": "markdown",
   "metadata": {},
   "source": [
    "#### Conjuntos cerrados de nodos "
   ]
  },
  {
   "cell_type": "code",
   "execution_count": 4,
   "metadata": {},
   "outputs": [],
   "source": [
    "# Función que permite testear si un conjunto de nodos, dado un grafo, conforman un conjunto cerrado.\n",
    "def test_conj_cerrado(grafo,nodos):\n",
    "    conj_cerrado = True\n",
    "    nodos = set(nodos)\n",
    "    for nodo in nodos:\n",
    "        for j in list(grafo.edges(nodo)):\n",
    "            if j[0] == nodo:\n",
    "                if j[1] not in nodos:\n",
    "                    conj_cerrado = False\n",
    "                    break\n",
    "        if conj_cerrado == False:\n",
    "            break\n",
    "    return conj_cerrado"
   ]
  },
  {
   "cell_type": "code",
   "execution_count": 5,
   "metadata": {},
   "outputs": [
    {
     "data": {
      "text/plain": [
       "False"
      ]
     },
     "execution_count": 5,
     "metadata": {},
     "output_type": "execute_result"
    }
   ],
   "source": [
    "# Testeo de la función\n",
    "G = nx.DiGraph([(0, 1),(1, 2), (2, 3),(2,4),(2,0)])\n",
    "G = nx.DiGraph([(0, 1),(1, 2)])\n",
    "#G = nx.DiGraph([(0, 1),(1, 2),(2,0)])\n",
    "test_conj_cerrado(G,[1,0])"
   ]
  },
  {
   "cell_type": "code",
   "execution_count": 1,
   "metadata": {},
   "outputs": [],
   "source": [
    "def mcd(listado,numero = 1):\n",
    "    print(listado)\n",
    "    minimo = min(listado)\n",
    "    if minimo!=1:\n",
    "        for i in range(2,(minimo//2)+4):\n",
    "            if all([((j//i) == (j/i)) for j in listado]):\n",
    "                listado = [j/i for j in listado]\n",
    "                return numero*mcd(listado,i)\n",
    "            else:\n",
    "                return numero \n",
    "    else:\n",
    "        return numero\n"
   ]
  },
  {
   "cell_type": "code",
   "execution_count": 3,
   "metadata": {},
   "outputs": [
    {
     "data": {
      "text/plain": [
       "0.0"
      ]
     },
     "execution_count": 3,
     "metadata": {},
     "output_type": "execute_result"
    }
   ],
   "source": [
    "2.0//3"
   ]
  },
  {
   "cell_type": "code",
   "execution_count": 2,
   "metadata": {},
   "outputs": [
    {
     "name": "stdout",
     "output_type": "stream",
     "text": [
      "[10, 20, 30, 4]\n",
      "[5.0, 10.0, 15.0, 2.0]\n"
     ]
    },
    {
     "ename": "TypeError",
     "evalue": "'float' object cannot be interpreted as an integer",
     "output_type": "error",
     "traceback": [
      "\u001b[1;31m---------------------------------------------------------------------------\u001b[0m",
      "\u001b[1;31mTypeError\u001b[0m                                 Traceback (most recent call last)",
      "\u001b[1;32mc:\\Users\\mateo\\OneDrive\\Desktop\\MATEO\\TRANSITORIO\\Personal\\2022_2\\Complementarias\\MIS\\2022_20_MIS_C06.ipynb Celda 20\u001b[0m in \u001b[0;36m<cell line: 1>\u001b[1;34m()\u001b[0m\n\u001b[1;32m----> <a href='vscode-notebook-cell:/c%3A/Users/mateo/OneDrive/Desktop/MATEO/TRANSITORIO/Personal/2022_2/Complementarias/MIS/2022_20_MIS_C06.ipynb#X25sZmlsZQ%3D%3D?line=0'>1</a>\u001b[0m mcd([\u001b[39m10\u001b[39;49m,\u001b[39m20\u001b[39;49m,\u001b[39m30\u001b[39;49m,\u001b[39m4\u001b[39;49m])\n",
      "\u001b[1;32mc:\\Users\\mateo\\OneDrive\\Desktop\\MATEO\\TRANSITORIO\\Personal\\2022_2\\Complementarias\\MIS\\2022_20_MIS_C06.ipynb Celda 20\u001b[0m in \u001b[0;36mmcd\u001b[1;34m(listado, numero)\u001b[0m\n\u001b[0;32m      <a href='vscode-notebook-cell:/c%3A/Users/mateo/OneDrive/Desktop/MATEO/TRANSITORIO/Personal/2022_2/Complementarias/MIS/2022_20_MIS_C06.ipynb#X25sZmlsZQ%3D%3D?line=5'>6</a>\u001b[0m \u001b[39mif\u001b[39;00m \u001b[39mall\u001b[39m([((j\u001b[39m/\u001b[39m\u001b[39m/\u001b[39mi) \u001b[39m==\u001b[39m (j\u001b[39m/\u001b[39mi)) \u001b[39mfor\u001b[39;00m j \u001b[39min\u001b[39;00m listado]):\n\u001b[0;32m      <a href='vscode-notebook-cell:/c%3A/Users/mateo/OneDrive/Desktop/MATEO/TRANSITORIO/Personal/2022_2/Complementarias/MIS/2022_20_MIS_C06.ipynb#X25sZmlsZQ%3D%3D?line=6'>7</a>\u001b[0m     listado \u001b[39m=\u001b[39m [j\u001b[39m/\u001b[39mi \u001b[39mfor\u001b[39;00m j \u001b[39min\u001b[39;00m listado]\n\u001b[1;32m----> <a href='vscode-notebook-cell:/c%3A/Users/mateo/OneDrive/Desktop/MATEO/TRANSITORIO/Personal/2022_2/Complementarias/MIS/2022_20_MIS_C06.ipynb#X25sZmlsZQ%3D%3D?line=7'>8</a>\u001b[0m     \u001b[39mreturn\u001b[39;00m numero\u001b[39m*\u001b[39mmcd(listado,i)\n\u001b[0;32m      <a href='vscode-notebook-cell:/c%3A/Users/mateo/OneDrive/Desktop/MATEO/TRANSITORIO/Personal/2022_2/Complementarias/MIS/2022_20_MIS_C06.ipynb#X25sZmlsZQ%3D%3D?line=8'>9</a>\u001b[0m \u001b[39melse\u001b[39;00m:\n\u001b[0;32m     <a href='vscode-notebook-cell:/c%3A/Users/mateo/OneDrive/Desktop/MATEO/TRANSITORIO/Personal/2022_2/Complementarias/MIS/2022_20_MIS_C06.ipynb#X25sZmlsZQ%3D%3D?line=9'>10</a>\u001b[0m     \u001b[39mreturn\u001b[39;00m numero \n",
      "\u001b[1;32mc:\\Users\\mateo\\OneDrive\\Desktop\\MATEO\\TRANSITORIO\\Personal\\2022_2\\Complementarias\\MIS\\2022_20_MIS_C06.ipynb Celda 20\u001b[0m in \u001b[0;36mmcd\u001b[1;34m(listado, numero)\u001b[0m\n\u001b[0;32m      <a href='vscode-notebook-cell:/c%3A/Users/mateo/OneDrive/Desktop/MATEO/TRANSITORIO/Personal/2022_2/Complementarias/MIS/2022_20_MIS_C06.ipynb#X25sZmlsZQ%3D%3D?line=2'>3</a>\u001b[0m minimo \u001b[39m=\u001b[39m \u001b[39mmin\u001b[39m(listado)\n\u001b[0;32m      <a href='vscode-notebook-cell:/c%3A/Users/mateo/OneDrive/Desktop/MATEO/TRANSITORIO/Personal/2022_2/Complementarias/MIS/2022_20_MIS_C06.ipynb#X25sZmlsZQ%3D%3D?line=3'>4</a>\u001b[0m \u001b[39mif\u001b[39;00m minimo\u001b[39m!=\u001b[39m\u001b[39m1\u001b[39m:\n\u001b[1;32m----> <a href='vscode-notebook-cell:/c%3A/Users/mateo/OneDrive/Desktop/MATEO/TRANSITORIO/Personal/2022_2/Complementarias/MIS/2022_20_MIS_C06.ipynb#X25sZmlsZQ%3D%3D?line=4'>5</a>\u001b[0m     \u001b[39mfor\u001b[39;00m i \u001b[39min\u001b[39;00m \u001b[39mrange\u001b[39;49m(\u001b[39m2\u001b[39;49m,(minimo\u001b[39m/\u001b[39;49m\u001b[39m/\u001b[39;49m\u001b[39m2\u001b[39;49m)\u001b[39m+\u001b[39;49m\u001b[39m4\u001b[39;49m):\n\u001b[0;32m      <a href='vscode-notebook-cell:/c%3A/Users/mateo/OneDrive/Desktop/MATEO/TRANSITORIO/Personal/2022_2/Complementarias/MIS/2022_20_MIS_C06.ipynb#X25sZmlsZQ%3D%3D?line=5'>6</a>\u001b[0m         \u001b[39mif\u001b[39;00m \u001b[39mall\u001b[39m([((j\u001b[39m/\u001b[39m\u001b[39m/\u001b[39mi) \u001b[39m==\u001b[39m (j\u001b[39m/\u001b[39mi)) \u001b[39mfor\u001b[39;00m j \u001b[39min\u001b[39;00m listado]):\n\u001b[0;32m      <a href='vscode-notebook-cell:/c%3A/Users/mateo/OneDrive/Desktop/MATEO/TRANSITORIO/Personal/2022_2/Complementarias/MIS/2022_20_MIS_C06.ipynb#X25sZmlsZQ%3D%3D?line=6'>7</a>\u001b[0m             listado \u001b[39m=\u001b[39m [j\u001b[39m/\u001b[39mi \u001b[39mfor\u001b[39;00m j \u001b[39min\u001b[39;00m listado]\n",
      "\u001b[1;31mTypeError\u001b[0m: 'float' object cannot be interpreted as an integer"
     ]
    }
   ],
   "source": [
    "mcd([10,20,30,4])"
   ]
  },
  {
   "cell_type": "code",
   "execution_count": 9,
   "metadata": {},
   "outputs": [
    {
     "data": {
      "text/plain": [
       "1"
      ]
     },
     "execution_count": 9,
     "metadata": {},
     "output_type": "execute_result"
    }
   ],
   "source": [
    "min([1,2,3])"
   ]
  },
  {
   "cell_type": "markdown",
   "metadata": {},
   "source": [
    "#### Actividad\n",
    "\n",
    "Realice los siguientes puntos utilizando lo aprendido en clase:\n",
    "\n",
    "1) Construya una o varias funciones que le permitan deducir si una matriz estocástica es convergente. Use el teorema de la presentación del martes.\n",
    "\n",
    "2) Construya una o varias funciones que le permitan deducir la existencia de un consenso. Use la proposición que está en la presentación del martes.\n",
    "\n",
    "3) Cree una matriz que represente la situación de un lider de opinión, revise si es convergente y de serlo, halle la matriz límite o una buena aproximación de la misma.\n",
    "\n",
    "4) Proponga una matriz en la que se llegue a consenso. Muestre que cumple las características necesarias."
   ]
  }
 ],
 "metadata": {
  "kernelspec": {
   "display_name": "Python 3.10.5 64-bit",
   "language": "python",
   "name": "python3"
  },
  "language_info": {
   "codemirror_mode": {
    "name": "ipython",
    "version": 3
   },
   "file_extension": ".py",
   "mimetype": "text/x-python",
   "name": "python",
   "nbconvert_exporter": "python",
   "pygments_lexer": "ipython3",
   "version": "3.10.5"
  },
  "orig_nbformat": 4,
  "vscode": {
   "interpreter": {
    "hash": "54a3d53733bdb4b0f0358cf3d547bbcb79614b900270fd5b08862d484f5a5082"
   }
  }
 },
 "nbformat": 4,
 "nbformat_minor": 2
}
