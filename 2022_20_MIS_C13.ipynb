{
 "cells": [
  {
   "cell_type": "markdown",
   "metadata": {},
   "source": [
    "# MIS: Clase Complementaria 13 "
   ]
  },
  {
   "cell_type": "code",
   "execution_count": 6,
   "metadata": {},
   "outputs": [],
   "source": [
    "# Cargue de paquetes relevantes\n",
    "import numpy as np\n",
    "import itertools as it\n",
    "import networkx as nx"
   ]
  },
  {
   "cell_type": "markdown",
   "metadata": {},
   "source": [
    " #### Implementación del  valor de Shapley"
   ]
  },
  {
   "cell_type": "code",
   "execution_count": 7,
   "metadata": {},
   "outputs": [],
   "source": [
    "# Funciones de valor o de identificación del aporte.\n",
    "\n",
    "def v(subset,N):\n",
    "    l = len(subset)\n",
    "    n = len(N)\n",
    "    if l>n/2:\n",
    "        return 1\n",
    "    else:\n",
    "        return 0 \n",
    "\n",
    "def veto(subset,N,j_veto = 0):\n",
    "    if j_veto in subset:\n",
    "        l = len(subset)\n",
    "        n = len(N)\n",
    "        if l>n/2:\n",
    "            return 1\n",
    "        else:\n",
    "            return 0\n",
    "    else:\n",
    "        return 0"
   ]
  },
  {
   "cell_type": "code",
   "execution_count": 8,
   "metadata": {},
   "outputs": [],
   "source": [
    "# Función que calcula el valor de Shapley\n",
    "\n",
    "def correciones(tams,tamn):\n",
    "    Num = (np.math.factorial(tams))*(np.math.factorial(tamn-tams-1))\n",
    "    Den = np.math.factorial(tamn)\n",
    "    return Num/Den\n",
    "\n",
    "def shapley_value(i,N,value_fun):\n",
    "    M = N.copy()\n",
    "    M.pop(M.index(i))\n",
    "    subsets = []\n",
    "    for k in range(len(M)):\n",
    "        subsets +=[list(j) for j in it.combinations(M,k)]\n",
    "    sv = 0\n",
    "    l0 = len(N)\n",
    "    for subset in subsets:\n",
    "        l1 = len(subset)\n",
    "        sub1 = subset + [i]\n",
    "        #print(subset,type(subset))\n",
    "        #print(sub1)\n",
    "        #print('.'*30)\n",
    "        correccion = correciones(l1,l0)\n",
    "        sv += (value_fun(sub1,N)-value_fun(subset,N))*correccion\n",
    "    return sv"
   ]
  },
  {
   "cell_type": "code",
   "execution_count": 9,
   "metadata": {},
   "outputs": [
    {
     "name": "stdout",
     "output_type": "stream",
     "text": [
      "{0: 0.09999999999999978, 1: 0.09999999999999978, 2: 0.09999999999999978, 3: 0.09999999999999978, 4: 0.09999999999999978, 5: 0.09999999999999978, 6: 0.09999999999999978, 7: 0.09999999999999978, 8: 0.09999999999999978, 9: 0.09999999999999978}\n",
      "{0: 0.39999999999999925, 1: 0.05555555555555549, 2: 0.05555555555555549, 3: 0.05555555555555549, 4: 0.05555555555555549, 5: 0.05555555555555549, 6: 0.05555555555555549, 7: 0.05555555555555549, 8: 0.05555555555555549, 9: 0.05555555555555549}\n"
     ]
    }
   ],
   "source": [
    "# Valores de Shapley para las funciones de valor propuestas\n",
    "Jugadores = [u for u in range(10)]\n",
    "Shapley_Values_Jugadores = {i:shapley_value(i,Jugadores,v) for i in Jugadores}\n",
    "Shapley_Values_Jugadores_Veto = {i:shapley_value(i,Jugadores,veto) for i in Jugadores}\n",
    "print(Shapley_Values_Jugadores)\n",
    "print(Shapley_Values_Jugadores_Veto)"
   ]
  },
  {
   "cell_type": "markdown",
   "metadata": {},
   "source": [
    " #### Implementación del  valor de Myerson"
   ]
  },
  {
   "cell_type": "code",
   "execution_count": 10,
   "metadata": {},
   "outputs": [],
   "source": [
    "# Función de valor en el juego cooperativo que tiene en cuenta la estructura de red\n",
    "def v_g(subset,net,value_fun):\n",
    "    G = nx.subgraph(net,subset)\n",
    "    Listado = list(nx.weakly_connected_components(G))\n",
    "    Listado = [list(i) for i in Listado]\n",
    "    #N = list(G.nodes)\n",
    "    N = list(net.nodes)\n",
    "    value = 0\n",
    "    for subset1 in Listado:\n",
    "        update = value_fun(subset1,N)\n",
    "        #print(subset1)\n",
    "        #print(update)\n",
    "        value += update    \n",
    "    return value "
   ]
  },
  {
   "cell_type": "code",
   "execution_count": 11,
   "metadata": {},
   "outputs": [],
   "source": [
    "def myerson_value(i,G,value_fun):\n",
    "    N = list(G.nodes)\n",
    "    M = N.copy()\n",
    "    M.pop(M.index(i))\n",
    "    subsets = []\n",
    "    for k in range(len(M)):\n",
    "        subsets +=[list(j) for j in it.combinations(M,k)]\n",
    "    mv = 0\n",
    "    l0 = len(N)\n",
    "    for subset in subsets:\n",
    "        l1 = len(subset)\n",
    "        sub1 = subset + [i]\n",
    "        #print(subset,type(subset))\n",
    "        #print(sub1)\n",
    "        #print('.'*30)\n",
    "        correccion = correciones(l1,l0)\n",
    "        diferencia = (v_g(sub1,G,value_fun) - v_g(subset,G,value_fun))\n",
    "        if diferencia<0:\n",
    "            print(v_g(sub1,G,value_fun))\n",
    "            print(v_g(subset,G,value_fun))\n",
    "            print(diferencia,subset,sub1,i)\n",
    "            raise Exception('Maluco')\n",
    "        mv += diferencia*correccion\n",
    "        #mv += (value_fun(sub1,N)-value_fun(subset,N))*correccion\n",
    "    return mv"
   ]
  },
  {
   "cell_type": "code",
   "execution_count": 12,
   "metadata": {},
   "outputs": [
    {
     "data": {
      "image/png": "[encoded data removed]",
      "text/plain": [
       "<Figure size 432x288 with 1 Axes>"
      ]
     },
     "metadata": {},
     "output_type": "display_data"
    }
   ],
   "source": [
    "# Propuesta de red\n",
    "G = nx.DiGraph()\n",
    "G.add_edges_from([(0,1),(1,0),(1,2),(2,3),(3,1),(5,4),(4,6),(6,7),(7,4),(6,5)])\n",
    "G.add_nodes_from([8,9])\n",
    "nx.draw(G)"
   ]
  },
  {
   "cell_type": "code",
   "execution_count": 13,
   "metadata": {},
   "outputs": [
    {
     "name": "stdout",
     "output_type": "stream",
     "text": [
      "{0: 0.0, 1: 0.0, 2: 0.0, 3: 0.0, 5: 0.0, 4: 0.0, 6: 0.0, 7: 0.0, 8: 0.0, 9: 0.0}\n",
      "{0: 0.0, 1: 0.0, 2: 0.0, 3: 0.0, 5: 0.0, 4: 0.0, 6: 0.0, 7: 0.0, 8: 0.0, 9: 0.0}\n"
     ]
    }
   ],
   "source": [
    "# Valores de Myerson para las funciones de valor propuestas\n",
    "Jugadores = list(G.nodes)\n",
    "Myerson_Values_Jugadores = {i:myerson_value(i,G,v) for i in Jugadores}\n",
    "Myerson_Values_Jugadores_Veto = {i:myerson_value(i,G,veto) for i in Jugadores}\n",
    "print(Myerson_Values_Jugadores)\n",
    "print(Myerson_Values_Jugadores_Veto)\n",
    "# ¿Por qué da esto?"
   ]
  },
  {
   "cell_type": "code",
   "execution_count": 14,
   "metadata": {},
   "outputs": [
    {
     "data": {
      "image/png": "[encoded data removed]",
      "text/plain": [
       "<Figure size 432x288 with 1 Axes>"
      ]
     },
     "metadata": {},
     "output_type": "display_data"
    }
   ],
   "source": [
    "# Unamos a 8 con 9 y a 9 con la coalición del jugador 1\n",
    "G.add_edges_from([(8,9),(9,1)])\n",
    "nx.draw(G)"
   ]
  },
  {
   "cell_type": "code",
   "execution_count": 15,
   "metadata": {},
   "outputs": [
    {
     "name": "stdout",
     "output_type": "stream",
     "text": [
      "{0: 0.06666666666666667, 1: 0.06666666666666667, 2: 0.06666666666666667, 3: 0.06666666666666667, 5: 0.0, 4: 0.0, 6: 0.0, 7: 0.0, 8: 0.06666666666666667, 9: 0.06666666666666667}\n",
      "{0: 0.06666666666666667, 1: 0.06666666666666667, 2: 0.06666666666666667, 3: 0.06666666666666667, 5: 0.0, 4: 0.0, 6: 0.0, 7: 0.0, 8: 0.06666666666666667, 9: 0.06666666666666667}\n"
     ]
    }
   ],
   "source": [
    "# Valores de Myerson para las funciones de valor propuestas\n",
    "Jugadores = list(G.nodes)\n",
    "Myerson_Values_Jugadores = {i:myerson_value(i,G,v) for i in Jugadores}\n",
    "Myerson_Values_Jugadores_Veto = {i:myerson_value(i,G,veto) for i in Jugadores}\n",
    "print(Myerson_Values_Jugadores)\n",
    "print(Myerson_Values_Jugadores_Veto)\n",
    "# ¿Por qué da esto?"
   ]
  }
 ],
 "metadata": {
  "kernelspec": {
   "display_name": "Python 3.10.5 64-bit",
   "language": "python",
   "name": "python3"
  },
  "language_info": {
   "codemirror_mode": {
    "name": "ipython",
    "version": 3
   },
   "file_extension": ".py",
   "mimetype": "text/x-python",
   "name": "python",
   "nbconvert_exporter": "python",
   "pygments_lexer": "ipython3",
   "version": "3.10.5"
  },
  "orig_nbformat": 4,
  "vscode": {
   "interpreter": {
    "hash": "54a3d53733bdb4b0f0358cf3d547bbcb79614b900270fd5b08862d484f5a5082"
   }
  }
 },
 "nbformat": 4,
 "nbformat_minor": 2
}
